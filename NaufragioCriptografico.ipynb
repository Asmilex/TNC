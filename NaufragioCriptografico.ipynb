{
 "cells": [
  {
   "cell_type": "markdown",
   "metadata": {},
   "source": [
    "# El notebook del superviviente del naufragio"
   ]
  },
  {
   "cell_type": "markdown",
   "metadata": {},
   "source": [
    "## Cifrado y descifrado de sistemas criptográficos"
   ]
  },
  {
   "cell_type": "code",
   "execution_count": 34,
   "metadata": {},
   "outputs": [],
   "source": [
    "def descifrar_RSA(n, d, criptograma):\n",
    "    return power_mod(criptograma, d, n)"
   ]
  },
  {
   "cell_type": "code",
   "execution_count": 35,
   "metadata": {},
   "outputs": [],
   "source": [
    "def cifrar_RSA(n, e, mensaje):\n",
    "    return power_mod(mensaje, e, n)"
   ]
  },
  {
   "cell_type": "code",
   "execution_count": 2,
   "metadata": {},
   "outputs": [],
   "source": [
    "def cifrar_ElGamal(g, k, a, p, m):\n",
    "    return [power_mod(g, k, p), (m * power_mod(g, a * k, p)).mod(p)]"
   ]
  },
  {
   "cell_type": "code",
   "execution_count": 3,
   "metadata": {},
   "outputs": [],
   "source": [
    "def descifrar_ElGamal(x, y, p, a):\n",
    "    return (y * power_mod(x, p - a - 1, p)).mod(p)"
   ]
  },
  {
   "cell_type": "markdown",
   "metadata": {},
   "source": [
    "## Ejercicios sueltos\n",
    "\n",
    "Las funciones siguen la siguiente nomenclatura:\n",
    "\n",
    "- Sistema criptográfico.\n",
    "- *Barra baja* parámetros del enunciado.\n",
    "- *Barra baja* respuestas posibles.\n",
    "\n",
    "\n",
    "Por ejemplo, `RSA_pqd` significa que estás tratando con el sistema RSA, y los parámetros que te han dado son `p, q, d`. Te escupe la solución buena. \n",
    "\n",
    "Otro ejemplo sería `RSA_nec_m`. RSA es el sistema, `n, e, c` la clave pública y el criptograma, y `m` las posibilidades que salen en el test. \n",
    "\n",
    "Los notebooks de Jupyter tienen autocompletado, pero la keybinding es diferente a la de otros editores. Cuando estés escribiendo, pulsa `tab` para ver la lista de opciones. "
   ]
  },
  {
   "cell_type": "markdown",
   "metadata": {},
   "source": [
    "### FCS"
   ]
  },
  {
   "cell_type": "markdown",
   "metadata": {},
   "source": [
    "$$\n",
    "\\begin{aligned}\n",
    "\\sqrt{a^2 + 1}              & = [a, 2a, 2a, \\dots]              \\\\\n",
    "\\sqrt{a^2 + 2}              & = [a, a, 2a, 2a, \\dots]           \\\\\n",
    "\\sqrt{a^2 - 1}              & = [a-1, 1, 2(a-1), \\dots]         \\\\\n",
    "\\sqrt{a^2 - 2}              & = [a-1, 1, a-2, 1, 2(a-1), \\dots] \\\\\n",
    "\\frac{a + \\sqrt{a^2 + 4}}{2} & = [a, \\dots] \n",
    "\\end{aligned}\n",
    "$$"
   ]
  },
  {
   "cell_type": "code",
   "execution_count": 4,
   "metadata": {},
   "outputs": [],
   "source": [
    "from enum import Enum\n",
    "class Tipo_FCS(Enum):\n",
    "    sqrt_a_mas_1    = 1\n",
    "    sqrt_a_mas_2    = 2\n",
    "    sqrt_a_menos_1  = 3\n",
    "    sqrt_a_menos_2  = 4\n",
    "    a_mas_sqrt_asq_ = 5\n",
    "    \n",
    "\n",
    "def FCS(tipo, a):\n",
    "    if tipo == Tipo_FCS.sqrt_a_mas_1:\n",
    "        return [a, 2*a, 2*a, '...']\n",
    "    \n",
    "    elif tipo == Tipo_FCS.sqrt_a_mas_2:\n",
    "        return [a, a, 2*a, 2*a, '...']\n",
    "    \n",
    "    elif tipo == Tipo_FCS.sqrt_a_menos_1:\n",
    "        return [a-1, 1, 2*(a-1), 1, 2*(a-1), '...']\n",
    "    \n",
    "    elif tipo == Tipo_FCS.sqrt_a_menos_2:\n",
    "        return [a-1, 1, a-2, 1, 2*(a-1), 1, a-2, 1, 2*(a-1), '...']\n",
    "    \n",
    "    elif tipo == Tipo_FCS.a_mas_sqrt_asq_:\n",
    "        return [a, '...']"
   ]
  },
  {
   "cell_type": "markdown",
   "metadata": {},
   "source": [
    "Ejercicio 2: $\\alpha = \\sqrt{2} \\Rightarrow$ puedes usar $\\sqrt{a^2 + 1}, a = 1$"
   ]
  },
  {
   "cell_type": "code",
   "execution_count": 5,
   "metadata": {},
   "outputs": [
    {
     "data": {
      "text/plain": [
       "[1, 2, 2, '...']"
      ]
     },
     "execution_count": 5,
     "metadata": {},
     "output_type": "execute_result"
    }
   ],
   "source": [
    "FCS(Tipo_FCS.sqrt_a_mas_1, 1)"
   ]
  },
  {
   "cell_type": "markdown",
   "metadata": {},
   "source": [
    "Ejercicio 3: $\\alpha = \\sqrt{3} \\Rightarrow$ puedes usar $\\sqrt{a^2 - 1}, a = 2$"
   ]
  },
  {
   "cell_type": "code",
   "execution_count": 6,
   "metadata": {},
   "outputs": [
    {
     "data": {
      "text/plain": [
       "[1, 1, 2, 1, 2, '...']"
      ]
     },
     "execution_count": 6,
     "metadata": {},
     "output_type": "execute_result"
    }
   ],
   "source": [
    "FCS(Tipo_FCS.sqrt_a_menos_1, 2)"
   ]
  },
  {
   "cell_type": "markdown",
   "metadata": {},
   "source": [
    "Ejercicio 4: $\\alpha = \\sqrt{3} \\Rightarrow$ puedes usar $\\frac{a + \\sqrt{a^2 + 4}}{2}, a = 1$. \n",
    "\n",
    "Por cierto, $\\Phi = \\frac{1 + \\sqrt{5}}{2}$ :)"
   ]
  },
  {
   "cell_type": "code",
   "execution_count": 7,
   "metadata": {},
   "outputs": [
    {
     "data": {
      "text/plain": [
       "[1, '...']"
      ]
     },
     "execution_count": 7,
     "metadata": {},
     "output_type": "execute_result"
    }
   ],
   "source": [
    "FCS(Tipo_FCS.a_mas_sqrt_asq_, 1)"
   ]
  },
  {
   "cell_type": "markdown",
   "metadata": {},
   "source": [
    "### RSA"
   ]
  },
  {
   "cell_type": "code",
   "execution_count": 37,
   "metadata": {},
   "outputs": [],
   "source": [
    "def RSA_pqd(p, q, d):\n",
    "    return {\n",
    "        \"n\": p * q,\n",
    "        \"e\": inverse_mod(d, euler_phi(p*q))\n",
    "    }"
   ]
  },
  {
   "cell_type": "code",
   "execution_count": 38,
   "metadata": {},
   "outputs": [
    {
     "data": {
      "text/plain": [
       "{'e': 17, 'n': 77}"
      ]
     },
     "execution_count": 38,
     "metadata": {},
     "output_type": "execute_result"
    }
   ],
   "source": [
    "# Ejercicio 6\n",
    "\n",
    "RSA_pqd(11, 7, 53)"
   ]
  },
  {
   "cell_type": "code",
   "execution_count": 39,
   "metadata": {},
   "outputs": [],
   "source": [
    "def RSA_nec_m(n, e, criptograma, mensaje):\n",
    "    \"\"\"En mensaje deben aparecer las soluciones del ejercicio\"\"\"\n",
    "    return power_mod(criptograma, e, n) == mensaje"
   ]
  },
  {
   "cell_type": "code",
   "execution_count": 40,
   "metadata": {},
   "outputs": [
    {
     "data": {
      "text/plain": [
       "True"
      ]
     },
     "execution_count": 40,
     "metadata": {},
     "output_type": "execute_result"
    }
   ],
   "source": [
    "# Ejercicio 7\n",
    "\n",
    "RSA_nec_m(n = 65, e = 7, criptograma = 31, mensaje = 21)"
   ]
  },
  {
   "cell_type": "code",
   "execution_count": 13,
   "metadata": {},
   "outputs": [
    {
     "data": {
      "text/plain": [
       "30"
      ]
     },
     "execution_count": 13,
     "metadata": {},
     "output_type": "execute_result"
    }
   ],
   "source": [
    "# Ejercicio 32\n",
    "\n",
    "RSA_nec(n = 119, e = 5, criptograma = 81)"
   ]
  },
  {
   "cell_type": "code",
   "execution_count": 14,
   "metadata": {},
   "outputs": [],
   "source": [
    "def RSA_ne_pqd(n, e, p, q, d):\n",
    "    \"\"\"Comprueba que las claves privadas son correctas\"\"\"\n",
    "    return n == p*q and (d*e).mod(euler_phi(n)) == 1"
   ]
  },
  {
   "cell_type": "code",
   "execution_count": 15,
   "metadata": {},
   "outputs": [
    {
     "data": {
      "text/plain": [
       "[True, False, False, False]"
      ]
     },
     "execution_count": 15,
     "metadata": {},
     "output_type": "execute_result"
    }
   ],
   "source": [
    "# Ejercicio 31\n",
    "\n",
    "[RSA_ne_pqd(299, 5, 13, 23, 53), \n",
    " RSA_ne_pqd(299, 5, 23, 13, 60), \n",
    " RSA_ne_pqd(299, 5, 11, 29, 53), \n",
    " RSA_ne_pqd(299, 5, 29, 11, 60)]"
   ]
  },
  {
   "cell_type": "markdown",
   "metadata": {},
   "source": [
    "### ElGamal"
   ]
  },
  {
   "cell_type": "code",
   "execution_count": 16,
   "metadata": {},
   "outputs": [],
   "source": [
    "def ElGamal_pgam_xy(p, g, a, m, x, y):\n",
    "    return descifrar_ElGamal(x, y, p, a) == m"
   ]
  },
  {
   "cell_type": "code",
   "execution_count": 17,
   "metadata": {},
   "outputs": [
    {
     "data": {
      "text/plain": [
       "[False, True, True, True]"
      ]
     },
     "execution_count": 17,
     "metadata": {},
     "output_type": "execute_result"
    }
   ],
   "source": [
    "# Ejercicio 9\n",
    "\n",
    "[ElGamal_pgam_xy(p = 17, g = 3, a = 4, m = 10, x = 14, y = 17),\n",
    " ElGamal_pgam_xy(p = 17, g = 3, a = 4, m = 10, x = 10, y = 6 ),\n",
    " ElGamal_pgam_xy(p = 17, g = 3, a = 4, m = 10, x = 11, y = 6 ),\n",
    " ElGamal_pgam_xy(p = 17, g = 3, a = 4, m = 10, x = 15, y = 7 )]"
   ]
  },
  {
   "cell_type": "code",
   "execution_count": 18,
   "metadata": {},
   "outputs": [
    {
     "data": {
      "text/plain": [
       "[True, True, True, False]"
      ]
     },
     "execution_count": 18,
     "metadata": {},
     "output_type": "execute_result"
    }
   ],
   "source": [
    "# Ejercicio 34\n",
    "\n",
    "[ElGamal_pgam_xy(p = 23, g = 5, a = 4, m = 10, x = 22, y = 10),\n",
    " ElGamal_pgam_xy(p = 23, g = 5, a = 4, m = 10, x = 21, y = 22), \n",
    " ElGamal_pgam_xy(p = 23, g = 5, a = 4, m = 10, x = 4,  y = 7 ), \n",
    " ElGamal_pgam_xy(p = 23, g = 5, a = 4, m = 10, x = 14, y = 7 )]"
   ]
  },
  {
   "cell_type": "markdown",
   "metadata": {},
   "source": [
    "### Diffie-Hellmann (DH)"
   ]
  },
  {
   "cell_type": "markdown",
   "metadata": {},
   "source": [
    "Los de Diffie-Hellmann funcionan un poco diferentes. En la teoría te dicen que Alice y Bob comparten las claves \n",
    "\n",
    "$$\n",
    "\\begin{align}\n",
    "\\text{Alice} & \\rightsquigarrow (a, g^a \\bmod p) \\\\\n",
    "\\text{Bob}   & \\rightsquigarrow (b, g^b \\bmod p)\n",
    "\\end{align}\n",
    "$$\n",
    "\n",
    "pero en los ejercicios te los parámetros $(p, g, \\text{otra cosa})$. Esa *otra cosa* es $g^a \\bmod p$ o $g^b \\bmod p$ dependiendo de si se trata de Alice o Bob. En las funciones, la clave compartida es $g^{ab}\\bmod p$"
   ]
  },
  {
   "cell_type": "code",
   "execution_count": 19,
   "metadata": {},
   "outputs": [],
   "source": [
    "def DH_pgAliceBob(p, g, gamodp, gbmodp):   \n",
    "    # Encontrar primero `a` y `b`. \n",
    "    # En este método comprobaremos que, en efecto, sale lo que tiene que salir\n",
    "    \n",
    "    a = 0\n",
    "    for i in range(2, p-1):\n",
    "        if power_mod(g, i, p) == gamodp:\n",
    "            a = i\n",
    "    \n",
    "    b = 0\n",
    "    for i in range(2, p-1):\n",
    "        if power_mod(g, i, p) == gbmodp:\n",
    "            b = i\n",
    "\n",
    "    if power_mod(gamodp, b, p) != power_mod(gbmodp, a, p):\n",
    "        print(\"Algo ha salido mal. Ups\")\n",
    "    else:\n",
    "        return power_mod(gamodp, b, p)\n",
    "\n",
    "def DH_pgAliceBob_clave(p, g, gamodp, gbmodp, clave):\n",
    "    a = 0\n",
    "    \n",
    "    for i in range(2, p-1):\n",
    "        if power_mod(g, i, p) == gamodp:\n",
    "            a = i\n",
    "    \n",
    "    return power_mod(gbmodp, a, p) == clave"
   ]
  },
  {
   "cell_type": "code",
   "execution_count": 20,
   "metadata": {},
   "outputs": [
    {
     "data": {
      "text/plain": [
       "32"
      ]
     },
     "execution_count": 20,
     "metadata": {},
     "output_type": "execute_result"
    }
   ],
   "source": [
    "# Ejercicio 46\n",
    "DH_pgAliceBob(p = 73, g = 5, gamodp = 37, gbmodp = 12)"
   ]
  },
  {
   "cell_type": "code",
   "execution_count": 21,
   "metadata": {},
   "outputs": [
    {
     "data": {
      "text/plain": [
       "[False, True, False, False]"
      ]
     },
     "execution_count": 21,
     "metadata": {},
     "output_type": "execute_result"
    }
   ],
   "source": [
    "# Ejercicio 46\n",
    "[DH_pgAliceBob_clave(p = 73, g = 5, gamodp = 37, gbmodp = 12, clave = 12), \n",
    " DH_pgAliceBob_clave(p = 73, g = 5, gamodp = 37, gbmodp = 12, clave = 32), \n",
    " DH_pgAliceBob_clave(p = 73, g = 5, gamodp = 37, gbmodp = 12, clave = 52), \n",
    " DH_pgAliceBob_clave(p = 73, g = 5, gamodp = 37, gbmodp = 12, clave = 72)]"
   ]
  },
  {
   "cell_type": "code",
   "execution_count": 22,
   "metadata": {},
   "outputs": [],
   "source": [
    "def DH_pgAliceCompartida_Bob(p, g, gamodp, compartida, b):\n",
    "    return power_mod(gamodp, b, p) == compartida"
   ]
  },
  {
   "cell_type": "code",
   "execution_count": 23,
   "metadata": {},
   "outputs": [
    {
     "data": {
      "text/plain": [
       "[False, False, False, True]"
      ]
     },
     "execution_count": 23,
     "metadata": {},
     "output_type": "execute_result"
    }
   ],
   "source": [
    "# Ejercicio 47\n",
    "[DH_pgAliceCompartida_Bob(p = 37, g = 2, gamodp = 3, compartida = 10, b = 0 ), \n",
    " DH_pgAliceCompartida_Bob(p = 37, g = 2, gamodp = 3, compartida = 10, b = 10), \n",
    " DH_pgAliceCompartida_Bob(p = 37, g = 2, gamodp = 3, compartida = 10, b = 20), \n",
    " DH_pgAliceCompartida_Bob(p = 37, g = 2, gamodp = 3, compartida = 10, b = 30)]"
   ]
  },
  {
   "cell_type": "markdown",
   "metadata": {},
   "source": [
    "### Silver-Pohlig-Hellmann"
   ]
  },
  {
   "cell_type": "code",
   "execution_count": 24,
   "metadata": {},
   "outputs": [],
   "source": [
    "def SPH_raices(orden, respuesta = None):\n",
    "    factores_n = list(factor(orden))\n",
    "    primos_factores = [_factor[0] for _factor in factores_n]\n",
    "    \n",
    "    if not respuesta:\n",
    "        return sum(primos_factores)\n",
    "    else:\n",
    "        return sum(primos_factores) == respuesta\n"
   ]
  },
  {
   "cell_type": "code",
   "execution_count": 25,
   "metadata": {},
   "outputs": [
    {
     "data": {
      "text/plain": [
       "14"
      ]
     },
     "execution_count": 25,
     "metadata": {},
     "output_type": "execute_result"
    }
   ],
   "source": [
    "# Ejercicio 48\n",
    "SPH_raices(orden = 700)"
   ]
  },
  {
   "cell_type": "code",
   "execution_count": 26,
   "metadata": {},
   "outputs": [
    {
     "data": {
      "text/plain": [
       "[False, False, True, False]"
      ]
     },
     "execution_count": 26,
     "metadata": {},
     "output_type": "execute_result"
    }
   ],
   "source": [
    "# Ejercicio 48\n",
    "[SPH_raices(orden = 700, respuesta = 4 ), \n",
    " SPH_raices(orden = 700, respuesta = 9 ), \n",
    " SPH_raices(orden = 700, respuesta = 14), \n",
    " SPH_raices(orden = 700, respuesta = 19)]"
   ]
  },
  {
   "cell_type": "markdown",
   "metadata": {},
   "source": [
    "### Otros"
   ]
  },
  {
   "cell_type": "code",
   "execution_count": 27,
   "metadata": {},
   "outputs": [],
   "source": [
    "def variables_babystep_giantstep(orden_b):\n",
    "    #    tabla (elementos: f = ceil(sqrt(orden de b))) \n",
    "    #  + b^(-f) \n",
    "    #  + h_i\n",
    "    return ceil(sqrt(orden_b)) + 2"
   ]
  },
  {
   "cell_type": "code",
   "execution_count": 29,
   "metadata": {},
   "outputs": [
    {
     "data": {
      "text/plain": [
       "13"
      ]
     },
     "execution_count": 29,
     "metadata": {},
     "output_type": "execute_result"
    }
   ],
   "source": [
    "# Ejercicio 8\n",
    "variables_babystep_giantstep(101)"
   ]
  },
  {
   "cell_type": "code",
   "execution_count": 30,
   "metadata": {},
   "outputs": [],
   "source": [
    "def enteros_raiz_cuadrada(p, a):\n",
    "    return power_mod(a, (p-1)//2, p) != 1"
   ]
  },
  {
   "cell_type": "code",
   "execution_count": 31,
   "metadata": {},
   "outputs": [
    {
     "data": {
      "text/plain": [
       "[False, True, False, False]"
      ]
     },
     "execution_count": 31,
     "metadata": {},
     "output_type": "execute_result"
    }
   ],
   "source": [
    "# Ejercicio 53\n",
    "[enteros_raiz_cuadrada(p = 53, a = 46), \n",
    " enteros_raiz_cuadrada(p = 53, a = 30),\n",
    " enteros_raiz_cuadrada(p = 53, a = 42),\n",
    " enteros_raiz_cuadrada(p = 53, a = 11)]"
   ]
  },
  {
   "cell_type": "code",
   "execution_count": 33,
   "metadata": {},
   "outputs": [
    {
     "data": {
      "text/plain": [
       "[False, False, True, False]"
      ]
     },
     "execution_count": 33,
     "metadata": {},
     "output_type": "execute_result"
    }
   ],
   "source": [
    "# Ejercicio 54\n",
    "\n",
    "# Este tiene tela. Se supone que lo tienes que sacar si entiendes lo que hace \n",
    "# el algoritmo 1 (Raíces cuadradas módulo p) del tema 03_RSA. \n",
    "# En esencia, es comprobar cuál de todos los $gamma$ no es residuo cuadrático\n",
    "\n",
    "[enteros_raiz_cuadrada(p = 37, a = 4), \n",
    " enteros_raiz_cuadrada(p = 37, a = 26),\n",
    " enteros_raiz_cuadrada(p = 37, a = 18),\n",
    " enteros_raiz_cuadrada(p = 37, a = 10)]"
   ]
  },
  {
   "cell_type": "code",
   "execution_count": null,
   "metadata": {},
   "outputs": [],
   "source": []
  }
 ],
 "metadata": {
  "kernelspec": {
   "display_name": "SageMath 8.2",
   "language": "",
   "name": "sagemath"
  },
  "language_info": {
   "codemirror_mode": {
    "name": "ipython",
    "version": 2
   },
   "file_extension": ".py",
   "mimetype": "text/x-python",
   "name": "python",
   "nbconvert_exporter": "python",
   "pygments_lexer": "ipython2",
   "version": "2.7.14"
  }
 },
 "nbformat": 4,
 "nbformat_minor": 2
}
