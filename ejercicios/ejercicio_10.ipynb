{
 "cells": [
  {
   "cell_type": "markdown",
   "metadata": {},
   "source": [
    "# Ejercicio 10\n",
    "\n",
    "Toma tu número $p$ de la lista publicada para este ejercicio. \n",
    "\n",
    "1. Calcula el símbolo de Jacobi $\\left(\\frac{-11}{p}\\right)$. Si sale $1$, usa el algoritmo de Tonelli-Shanks para hallar las soluciones a la congruencia $x^2 \\equiv -11 \\pmod{p}$.\n",
    "2. Usa una de esas soluciones para factorizar el ideal principal $(p) = \\left(p, n + \\sqrt{-11}\\right)\\left(p, n - \\sqrt{-11}\\right)$ como producto de dos ideales.\n",
    "3. Aplica el algoritmo de Cornachia-Smith modificado a $2p$ y $n$ para encontrar una solución a la ecuación diofántica $4p = x^2 + 11y^2$, y úsala para encontrar una factorización de $p$ en a.e. del cuerpo $\\mathbb{Q}\\left[\\sqrt{p}\\right]$.\n",
    "4. ¿Son ideales principales tus ideales $\\left(p, n + \\sqrt{-11}\\right)$ y $\\left(p, n + \\sqrt{-11}\\right)$?"
   ]
  },
  {
   "cell_type": "code",
   "execution_count": 4,
   "metadata": {},
   "outputs": [],
   "source": [
    "p = 77432081\n",
    "a = -11"
   ]
  },
  {
   "cell_type": "markdown",
   "metadata": {},
   "source": [
    "## Apartado 1"
   ]
  },
  {
   "cell_type": "code",
   "execution_count": 5,
   "metadata": {},
   "outputs": [
    {
     "data": {
      "text/plain": [
       "1"
      ]
     },
     "execution_count": 5,
     "metadata": {},
     "output_type": "execute_result"
    }
   ],
   "source": [
    "jacobi_symbol(-11, p)"
   ]
  },
  {
   "cell_type": "markdown",
   "metadata": {},
   "source": [
    "(comprobaciones de que p es primo en julia)"
   ]
  },
  {
   "cell_type": "code",
   "execution_count": 6,
   "metadata": {
    "scrolled": true
   },
   "outputs": [
    {
     "data": {
      "text/plain": [
       "1"
      ]
     },
     "execution_count": 6,
     "metadata": {},
     "output_type": "execute_result"
    }
   ],
   "source": [
    "p.mod(8)"
   ]
  },
  {
   "cell_type": "markdown",
   "metadata": {},
   "source": [
    "Como $p \\equiv 1 \\pmod{8}$, tenemos que usar el algoritmo especial."
   ]
  },
  {
   "cell_type": "markdown",
   "metadata": {},
   "source": [
    "$$p - 1 = 2^4\\cdot 5 \\cdot 11 \\cdot 87991 = 2^4 \\cdot 4839505\\\\ $$"
   ]
  },
  {
   "cell_type": "code",
   "execution_count": 7,
   "metadata": {},
   "outputs": [],
   "source": [
    "q = 4839505\n",
    "e = 4-1"
   ]
  },
  {
   "cell_type": "code",
   "execution_count": 8,
   "metadata": {},
   "outputs": [
    {
     "data": {
      "text/plain": [
       "3"
      ]
     },
     "execution_count": 8,
     "metadata": {},
     "output_type": "execute_result"
    }
   ],
   "source": [
    "n = 1\n",
    "while jacobi_symbol(n, p) != -1:\n",
    "    n = n + 1 \n",
    "n"
   ]
  },
  {
   "cell_type": "markdown",
   "metadata": {},
   "source": [
    "El grupo de Sylow es $\\mathbb{Z}_{2^n} = \\mathbb{Z}_{2^3}$"
   ]
  },
  {
   "cell_type": "code",
   "execution_count": 9,
   "metadata": {},
   "outputs": [
    {
     "data": {
      "text/plain": [
       "77354166"
      ]
     },
     "execution_count": 9,
     "metadata": {},
     "output_type": "execute_result"
    }
   ],
   "source": [
    "z = (n^q).mod(p)\n",
    "z"
   ]
  },
  {
   "cell_type": "code",
   "execution_count": 10,
   "metadata": {},
   "outputs": [
    {
     "data": {
      "text/plain": [
       "8112714"
      ]
     },
     "execution_count": 10,
     "metadata": {},
     "output_type": "execute_result"
    }
   ],
   "source": [
    "t = pow(a, q, p)\n",
    "t"
   ]
  },
  {
   "cell_type": "code",
   "execution_count": 80,
   "metadata": {},
   "outputs": [
    {
     "name": "stdout",
     "output_type": "stream",
     "text": [
      "e = 4\n",
      "q = 4839505\n",
      "t mod p = 8112714\n",
      "z mod p = 77354166\n",
      "r mod p = 14183777\n",
      "\n",
      "Inicio de bucle:\n",
      "\tOrden de t = 8 => i = 3\n",
      "\tb mod p = 77354166\n",
      "\tb^2 mod p = 31044907\n",
      "\tr_1 mod p = 59107158\n",
      "\tt_1 mod p = 1\n",
      "\tOrden de t_1 = 1\n"
     ]
    },
    {
     "data": {
      "text/plain": [
       "[59107158, 18324923]"
      ]
     },
     "execution_count": 80,
     "metadata": {},
     "output_type": "execute_result"
    }
   ],
   "source": [
    "def orden(t, p):\n",
    "    for i in range(1, p):\n",
    "        if t.powermod(i, p) == 1:\n",
    "            return i\n",
    "    \n",
    "    return 0\n",
    "\n",
    "def calcular_z(p):\n",
    "    n = 1\n",
    "    while jacobi_symbol(n, p) != -1:\n",
    "        n = n + 1 \n",
    "    \n",
    "    e = factor(p-1)[0][1]\n",
    "    q = (p-1)//2^e\n",
    "    z = (n^q).mod(p)\n",
    "    \n",
    "    return z\n",
    "    \n",
    "\n",
    "def tonelli_shanks(a, p):\n",
    "    e = factor(p-1)[0][1]\n",
    "    print(\"e = \" + str(e))\n",
    "    q = (p-1)//2^e\n",
    "    print(\"q = \" + str(q))\n",
    "    t = a^q\n",
    "    print(\"t mod p = \" + str(t.mod(p)))\n",
    "    z = calcular_z(p)\n",
    "    print(\"z mod p = \" + str(z))\n",
    "    r = a.powermod((q+1)//2, p)\n",
    "    print(\"r mod p = \" + str(r))\n",
    "    r_1 = r\n",
    "    \n",
    "    while t.mod(p) != 1:\n",
    "        print(\"\\nInicio de bucle:\")\n",
    "        i = factor(orden(t, p))[0][1]\n",
    "        print(\"\\tOrden de t = \" + str(orden(t, p)) + \" => \" + \"i = \" + str(i))\n",
    "        b = z.powermod(2^(e - i - 1), p)\n",
    "        print(\"\\tb mod p = \" + str(b))\n",
    "        b_cuadrado = b.powermod(2, p)\n",
    "        print(\"\\tb^2 mod p = \" + str(b_cuadrado))\n",
    "        r_1 = (r_1 * b).mod(p)\n",
    "        print(\"\\tr_1 mod p = \" + str(r_1))\n",
    "        t_1 = (t * b_cuadrado).mod(p)\n",
    "        print(\"\\tt_1 mod p = \" + str(t_1))\n",
    "        orden(t_1, p)\n",
    "        print(\"\\tOrden de t_1 = \" + str(orden(t_1, p)))\n",
    "        \n",
    "\n",
    "        t = t_1\n",
    "    \n",
    "    x_1 = r_1.mod(p)\n",
    "    x_2 = (p - x_1).mod(p)\n",
    "    \n",
    "    return [x_1, x_2]\n",
    "\n",
    "soluciones = tonelli_shanks(a, p)\n",
    "soluciones"
   ]
  },
  {
   "cell_type": "code",
   "execution_count": 85,
   "metadata": {},
   "outputs": [
    {
     "name": "stdout",
     "output_type": "stream",
     "text": [
      "p - 11 = 77432070\n",
      "¿x^2 === -11 mod p?\n",
      "77432070\n",
      "77432070\n"
     ]
    }
   ],
   "source": [
    "print(\"p - 11 = \" + str(p + a))\n",
    "print(\"¿x^2 === -11 mod p?\")\n",
    "for sol in soluciones:\n",
    "    print(sol.powermod(2, p))"
   ]
  },
  {
   "cell_type": "markdown",
   "metadata": {},
   "source": [
    "## Apartado 2"
   ]
  },
  {
   "cell_type": "markdown",
   "metadata": {},
   "source": [
    "Nos tomamos la solución impar $n = 18324923$."
   ]
  },
  {
   "cell_type": "code",
   "execution_count": 86,
   "metadata": {},
   "outputs": [],
   "source": [
    "n = 18324923"
   ]
  },
  {
   "cell_type": "markdown",
   "metadata": {},
   "source": [
    "Puesto que $p$ es un primo impar y no divide a $a = -11$, entonces se tiene la descomposición\n",
    "\n",
    "$$\n",
    "\\begin{aligned}\n",
    "(p) & = \\left(p, n + \\sqrt{a}\\right)\\left(p, n - \\sqrt{a}\\right) = \\\\ \n",
    "    & = \\left(77432081, 18324923 + \\sqrt{-11}\\right)\\left(77432081, 18324923 - \\sqrt{-11}\\right)\n",
    "\\end{aligned}\n",
    "$$"
   ]
  },
  {
   "cell_type": "markdown",
   "metadata": {},
   "source": [
    "## Apartado 3"
   ]
  },
  {
   "cell_type": "markdown",
   "metadata": {},
   "source": [
    "Aplicando el algoritmo de Cornacchia-Smith modificado, obtenemos"
   ]
  },
  {
   "cell_type": "code",
   "execution_count": 153,
   "metadata": {},
   "outputs": [
    {
     "name": "stdout",
     "output_type": "stream",
     "text": [
      "[1] 154864162 = 8*18324923 + 8264778\n",
      "[2] 18324923 = 2*8264778 + 1795367\n",
      "[3] 8264778 = 4*1795367 + 1083310\n",
      "[4] 1795367 = 1*1083310 + 712057\n",
      "[5] 1083310 = 1*712057 + 371253\n",
      "[6] 712057 = 1*371253 + 340804\n",
      "[7] 371253 = 1*340804 + 30449\n",
      "[8] 340804 = 11*30449 + 5865\n"
     ]
    },
    {
     "data": {
      "text/plain": [
       "5865"
      ]
     },
     "execution_count": 153,
     "metadata": {},
     "output_type": "execute_result"
    }
   ],
   "source": [
    "def cornacchia_smith_modificado(p, n):\n",
    "    siguiente_Div = 2*p\n",
    "    siguiente_div = n\n",
    "    \n",
    "    resto = 2*p\n",
    "    i = 1\n",
    "    \n",
    "    while not resto < 2*sqrt(p):\n",
    "        cociente, resto = divmod(siguiente_Div, siguiente_div)\n",
    "        print(\"[\" + str(i) + \"] \" + str(siguiente_Div) + \" = \" + str(cociente) + \"*\" + str(siguiente_div) + \" + \" + str(resto))\n",
    "\n",
    "        siguiente_Div = siguiente_div\n",
    "        siguiente_div = resto\n",
    "        i = i + 1\n",
    "        \n",
    "    return resto    \n",
    "    \n",
    "a = cornacchia_smith_modificado(p, n)\n",
    "a\n"
   ]
  },
  {
   "cell_type": "markdown",
   "metadata": {},
   "source": [
    "Tras $8$ divisiones, obtenemos el resto $x = 5865$. Si despejamos de la ecuación $4p = x^2 + 11y^2$, obtenemos \n",
    "\n",
    "$$\n",
    "y = \\sqrt{\\frac{4p - x^2}{11}}\n",
    "$$"
   ]
  },
  {
   "cell_type": "code",
   "execution_count": 161,
   "metadata": {},
   "outputs": [
    {
     "data": {
      "text/plain": [
       "5003"
      ]
     },
     "execution_count": 161,
     "metadata": {},
     "output_type": "execute_result"
    }
   ],
   "source": [
    "b = sqrt((4*p - a^2)/11)\n",
    "b"
   ]
  },
  {
   "cell_type": "code",
   "execution_count": 163,
   "metadata": {},
   "outputs": [
    {
     "data": {
      "text/plain": [
       "True"
      ]
     },
     "execution_count": 163,
     "metadata": {},
     "output_type": "execute_result"
    }
   ],
   "source": [
    "4*p == a^2 + 11 * b^2"
   ]
  },
  {
   "cell_type": "markdown",
   "metadata": {},
   "source": [
    "Esto nos da la factorización\n",
    "\n",
    "$$\n",
    "\\begin{aligned}\n",
    "p & = \\left(\\frac{a + b\\sqrt{-11}}{2}\\right)\\left(\\frac{a - b\\sqrt{-11}}{2}\\right) = \\\\\n",
    "  & = \\left(\\frac{5865 + 5003\\sqrt{-11}}{2}\\right)\\left(\\frac{5865 - 5003\\sqrt{-11}}{2}\\right)\n",
    "\\end{aligned}\n",
    "$$"
   ]
  },
  {
   "cell_type": "markdown",
   "metadata": {},
   "source": [
    "## Apartado 4"
   ]
  },
  {
   "cell_type": "markdown",
   "metadata": {},
   "source": [
    "Los ideales obtenidos son DIP, puesto que aplicando el teorema 17, se tiene que $m = -11$ "
   ]
  },
  {
   "cell_type": "markdown",
   "metadata": {},
   "source": [
    "## Temporal"
   ]
  },
  {
   "cell_type": "code",
   "execution_count": 8,
   "metadata": {},
   "outputs": [
    {
     "data": {
      "text/plain": [
       "77646352"
      ]
     },
     "execution_count": 8,
     "metadata": {},
     "output_type": "execute_result"
    }
   ],
   "source": [
    "2^4 * 4852897"
   ]
  },
  {
   "cell_type": "code",
   "execution_count": 9,
   "metadata": {},
   "outputs": [
    {
     "data": {
      "text/plain": [
       "4839505"
      ]
     },
     "execution_count": 9,
     "metadata": {},
     "output_type": "execute_result"
    }
   ],
   "source": [
    " 5* 11* 87991"
   ]
  },
  {
   "cell_type": "code",
   "execution_count": 11,
   "metadata": {},
   "outputs": [
    {
     "data": {
      "text/plain": [
       "77432080"
      ]
     },
     "execution_count": 11,
     "metadata": {},
     "output_type": "execute_result"
    }
   ],
   "source": [
    "2^4 * 4839505 "
   ]
  },
  {
   "cell_type": "code",
   "execution_count": 66,
   "metadata": {},
   "outputs": [
    {
     "data": {
      "text/plain": [
       "(70332671, 77646342)"
      ]
     },
     "execution_count": 66,
     "metadata": {},
     "output_type": "execute_result"
    }
   ],
   "source": [
    "34279617.powermod(2, p), 77646353 - 11"
   ]
  },
  {
   "cell_type": "code",
   "execution_count": 76,
   "metadata": {},
   "outputs": [
    {
     "name": "stdout",
     "output_type": "stream",
     "text": [
      "e = 3\n",
      "q = 5\n",
      "t mod p = 9\n",
      "z mod p = 38\n",
      "r mod p = 2\n",
      "\n",
      "Inicio de bucle:\n",
      "\tOrden de t = 4 => i = 2\n",
      "\tb mod p = 38\n",
      "\tb^2 mod p = 9\n",
      "\tr_1 mod p = 35\n",
      "\tt_1 mod p = 40\n",
      "\tOrden de t_1 = 2\n",
      "\n",
      "Inicio de bucle:\n",
      "\tOrden de t = 2 => i = 1\n",
      "\tb mod p = 9\n",
      "\tb^2 mod p = 40\n",
      "\tr_1 mod p = 28\n",
      "\tt_1 mod p = 1\n",
      "\tOrden de t_1 = 1\n"
     ]
    },
    {
     "data": {
      "text/plain": [
       "[28, 13]"
      ]
     },
     "execution_count": 76,
     "metadata": {},
     "output_type": "execute_result"
    }
   ],
   "source": [
    "tonelli_shanks(5, 41) # https://www.wikiwand.com/en/Tonelli%E2%80%93Shanks_algorithm"
   ]
  },
  {
   "cell_type": "code",
   "execution_count": 77,
   "metadata": {},
   "outputs": [
    {
     "name": "stdout",
     "output_type": "stream",
     "text": [
      "e = 4\n",
      "q = 4852897\n",
      "t mod p = 62015690\n",
      "z mod p = 20309725\n",
      "r mod p = 50980879\n",
      "\n",
      "Inicio de bucle:\n",
      "\tOrden de t = 8 => i = 3\n",
      "\tb mod p = 20309725\n",
      "\tb^2 mod p = 15630663\n",
      "\tr_1 mod p = 37786927\n",
      "\tt_1 mod p = 40334463\n",
      "\tOrden de t_1 = 4\n",
      "\n",
      "Inicio de bucle:\n",
      "\tOrden de t = 4 => i = 2\n",
      "\tb mod p = 15630663\n",
      "\tb^2 mod p = 37311890\n",
      "\tr_1 mod p = 34279617\n",
      "\tt_1 mod p = 1\n",
      "\tOrden de t_1 = 1\n"
     ]
    },
    {
     "data": {
      "text/plain": [
       "[34279617, 43366736]"
      ]
     },
     "execution_count": 77,
     "metadata": {},
     "output_type": "execute_result"
    }
   ],
   "source": [
    "tonelli_shanks(a, 77646353) # la muchacha de Wuolah"
   ]
  },
  {
   "cell_type": "code",
   "execution_count": 79,
   "metadata": {},
   "outputs": [
    {
     "name": "stdout",
     "output_type": "stream",
     "text": [
      "e = 4\n",
      "q = 1700871\n",
      "t mod p = 4653122\n",
      "z mod p = 24658840\n",
      "r mod p = 3595104\n",
      "\n",
      "Inicio de bucle:\n",
      "\tOrden de t = 4 => i = 2\n",
      "\tb mod p = 6048857\n",
      "\tb^2 mod p = 22560815\n",
      "\tr_1 mod p = 21148483\n",
      "\tt_1 mod p = 1\n",
      "\tOrden de t_1 = 1\n"
     ]
    },
    {
     "data": {
      "text/plain": [
       "[21148483, 6065454]"
      ]
     },
     "execution_count": 79,
     "metadata": {},
     "output_type": "execute_result"
    }
   ],
   "source": [
    "tonelli_shanks(-11, 27213937) # eaznar, Descomposición de primos en c.c."
   ]
  },
  {
   "cell_type": "code",
   "execution_count": 168,
   "metadata": {},
   "outputs": [],
   "source": [
    "p_alba = 77646353\n",
    "n_alba = 34279617"
   ]
  },
  {
   "cell_type": "code",
   "execution_count": 169,
   "metadata": {},
   "outputs": [],
   "source": [
    "p_profesor = 27213937\n",
    "n_profesor = 21148483"
   ]
  },
  {
   "cell_type": "code",
   "execution_count": 170,
   "metadata": {},
   "outputs": [
    {
     "name": "stdout",
     "output_type": "stream",
     "text": [
      "[1] 54427874 = 2*21148483 + 12130908\n",
      "[2] 21148483 = 1*12130908 + 9017575\n",
      "[3] 12130908 = 1*9017575 + 3113333\n",
      "[4] 9017575 = 2*3113333 + 2790909\n",
      "[5] 3113333 = 1*2790909 + 322424\n",
      "[6] 2790909 = 8*322424 + 211517\n",
      "[7] 322424 = 1*211517 + 110907\n",
      "[8] 211517 = 1*110907 + 100610\n",
      "[9] 110907 = 1*100610 + 10297\n"
     ]
    },
    {
     "data": {
      "text/plain": [
       "10297"
      ]
     },
     "execution_count": 170,
     "metadata": {},
     "output_type": "execute_result"
    }
   ],
   "source": [
    "cornacchia_smith_modificado(p_profesor, n_profesor)\n"
   ]
  },
  {
   "cell_type": "code",
   "execution_count": 171,
   "metadata": {},
   "outputs": [
    {
     "name": "stdout",
     "output_type": "stream",
     "text": [
      "[1] 155292706 = 4*34279617 + 18174238\n",
      "[2] 34279617 = 1*18174238 + 16105379\n",
      "[3] 18174238 = 1*16105379 + 2068859\n",
      "[4] 16105379 = 7*2068859 + 1623366\n",
      "[5] 2068859 = 1*1623366 + 445493\n",
      "[6] 1623366 = 3*445493 + 286887\n",
      "[7] 445493 = 1*286887 + 158606\n",
      "[8] 286887 = 1*158606 + 128281\n",
      "[9] 158606 = 1*128281 + 30325\n",
      "[10] 128281 = 4*30325 + 6981\n"
     ]
    },
    {
     "data": {
      "text/plain": [
       "6981"
      ]
     },
     "execution_count": 171,
     "metadata": {},
     "output_type": "execute_result"
    }
   ],
   "source": [
    "cornacchia_smith_modificado(p_alba, n_alba)"
   ]
  }
 ],
 "metadata": {
  "kernelspec": {
   "display_name": "Julia 1.7.2",
   "language": "julia",
   "name": "julia-1.7"
  },
  "language_info": {
   "file_extension": ".jl",
   "mimetype": "application/julia",
   "name": "julia",
   "version": "1.7.2"
  }
 },
 "nbformat": 4,
 "nbformat_minor": 2
}
