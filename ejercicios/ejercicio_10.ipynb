{
 "cells": [
  {
   "cell_type": "markdown",
   "metadata": {},
   "source": [
    "# Ejercicio 10\n",
    "\n",
    "Toma tu número $p$ de la lista publicada para este ejercicio. \n",
    "\n",
    "1. Calcula el símbolo de Jacobi $\\left(\\frac{-11}{p}\\right)$. Si sale $1$, usa el algoritmo de Tonelli-Shanks para hallar las soluciones a la congruencia $x^2 \\equiv -11 \\pmod{p}$.\n",
    "2. Usa una de esas soluciones para factorizar el ideal principal $(p) = \\left(p, n + \\sqrt{-11}\\right)\\left(p, n + \\sqrt{-11}\\right)$ como producto de dos ideales.\n",
    "3. Aplica el algoritmo de Cornachia-Smith modificado a $2p$ y $n$ para encontrar una solución a la ecuación diofántica $4p = x^2 + 11y^2$, y úsala para encontrar una factorización de $p$ en a.e. del cuerpo $\\mathbb{Q}\\left[\\sqrt{p}\\right]$.\n",
    "4. ¿Son ideales principales tus ideales $\\left(p, n + \\sqrt{-11}\\right)$ y $\\left(p, n + \\sqrt{-11}\\right)$?"
   ]
  },
  {
   "cell_type": "code",
   "execution_count": null,
   "metadata": {},
   "outputs": [],
   "source": []
  }
 ],
 "metadata": {
  "kernelspec": {
   "display_name": "Julia 1.7.2",
   "language": "julia",
   "name": "julia-1.7"
  },
  "language_info": {
   "file_extension": ".jl",
   "mimetype": "application/julia",
   "name": "julia",
   "version": "1.7.2"
  },
  "orig_nbformat": 4
 },
 "nbformat": 4,
 "nbformat_minor": 2
}
