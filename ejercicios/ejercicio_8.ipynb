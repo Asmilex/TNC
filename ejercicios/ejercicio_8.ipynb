{
 "cells": [
  {
   "cell_type": "markdown",
   "metadata": {},
   "source": [
    "# Ejercicio 8 \n",
    "\n",
    "Toma tu número $n$ de la lista publicada para este ejercicio. \n",
    "\n",
    "1. Pasa algunos tests de primalidad para ver si n es compuesto.\n",
    "2. En caso que tu $n$ sea probable primo, factoriza $n+1$ encontrando certificados de primalidad para los factores mayores de $10000$.\n",
    "3. Con $P = 1$, encuentra el menos $Q \\ge 2$ tal que definan una sucesión de Lucas que certifique la primalidad de $n$. "
   ]
  },
  {
   "cell_type": "code",
   "execution_count": 22,
   "metadata": {},
   "outputs": [],
   "source": [
    "using Primes, Combinatorics"
   ]
  },
  {
   "cell_type": "code",
   "execution_count": 23,
   "metadata": {},
   "outputs": [
    {
     "data": {
      "text/plain": [
       "2783584280956932824984484769172860189421"
      ]
     },
     "metadata": {},
     "output_type": "display_data"
    }
   ],
   "source": [
    "n = 2783584280956932824984484769172860189421"
   ]
  },
  {
   "cell_type": "markdown",
   "metadata": {},
   "source": [
    "## Apartado 1"
   ]
  },
  {
   "cell_type": "markdown",
   "metadata": {},
   "source": [
    "Vamos a pasarle los test de Solovay-Strassen y de Miller-Rabin"
   ]
  },
  {
   "cell_type": "code",
   "execution_count": 24,
   "metadata": {},
   "outputs": [
    {
     "data": {
      "text/plain": [
       "test_solovay_strassen (generic function with 2 methods)"
      ]
     },
     "metadata": {},
     "output_type": "display_data"
    }
   ],
   "source": [
    "function test_solovay_strassen(a, n, salida = false)\n",
    "\tif salida\n",
    "\t\tprintln(\"Test de Solovay Strassen para a = \", a, \", n = \", n)\n",
    "\tend\n",
    "\n",
    "\tpowmod = powermod(a, div(n-1, 2), n)\n",
    "\t\n",
    "\tif powmod ∉ [1, n-1]\n",
    "\t\tif salida\n",
    "\t\t\tprintln(\"\\ta^{(n-1)/2} mod n = \", powmod, \", que no es congruente con 1 o -1. Falla.\")\n",
    "\t\tend\n",
    "\t\treturn false\n",
    "\tend\n",
    "\n",
    "\tif salida\n",
    "\t\tprintln(\"\\ta^{(n-1)/2} mod n = \", powmod, \". Jacobi = \", jacobisymbol(a, n), \"\\n\")\n",
    "\tend\n",
    "\n",
    "\treturn mod(jacobisymbol(a, n), n) == powmod\n",
    "end"
   ]
  },
  {
   "cell_type": "code",
   "execution_count": 25,
   "metadata": {},
   "outputs": [
    {
     "data": {
      "text/plain": [
       "8-element Vector{Int64}:\n",
       "  2\n",
       "  3\n",
       "  5\n",
       "  7\n",
       "  9\n",
       " 11\n",
       " 13\n",
       " 17"
      ]
     },
     "metadata": {},
     "output_type": "display_data"
    }
   ],
   "source": [
    "primos = [2, 3, 5, 7, 9, 11, 13, 17]"
   ]
  },
  {
   "cell_type": "code",
   "execution_count": 26,
   "metadata": {},
   "outputs": [
    {
     "data": {
      "text/plain": [
       "8-element Vector{Bool}:\n",
       " 1\n",
       " 1\n",
       " 1\n",
       " 1\n",
       " 1\n",
       " 1\n",
       " 1\n",
       " 1"
      ]
     },
     "metadata": {},
     "output_type": "display_data"
    }
   ],
   "source": [
    "map(a -> test_solovay_strassen(a, n), primos)"
   ]
  },
  {
   "cell_type": "code",
   "execution_count": 45,
   "metadata": {},
   "outputs": [
    {
     "data": {
      "text/plain": [
       "true"
      ]
     },
     "metadata": {},
     "output_type": "display_data"
    }
   ],
   "source": [
    "# Julia utiliza por defecto el algoritmo de Miller-Rabin para probar si un número es primo, \n",
    "# siempre que este sea suficientemente grande (como es el caso).\n",
    "# Mi función no era correcta del todo en los ejercicios anteriores, así que he optado por utilizar \n",
    "# la propia del lenguaje en este caso para asegurar la correctitud del ejercicio. \n",
    "# https://cutt.ly/aSvL5ap\n",
    "isprime(big(n))"
   ]
  },
  {
   "cell_type": "markdown",
   "metadata": {},
   "source": [
    "El resultado de estos tests nos dicen que nuestro $n$ es un posible primo. "
   ]
  },
  {
   "cell_type": "markdown",
   "metadata": {},
   "source": [
    "## Apartado 2"
   ]
  },
  {
   "cell_type": "markdown",
   "metadata": {},
   "source": [
    "Como $n$ es un posible primo, vamos a factorizar $n+1$ usando el mismo método del ejercicio anterior:"
   ]
  },
  {
   "cell_type": "code",
   "execution_count": 28,
   "metadata": {},
   "outputs": [
    {
     "data": {
      "text/plain": [
       "lucas_lehmer (generic function with 1 method)"
      ]
     },
     "metadata": {},
     "output_type": "display_data"
    }
   ],
   "source": [
    "function lucas_lehmer(n)\n",
    "\tfactores = collect(keys(factor(n-1)))\n",
    "\n",
    "\tfor a in 1:(n-1)\n",
    "\n",
    "\t\tif powermod(a, n-1, n) == 1\n",
    "\t\t\tresultado = map(q -> powermod(a, div(n-1, q), n), factores)\n",
    "\t\t\tif 1 ∉ resultado\n",
    "\t\t\t\treturn true\n",
    "\t\t\telse\n",
    "\t\t\t\tposicion = first(findall(x -> x == 1, resultado))\n",
    "\t\t\tend\n",
    "\t\tend\n",
    "\tend\n",
    "\n",
    "\treturn false\n",
    "end"
   ]
  },
  {
   "cell_type": "code",
   "execution_count": 29,
   "metadata": {},
   "outputs": [
    {
     "data": {
      "text/plain": [
       "descomponer (generic function with 1 method)"
      ]
     },
     "metadata": {},
     "output_type": "display_data"
    }
   ],
   "source": [
    "function ρ_Polard(n, f, t = 1000, x0 = 2)\n",
    "\t# En caso en el que sea divisible por dos, es posible que falle, así que lo comprobamos a mano.\n",
    "\tif mod(n, 2) == 0\n",
    "\t\treturn [[2, div(n, 2)], 0]\n",
    "\tend\n",
    "\n",
    "\tx = x0\n",
    "\ty = x\n",
    "\ti = 0\n",
    "\n",
    "\twhile i < t\n",
    "\t\ti = i + 1\n",
    "\t\tx = mod(f(x), n)\n",
    "\t\ty = mod(f(f(y)), n)\n",
    "\t\tg = gcd(x - y, n)\n",
    "\n",
    "\t\tif 1 < g && g < n\n",
    "\t\t\treturn [[g, div(n, g)], i]\n",
    "\t\tend\n",
    "\tend\n",
    "\n",
    "\treturn []\n",
    "end\n",
    "\n",
    "function descomponer(n)\n",
    "\tpor_descomponer = [n]\n",
    "\tirreducibles    = []\n",
    "\t\n",
    "\tf     = x -> x^2 + 1\n",
    "\tf_alt = x -> x^2 - 1\n",
    "\t\n",
    "\ti = 0\n",
    "\n",
    "\twhile length(por_descomponer) > 0\n",
    "\t\tprintln(\"\\nPor descomponer: $por_descomponer\")\n",
    "\t\tnum = pop!(por_descomponer)\n",
    "\n",
    "\t\t# Aplica el test de Miller Rabin primero. Si sale posible primo, saca \n",
    "\t\t# un certificado de primalidad con Lucas Lehmer.\n",
    "\t\tif isprime(num) && lucas_lehmer(num)\n",
    "\t\t\tprintln(\"\\t-> $num es primo\")\n",
    "\t\t\tpush!(irreducibles, num)\n",
    "\t\telse\n",
    "\t\t\tprintln(\"\\t-> Descomponiendo $num\")\n",
    "\t\t\tresultado = ρ_Polard(num, f, 3000)\n",
    "\n",
    "\t\t\t# Dado que ρ_Polard puede fallar, probamos con otra función alternativa. \n",
    "\t\t\t# Por ejemplo, para 25, x -> x^2 + 1, no se devuelve nada. \n",
    "\t\t\t\n",
    "\t\t\tif length(resultado) == 0\n",
    "\t\t\t\tresultado = ρ_Polard(num, x -> x^2 - 1, 4000)\n",
    "\t\t\tend\n",
    "\t\t\t\n",
    "\t\t\ti = i + resultado[2]\n",
    "\t\t\tpor_descomponer = vcat(por_descomponer, resultado[1])\n",
    "\t\tend\n",
    "\tend\n",
    "\n",
    "\treturn [sort(irreducibles), i]\n",
    "end"
   ]
  },
  {
   "cell_type": "code",
   "execution_count": 30,
   "metadata": {},
   "outputs": [
    {
     "name": "stdout",
     "output_type": "stream",
     "text": [
      "\n",
      "Por descomponer: BigInt[2783584280956932824984484769172860189422]\n",
      "\t-> Descomponiendo 2783584280956932824984484769172860189422\n",
      "\n",
      "Por descomponer: BigInt[2, 1391792140478466412492242384586430094711]\n",
      "\t-> Descomponiendo 1391792140478466412492242384586430094711\n",
      "\n",
      "Por descomponer: BigInt[2, 3, 463930713492822137497414128195476698237]\n",
      "\t-> Descomponiendo 463930713492822137497414128195476698237\n",
      "\n",
      "Por descomponer: BigInt[2, 3, 263, 1763995108337726758545300867663409499]\n",
      "\t-> Descomponiendo 1763995108337726758545300867663409499\n",
      "\n",
      "Por descomponer: BigInt[2, 3, 263, 2237, 788553915215792024383236865294327]\n",
      "\t-> Descomponiendo 788553915215792024383236865294327\n",
      "\n",
      "Por descomponer: BigInt[2, 3, 263, 2237, 487, 1619207218102242349862909374321]\n",
      "\t-> Descomponiendo 1619207218102242349862909374321\n",
      "\n",
      "Por descomponer: BigInt[2, 3, 263, 2237, 487, 487, 3324860817458403182470039783]\n",
      "\t-> Descomponiendo 3324860817458403182470039783\n",
      "\n",
      "Por descomponer: BigInt[2, 3, 263, 2237, 487, 487, 275131, 12084646286526793354693]\n",
      "\t-> 12084646286526793354693 es primo\n",
      "\n",
      "Por descomponer: BigInt[2, 3, 263, 2237, 487, 487, 275131]\n",
      "\t-> 275131 es primo\n",
      "\n",
      "Por descomponer: BigInt[2, 3, 263, 2237, 487, 487]\n",
      "\t-> 487 es primo\n",
      "\n",
      "Por descomponer: BigInt[2, 3, 263, 2237, 487]\n",
      "\t-> 487 es primo\n",
      "\n",
      "Por descomponer: BigInt[2, 3, 263, 2237]\n",
      "\t-> 2237 es primo\n",
      "\n",
      "Por descomponer: BigInt[2, 3, 263]\n",
      "\t-> 263 es primo\n",
      "\n",
      "Por descomponer: BigInt[2, 3]\n",
      "\t-> 3 es primo\n",
      "\n",
      "Por descomponer: BigInt[2]\n",
      "\t-> 2 es primo\n"
     ]
    },
    {
     "data": {
      "text/plain": [
       "2-element Vector{Any}:\n",
       "    Any[2, 3, 263, 487, 487, 2237, 275131, 12084646286526793354693]\n",
       " 823"
      ]
     },
     "metadata": {},
     "output_type": "display_data"
    }
   ],
   "source": [
    "factores = descomponer(n+1)"
   ]
  },
  {
   "cell_type": "code",
   "execution_count": 31,
   "metadata": {},
   "outputs": [
    {
     "data": {
      "text/plain": [
       "2 * 3 * 263 * 487^2 * 2237 * 275131 * 12084646286526793354693"
      ]
     },
     "metadata": {},
     "output_type": "display_data"
    }
   ],
   "source": [
    "factor(n+1)"
   ]
  },
  {
   "cell_type": "markdown",
   "metadata": {},
   "source": [
    "Tomamos ahora los factores mayores que $10000$"
   ]
  },
  {
   "cell_type": "code",
   "execution_count": 32,
   "metadata": {},
   "outputs": [
    {
     "data": {
      "text/plain": [
       "2-element Vector{Any}:\n",
       "                  275131\n",
       " 12084646286526793354693"
      ]
     },
     "metadata": {},
     "output_type": "display_data"
    }
   ],
   "source": [
    "a_comprobar = filter(p -> p > 10000, factores[1])"
   ]
  },
  {
   "cell_type": "markdown",
   "metadata": {},
   "source": [
    "Le pasamos Lucas Lehmer a dichos factores, y obtenemos"
   ]
  },
  {
   "cell_type": "code",
   "execution_count": 33,
   "metadata": {},
   "outputs": [
    {
     "data": {
      "text/plain": [
       "2-element Vector{Bool}:\n",
       " 1\n",
       " 1"
      ]
     },
     "metadata": {},
     "output_type": "display_data"
    }
   ],
   "source": [
    "map(p -> lucas_lehmer(p), a_comprobar)"
   ]
  },
  {
   "cell_type": "markdown",
   "metadata": {},
   "source": [
    "Así que todos nuestros factores son primos."
   ]
  },
  {
   "cell_type": "markdown",
   "metadata": {},
   "source": [
    "## Apartado 3"
   ]
  },
  {
   "cell_type": "markdown",
   "metadata": {},
   "source": [
    "Solo nos queda buscar el menor natural $Q \\ge 2$ tal que definan una sucesión de Lucas que certifique la primalidad de $n$. Para ello, usaremos las mismas funciones del ejercicio anterior."
   ]
  },
  {
   "cell_type": "code",
   "execution_count": 34,
   "metadata": {},
   "outputs": [
    {
     "data": {
      "text/plain": [
       "U_binario (generic function with 2 methods)"
      ]
     },
     "metadata": {},
     "output_type": "display_data"
    }
   ],
   "source": [
    "function U_binario(P, Q, r, modulo = Inf)\n",
    "\tn      = reverse(digits(r, base = 2))\n",
    "\tk      = 0\n",
    "\tpareja::Tuple{BigInt, BigInt} = (0, 1)\n",
    "\n",
    "\tfor e in n\n",
    "\t\tif e == 0\n",
    "\t\t\tpareja = (\n",
    "                mod(2 * pareja[1] * pareja[2] - P * pareja[1]^2, modulo),\n",
    "                mod(pareja[2]^2 - Q * pareja[1]^2, modulo)\n",
    "            )\n",
    "\t\telse\n",
    "            pareja = (\n",
    "                mod(pareja[2]^2 - Q * pareja[1]^2, modulo),\n",
    "                mod(P * pareja[2]^2 - 2 * Q * pareja[1] * pareja[2], modulo)\n",
    "            ) \n",
    "        end\n",
    "\t\tk = k + 1\n",
    "\tend\n",
    "\n",
    "\treturn (\n",
    "\t\tpareja, \n",
    "\t\t2*pareja[2] - P*pareja[1]\n",
    "\t)\n",
    "end"
   ]
  },
  {
   "cell_type": "code",
   "execution_count": 50,
   "metadata": {},
   "outputs": [
    {
     "data": {
      "text/plain": [
       "(2783584280956932824984484769172860189422, BigInt[2, 3, 263, 487, 2237, 275131, 12084646286526793354693])"
      ]
     },
     "metadata": {},
     "output_type": "display_data"
    }
   ],
   "source": [
    "r, factores_r = n + 1, collect(keys(factor(r)))"
   ]
  },
  {
   "cell_type": "markdown",
   "metadata": {},
   "source": [
    "Procedemos a buscar nuestro $Q$:"
   ]
  },
  {
   "cell_type": "code",
   "execution_count": 51,
   "metadata": {},
   "outputs": [
    {
     "data": {
      "text/plain": [
       "2"
      ]
     },
     "metadata": {},
     "output_type": "display_data"
    }
   ],
   "source": [
    "P, Q = 1, 2\n",
    "\n",
    "while  U_binario(P, Q, r, n)[1][1] != 0 && \n",
    "       0 ∉ map(p -> U_binario(P, Q, div(r, p), n)[1][1], factores_r)\n",
    "\n",
    "    Q = Q + 1\n",
    "end\n",
    "\n",
    "Q"
   ]
  },
  {
   "cell_type": "markdown",
   "metadata": {},
   "source": [
    "Verifiquemos que el resultado es correcto: Se tiene que $U_r = \\dots$"
   ]
  },
  {
   "cell_type": "code",
   "execution_count": 53,
   "metadata": {},
   "outputs": [
    {
     "data": {
      "text/plain": [
       "0"
      ]
     },
     "metadata": {},
     "output_type": "display_data"
    }
   ],
   "source": [
    "U_binario(P, Q, r, n)[1][1]"
   ]
  },
  {
   "cell_type": "markdown",
   "metadata": {},
   "source": [
    "Mientras que $U_{r/p},\\ p \\in \\text{factores(} r\\text{)}\\dots$"
   ]
  },
  {
   "cell_type": "code",
   "execution_count": 39,
   "metadata": {},
   "outputs": [
    {
     "data": {
      "text/plain": [
       "7-element Vector{BigInt}:\n",
       " 1164917580415388545044585558421187846643\n",
       " 2657412299953816308871411867622873907412\n",
       " 2607479893503099484201978595521426341475\n",
       " 1573461913841534528242027443422651522291\n",
       " 1345389753832447580730736572999126848012\n",
       "  128397738086795830162502257971228794870\n",
       " 2582704601212336087373341880436630298442"
      ]
     },
     "metadata": {},
     "output_type": "display_data"
    }
   ],
   "source": [
    "map(p -> U_binario(P, Q, div(r, p), n)[1][1], factores_r)"
   ]
  },
  {
   "cell_type": "markdown",
   "metadata": {},
   "source": [
    "Así que $Q = 2$"
   ]
  }
 ],
 "metadata": {
  "kernelspec": {
   "display_name": "Julia 1.7.2",
   "language": "julia",
   "name": "julia-1.7"
  },
  "language_info": {
   "file_extension": ".jl",
   "mimetype": "application/julia",
   "name": "julia",
   "version": "1.7.2"
  },
  "orig_nbformat": 4
 },
 "nbformat": 4,
 "nbformat_minor": 2
}
