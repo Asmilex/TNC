{
 "cells": [
  {
   "cell_type": "markdown",
   "metadata": {},
   "source": [
    "# Ejercicio 8 \n",
    "\n",
    "Toma tu número $n$ de la lista publicada para este ejercicio. \n",
    "\n",
    "1. Pasa algunos tests de primalidad para ver si n es compuesto.\n",
    "2. En caso que tu $n$ sea probable primo, factoriza $n+1$ encontrando certificados de primalidad para los factores mayores de $10000$.\n",
    "3. Con $P = 1$, encuentra el menos $Q \\ge 2$ tal que definan una sucesión de Lucas que certifique la primalidad de $n$ "
   ]
  },
  {
   "cell_type": "markdown",
   "metadata": {},
   "source": [
    "## Apartado 1"
   ]
  },
  {
   "cell_type": "code",
   "execution_count": 1,
   "metadata": {},
   "outputs": [],
   "source": [
    "using Primes"
   ]
  },
  {
   "cell_type": "code",
   "execution_count": 2,
   "metadata": {},
   "outputs": [
    {
     "data": {
      "text/plain": [
       "2783584280956932824984484769172860189421"
      ]
     },
     "metadata": {},
     "output_type": "display_data"
    }
   ],
   "source": [
    "n = 2783584280956932824984484769172860189421"
   ]
  },
  {
   "cell_type": "code",
   "execution_count": 3,
   "metadata": {},
   "outputs": [
    {
     "data": {
      "text/plain": [
       "lucas_lehmer (generic function with 1 method)"
      ]
     },
     "metadata": {},
     "output_type": "display_data"
    }
   ],
   "source": [
    "function simbolo_jacobi(a, n)\n",
    "\tif mod(n, 2) == 0\n",
    "\t\tthrow(\"n debe ser impar\")\n",
    "\tend\n",
    "\t\n",
    "\tt = 1 \n",
    "\tm = abs(n)\n",
    "\tb = mod(a, m)\n",
    "\t\n",
    "\twhile a != 0\n",
    "\t\twhile mod(a, 2) == 0\n",
    "\t\t\ta = a/2\n",
    "\t\t\t\n",
    "\t\t\tif mod(m, 8) in [3, 5]\n",
    "\t\t\t\tt = -t\n",
    "\t\t\tend\n",
    "\t\tend\n",
    "\n",
    "\t\ta, m = m, a\n",
    "\n",
    "\t\tif mod(a, 4) == 3 && mod(m, 4) == 3\n",
    "\t\t\tt = -t\n",
    "\t\tend\n",
    "\n",
    "\t\ta = mod(a, m)\n",
    "\tend\n",
    "\n",
    "\tif m == 1\n",
    "\t\treturn t\n",
    "\telse\n",
    "\t\treturn 0\n",
    "\tend\n",
    "end\n",
    "\n",
    "function test_solovay_strassen(a, n, salida = false)\n",
    "\tif salida\n",
    "\t\tprintln(\"Test de Solovay Strassen para a = \", a, \", n = \", n)\n",
    "\tend\n",
    "\n",
    "\tpowmod = powermod(a, div(n-1, 2), n)\n",
    "\t\n",
    "\tif powmod ∉ [1, n-1]\n",
    "\t\tif salida\n",
    "\t\t\tprintln(\"\\ta^{(n-1)/2} mod n = \", powmod, \", que no es congruente con 1 o -1. Falla.\")\n",
    "\t\tend\n",
    "\t\treturn false\n",
    "\tend\n",
    "\n",
    "\tif salida\n",
    "\t\tprintln(\"\\ta^{(n-1)/2} mod n = \", powmod, \". Jacobi = \", simbolo_jacobi(a, n), \"\\n\")\n",
    "\tend\n",
    "\n",
    "\treturn mod(simbolo_jacobi(a, n), n)\t== powmod\n",
    "end\n",
    "\n",
    "function lucas_lehmer(n)\n",
    "\tfactores = collect(keys(factor(n-1)))\n",
    "\n",
    "\tfor a in 1:(n-1)\n",
    "\n",
    "\t\tif powermod(a, n-1, n) == 1\n",
    "\t\t\tresultado = map(q -> powermod(a, div(n-1, q), n), factores)\n",
    "\t\t\tif 1 ∉ resultado\n",
    "\t\t\t\treturn true\n",
    "\t\t\telse\n",
    "\t\t\t\tposicion = first(findall(x -> x == 1, resultado))\n",
    "\t\t\tend\n",
    "\t\tend\n",
    "\tend\n",
    "\n",
    "\treturn false\n",
    "end"
   ]
  },
  {
   "cell_type": "code",
   "execution_count": 4,
   "metadata": {},
   "outputs": [
    {
     "data": {
      "text/plain": [
       "8-element Vector{Int64}:\n",
       "  2\n",
       "  3\n",
       "  5\n",
       "  7\n",
       "  9\n",
       " 11\n",
       " 13\n",
       " 17"
      ]
     },
     "metadata": {},
     "output_type": "display_data"
    }
   ],
   "source": [
    "primos = [2, 3, 5, 7, 9, 11, 13, 17]"
   ]
  },
  {
   "cell_type": "code",
   "execution_count": 5,
   "metadata": {},
   "outputs": [
    {
     "data": {
      "text/plain": [
       "8-element Vector{Bool}:\n",
       " 1\n",
       " 1\n",
       " 1\n",
       " 1\n",
       " 1\n",
       " 1\n",
       " 1\n",
       " 1"
      ]
     },
     "metadata": {},
     "output_type": "display_data"
    }
   ],
   "source": [
    "map(a -> test_solovay_strassen(a, n), primos)"
   ]
  },
  {
   "cell_type": "code",
   "execution_count": 6,
   "metadata": {},
   "outputs": [
    {
     "data": {
      "text/plain": [
       "true"
      ]
     },
     "metadata": {},
     "output_type": "display_data"
    }
   ],
   "source": [
    "# Julia utiliza por defecto el algoritmo de Miller-Rabin para probar si un número es primo.\n",
    "# Como esta práctica no va sobre los tests en sí mismos, utilizo esta función del lenguaje, \n",
    "# puesto que la mía tenía fallos.\n",
    "isprime(n)"
   ]
  },
  {
   "cell_type": "code",
   "execution_count": 7,
   "metadata": {},
   "outputs": [
    {
     "data": {
      "text/plain": [
       "true"
      ]
     },
     "metadata": {},
     "output_type": "display_data"
    }
   ],
   "source": [
    "lucas_lehmer(n)"
   ]
  },
  {
   "cell_type": "markdown",
   "metadata": {},
   "source": [
    "El resultado de estos tests nos dicen que nuestro $n$ es un posible primo."
   ]
  },
  {
   "cell_type": "markdown",
   "metadata": {},
   "source": [
    "## Apartado 2"
   ]
  },
  {
   "cell_type": "markdown",
   "metadata": {},
   "source": [
    "## Apartado 3"
   ]
  },
  {
   "cell_type": "markdown",
   "metadata": {},
   "source": [
    "## Temporal"
   ]
  },
  {
   "cell_type": "code",
   "execution_count": 29,
   "metadata": {},
   "outputs": [
    {
     "data": {
      "text/plain": [
       "descomponer (generic function with 1 method)"
      ]
     },
     "metadata": {},
     "output_type": "display_data"
    }
   ],
   "source": [
    "function ρ_Polard(n, f, t = 1000, x0 = 2)\n",
    "\t# En caso en el que sea divisible por dos, es posible que falle, así que lo comprobamos a mano.\n",
    "\tif mod(n, 2) == 0\n",
    "\t\treturn [[2, div(n, 2)], 0]\n",
    "\tend\n",
    "\n",
    "\tx = x0\n",
    "\ty = x\n",
    "\ti = 0\n",
    "\n",
    "\twhile i < t\n",
    "\t\ti = i + 1\n",
    "\t\tx = mod(f(x), n)\n",
    "\t\ty = mod(f(f(y)), n)\n",
    "\t\tg = gcd(x - y, n)\n",
    "\n",
    "\t\tif 1 < g && g < n\n",
    "\t\t\treturn [[g, div(n, g)], i]\n",
    "\t\tend\n",
    "\tend\n",
    "\n",
    "\treturn []\n",
    "end\n",
    "\n",
    "function descomponer(n)\n",
    "\tpor_descomponer = [n]\n",
    "\tirreducibles = []\n",
    "\tf = x -> x^2 + 1\n",
    "\ti = 0\n",
    "\n",
    "\twhile length(por_descomponer) > 0\n",
    "\t\tprintln(\"\\nPor descomponer: $por_descomponer\")\n",
    "\t\tnum = pop!(por_descomponer)\n",
    "\n",
    "\t\t# Aplica el test de Miller Rabin primero. Si sale posible primo, saca \n",
    "\t\t# un certificado de primalidad con Lucas Lehmer.\n",
    "\n",
    "\t\tif isprime(num) && lucas_lehmer(num)\n",
    "\t\t\tprintln(\"\\t-> $num es primo\")\n",
    "\t\t\tpush!(irreducibles, num)\n",
    "\t\telse\n",
    "\t\t\tprintln(\"\\t-> Descomponiendo $num\")\n",
    "\t\t\tresultado = ρ_Polard(num, f)\n",
    "\t\t\ti = i + resultado[2]\n",
    "\t\t\tpor_descomponer = vcat(por_descomponer, resultado[1])\n",
    "\t\tend\n",
    "\tend\n",
    "\n",
    "\treturn [sort(irreducibles), i]\n",
    "end\n"
   ]
  },
  {
   "cell_type": "code",
   "execution_count": 30,
   "metadata": {},
   "outputs": [
    {
     "name": "stdout",
     "output_type": "stream",
     "text": [
      "\n",
      "Por descomponer: BigInt[2783584280956932824984484769172860189422]\n",
      "\t-> Descomponiendo 2783584280956932824984484769172860189422\n",
      "\n",
      "Por descomponer: BigInt[2, 1391792140478466412492242384586430094711]\n",
      "\t-> Descomponiendo 1391792140478466412492242384586430094711\n",
      "\n",
      "Por descomponer: BigInt[2, 3, 463930713492822137497414128195476698237]\n",
      "\t-> Descomponiendo 463930713492822137497414128195476698237\n",
      "\n",
      "Por descomponer: BigInt[2, 3, 263, 1763995108337726758545300867663409499]\n",
      "\t-> Descomponiendo 1763995108337726758545300867663409499\n",
      "\n",
      "Por descomponer: BigInt[2, 3, 263, 2237, 788553915215792024383236865294327]\n",
      "\t-> Descomponiendo 788553915215792024383236865294327\n",
      "\n",
      "Por descomponer: BigInt[2, 3, 263, 2237, 487, 1619207218102242349862909374321]\n",
      "\t-> Descomponiendo 1619207218102242349862909374321\n",
      "\n",
      "Por descomponer: BigInt[2, 3, 263, 2237, 487, 487, 3324860817458403182470039783]\n",
      "\t-> Descomponiendo 3324860817458403182470039783\n",
      "\n",
      "Por descomponer: BigInt[2, 3, 263, 2237, 487, 487, 275131, 12084646286526793354693]\n",
      "\t-> 12084646286526793354693 es primo\n",
      "\n",
      "Por descomponer: BigInt[2, 3, 263, 2237, 487, 487, 275131]\n",
      "\t-> 275131 es primo\n",
      "\n",
      "Por descomponer: BigInt[2, 3, 263, 2237, 487, 487]\n",
      "\t-> 487 es primo\n",
      "\n",
      "Por descomponer: BigInt[2, 3, 263, 2237, 487]\n",
      "\t-> 487 es primo\n",
      "\n",
      "Por descomponer: BigInt[2, 3, 263, 2237]\n",
      "\t-> 2237 es primo\n",
      "\n",
      "Por descomponer: BigInt[2, 3, 263]\n",
      "\t-> 263 es primo\n",
      "\n",
      "Por descomponer: BigInt[2, 3]\n",
      "\t-> 3 es primo\n",
      "\n",
      "Por descomponer: BigInt[2]\n",
      "\t-> 2 es primo\n"
     ]
    },
    {
     "data": {
      "text/plain": [
       "2-element Vector{Any}:\n",
       "    Any[2, 3, 263, 487, 487, 2237, 275131, 12084646286526793354693]\n",
       " 823"
      ]
     },
     "metadata": {},
     "output_type": "display_data"
    }
   ],
   "source": [
    "descomponer(n+1)"
   ]
  },
  {
   "cell_type": "code",
   "execution_count": 18,
   "metadata": {},
   "outputs": [
    {
     "data": {
      "text/plain": [
       "2 * 3 * 263 * 487^2 * 2237 * 275131 * 12084646286526793354693"
      ]
     },
     "metadata": {},
     "output_type": "display_data"
    }
   ],
   "source": [
    "factor(n+1)"
   ]
  },
  {
   "cell_type": "code",
   "execution_count": null,
   "metadata": {},
   "outputs": [],
   "source": []
  }
 ],
 "metadata": {
  "kernelspec": {
   "display_name": "Julia 1.7.2",
   "language": "julia",
   "name": "julia-1.7"
  },
  "language_info": {
   "file_extension": ".jl",
   "mimetype": "application/julia",
   "name": "julia",
   "version": "1.7.2"
  },
  "orig_nbformat": 4
 },
 "nbformat": 4,
 "nbformat_minor": 2
}
