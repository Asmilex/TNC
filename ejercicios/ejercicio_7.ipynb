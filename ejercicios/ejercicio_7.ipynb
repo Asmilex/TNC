{
 "cells": [
  {
   "cell_type": "markdown",
   "metadata": {},
   "source": [
    "# Ejercicio 7\n",
    "\n",
    "Toma tu número n de la lista publicada para el ejercicio 3. Sea $d$ el primer elemento de la sucesión $5, -7, 9, -11, 13\\dots$ que satisfaga que el símbolo de Jacobi sea $\\left(\\frac{d}{n}\\right) = -1$.\n",
    "\n",
    "1. Con $P = 1, Q = \\frac{1 - d}{4}$, define el e.c. $\\alpha$ y sus sucesiones de Lucas asociadas.\n",
    "2. Si $n$ es primo, ¿qué debería de pasarle a $V_r, U_r$ módulo $n$? ¿Y a $V_{r/2}, U_{r/2}$? Calcula los términos $V_r, U_r, V_{r/2}, U_{r/2}\\text{ mod }n$ de las sucesiones de Lucas. ¿Tu $n$ verifica el Teorema Pequeño de Fermat para el entero cuadrático $\\alpha$?\n",
    "3. Factoriza $r = n+1$ y para cada factor primo $p$ suyo, calcula $U_{r/p}$. ¿Cuál es el rango de Lucas $w(n)$? ¿Qué deduces sobre la primalidad de tu $n$?"
   ]
  },
  {
   "cell_type": "code",
   "execution_count": 1,
   "metadata": {},
   "outputs": [
    {
     "name": "stderr",
     "output_type": "stream",
     "text": [
      "\u001b[32m\u001b[1m    Updating\u001b[22m\u001b[39m registry at `C:\\Users\\Andre\\.julia\\registries\\General.toml`\n",
      "\u001b[32m\u001b[1m   Resolving\u001b[22m\u001b[39m package versions...\n",
      "\u001b[32m\u001b[1m  No Changes\u001b[22m\u001b[39m to `C:\\Users\\Andre\\.julia\\environments\\v1.7\\Project.toml`\n",
      "\u001b[32m\u001b[1m  No Changes\u001b[22m\u001b[39m to `C:\\Users\\Andre\\.julia\\environments\\v1.7\\Manifest.toml`\n"
     ]
    }
   ],
   "source": [
    "import Pkg; Pkg.add(\"Primes\"); using Primes "
   ]
  },
  {
   "cell_type": "code",
   "execution_count": 2,
   "metadata": {},
   "outputs": [
    {
     "data": {
      "text/plain": [
       "35948725702518441292684587619699"
      ]
     },
     "metadata": {},
     "output_type": "display_data"
    }
   ],
   "source": [
    "n = 35948725702518441292684587619699"
   ]
  },
  {
   "cell_type": "markdown",
   "metadata": {},
   "source": [
    "## Apartado 1"
   ]
  },
  {
   "cell_type": "markdown",
   "metadata": {},
   "source": [
    "Primero, vamos a encontrar $d$ que satisface la condición del enunciado:"
   ]
  },
  {
   "cell_type": "code",
   "execution_count": 3,
   "metadata": {},
   "outputs": [
    {
     "data": {
      "text/plain": [
       "simbolo_jacobi (generic function with 1 method)"
      ]
     },
     "metadata": {},
     "output_type": "display_data"
    }
   ],
   "source": [
    "function simbolo_jacobi(a, n)\n",
    "\tif mod(n, 2) == 0\n",
    "\t\tthrow(\"n debe ser impar\")\n",
    "\tend\n",
    "\n",
    "\tt = 1\n",
    "\tm = abs(n)\n",
    "\tb = mod(a, m)\n",
    "\n",
    "\twhile a != 0\n",
    "\t\twhile mod(a, 2) == 0\n",
    "\t\t\ta = a/2\n",
    "\n",
    "\t\t\tif mod(m, 8) in [3, 5]\n",
    "\t\t\t\tt = -t\n",
    "\t\t\tend\n",
    "\t\tend\n",
    "\n",
    "\t\ta, m = m, a\n",
    "\n",
    "\t\tif mod(a, 4) == 3 && mod(m, 4) == 3\n",
    "\t\t\tt = -t\n",
    "\t\tend\n",
    "\n",
    "\t\ta = mod(a, m)\n",
    "\tend\n",
    "\n",
    "\tif m == 1\n",
    "\t\treturn t\n",
    "\telse\n",
    "\t\treturn 0\n",
    "\tend\n",
    "end"
   ]
  },
  {
   "cell_type": "code",
   "execution_count": 26,
   "metadata": {},
   "outputs": [
    {
     "data": {
      "text/plain": [
       "13"
      ]
     },
     "metadata": {},
     "output_type": "display_data"
    }
   ],
   "source": [
    "function encontrar_d(n)\n",
    "\tfor (i, d) in enumerate(range(start = 5, step = 2, length = 10000))\n",
    "\t\tnum = ((-1)^(i+1))*d\n",
    "\n",
    "\t\tif simbolo_jacobi(num, n) == -1\n",
    "\t\t\treturn num\n",
    "\t\tend\n",
    "\tend\n",
    "\n",
    "\treturn 0\n",
    "end\n",
    "\n",
    "d = encontrar_d(n)"
   ]
  },
  {
   "cell_type": "markdown",
   "metadata": {},
   "source": [
    "Así que $d = 13$. Ahora fijamos $P = 1, Q = \\frac{1-d}{4}$"
   ]
  },
  {
   "cell_type": "code",
   "execution_count": 6,
   "metadata": {},
   "outputs": [
    {
     "data": {
      "text/plain": [
       "(1, -3)"
      ]
     },
     "metadata": {},
     "output_type": "display_data"
    }
   ],
   "source": [
    "P, Q = 1, div(1-d, 4)"
   ]
  },
  {
   "cell_type": "markdown",
   "metadata": {},
   "source": [
    "Vamos a definir las sucesiones de Lucas asociadas:\n",
    "\n",
    "$$\n",
    "\\begin{aligned}\n",
    "V_n = PV_{n-1} - QV_{n-2} & = V_{n-1} + 3V_{n-2} \\\\\n",
    "U_n = PU_{n-1} - QU_{n-2} & = U_{n-1} + 3U_{n-2}\n",
    "\\end{aligned}\n",
    "$$\n",
    "\n",
    "Con las condiciones iniciales \n",
    "\n",
    "$$\n",
    "\\begin{aligned}\n",
    "V_0 = 2& , V_1 = P = 1 \\\\\n",
    "U_0 = 0& , U_1 = 1\n",
    "\\end{aligned}\n",
    "$$"
   ]
  },
  {
   "cell_type": "code",
   "execution_count": 7,
   "metadata": {},
   "outputs": [
    {
     "data": {
      "text/plain": [
       "13"
      ]
     },
     "metadata": {},
     "output_type": "display_data"
    }
   ],
   "source": [
    "Δ = P^2 - 4 * Q"
   ]
  },
  {
   "cell_type": "markdown",
   "metadata": {},
   "source": [
    "Además, se tiene que $\\alpha = \\frac{P + \\sqrt{\\Delta}}{2} = \\frac{1 + \\sqrt{13}}{2}$"
   ]
  },
  {
   "cell_type": "code",
   "execution_count": 8,
   "metadata": {},
   "outputs": [
    {
     "data": {
      "text/plain": [
       "2.302775637731995"
      ]
     },
     "metadata": {},
     "output_type": "display_data"
    }
   ],
   "source": [
    "α = (P + sqrt(Δ))/2"
   ]
  },
  {
   "cell_type": "code",
   "execution_count": 27,
   "metadata": {},
   "outputs": [
    {
     "data": {
      "text/plain": [
       "2.302775637731995"
      ]
     },
     "metadata": {},
     "output_type": "display_data"
    }
   ],
   "source": [
    "(1 + sqrt(13))/2"
   ]
  },
  {
   "cell_type": "markdown",
   "metadata": {},
   "source": [
    "## Apartado 2"
   ]
  },
  {
   "cell_type": "markdown",
   "metadata": {},
   "source": [
    "## Apartado 3"
   ]
  },
  {
   "cell_type": "markdown",
   "metadata": {},
   "source": [
    "Tenemos que factorizar $r = n + 1$"
   ]
  },
  {
   "cell_type": "code",
   "execution_count": 13,
   "metadata": {},
   "outputs": [
    {
     "data": {
      "text/plain": [
       "35948725702518441292684587619700"
      ]
     },
     "metadata": {},
     "output_type": "display_data"
    }
   ],
   "source": [
    "r = n + 1"
   ]
  },
  {
   "cell_type": "markdown",
   "metadata": {},
   "source": [
    "Los facores primos de $r$ son los siguientes:"
   ]
  },
  {
   "cell_type": "code",
   "execution_count": 14,
   "metadata": {},
   "outputs": [
    {
     "data": {
      "text/plain": [
       "2^2 * 5^2 * 23 * 3607 * 6997 * 27179 * 22785794401798979"
      ]
     },
     "metadata": {},
     "output_type": "display_data"
    }
   ],
   "source": [
    "factor(r)"
   ]
  },
  {
   "cell_type": "code",
   "execution_count": 15,
   "metadata": {},
   "outputs": [
    {
     "data": {
      "text/plain": [
       "7-element Vector{Int128}:\n",
       "                 2\n",
       "                 5\n",
       "                23\n",
       "              3607\n",
       "              6997\n",
       "             27179\n",
       " 22785794401798979"
      ]
     },
     "metadata": {},
     "output_type": "display_data"
    }
   ],
   "source": [
    "factores_r = collect(keys(factor(r)))"
   ]
  },
  {
   "cell_type": "markdown",
   "metadata": {},
   "source": [
    "Podemos comprobar rápidamente que son primos aplicando Lucas Lehmer:"
   ]
  },
  {
   "cell_type": "code",
   "execution_count": 28,
   "metadata": {},
   "outputs": [
    {
     "data": {
      "text/plain": [
       "7-element Vector{Bool}:\n",
       " 1\n",
       " 1\n",
       " 1\n",
       " 1\n",
       " 1\n",
       " 1\n",
       " 1"
      ]
     },
     "metadata": {},
     "output_type": "display_data"
    }
   ],
   "source": [
    "function lucas_lehmer(n)\n",
    "\tfactores = collect(keys(factor(n-1)))\n",
    "\n",
    "\tfor a in 1:(n-1)\n",
    "\t\tif powermod(a, n-1, n) == 1\n",
    "\t\t\tresultado = map(q -> powermod(a, div(n-1, q), n), factores)\n",
    "\t\t\t\n",
    "\t\t\tif 1 ∉ resultado\n",
    "\t\t\t\treturn true\n",
    "\t\t\telse\n",
    "\t\t\t\tposicion = first(findall(x -> x == 1, resultado))\n",
    "\t\t\tend\n",
    "\t\tend\n",
    "\tend\n",
    "\n",
    "\treturn false\n",
    "end\n",
    "\n",
    "map(p -> lucas_lehmer(p), factores_r)"
   ]
  },
  {
   "cell_type": "markdown",
   "metadata": {},
   "source": [
    "Calculemos ahora $U_{r/p}$"
   ]
  },
  {
   "cell_type": "code",
   "execution_count": 18,
   "metadata": {},
   "outputs": [],
   "source": [
    "resultados = []\n",
    "\n",
    "for p in factores_r \n",
    "    #println(\"Calculando U$r/$p\")\n",
    "    #push!(resultados, U_lucas(P, Q, div(r, p)))    \n",
    "end"
   ]
  },
  {
   "cell_type": "markdown",
   "metadata": {},
   "source": [
    "Por un corolario, si encontramos una sucesión de Lucas $\\left\\{U_i\\right\\}_{i \\in N}$ determinada por $P, Q$ con $\\Delta = P^2 - Q$ no cuadrado perfecto y $n \\in \\mathbb{Z}$ satisface $(n,2Q\\Delta)=1$ y $w(n) = n\\pm1$, entonces, $n$ es primo."
   ]
  },
  {
   "cell_type": "markdown",
   "metadata": {},
   "source": [
    "# Temporal"
   ]
  },
  {
   "cell_type": "code",
   "execution_count": 1,
   "metadata": {},
   "outputs": [
    {
     "data": {
      "text/plain": [
       "U_lucas (generic function with 2 methods)"
      ]
     },
     "metadata": {},
     "output_type": "display_data"
    }
   ],
   "source": [
    "# FIXME implementar módulos!\n",
    "function V_lucas(P, Q, n, salida = false)\n",
    "\tV_anterior2 = 2\n",
    "\tV_anterior  = P\n",
    "\tV           = 0\n",
    "\n",
    "\tfor i in 2:n\n",
    "\t\tV           = (P * V_anterior - Q*V_anterior2)\n",
    "\t\tV_anterior2 = V_anterior\n",
    "\t\tV_anterior  = V\n",
    "\n",
    "\t\tif salida\n",
    "\t\t\tprintln(\"V_$i = $V\")\n",
    "\t\tend\n",
    "\tend\n",
    "\n",
    "\treturn V\n",
    "end\n",
    "\n",
    "function U_lucas(P, Q, n, salida = false)\n",
    "\tU_anterior2 = 0\n",
    "\tU_anterior  = 1\n",
    "\n",
    "\tU = 0\n",
    "\n",
    "\tfor i in 2:n\n",
    "\t\tU           = (P * U_anterior - Q*U_anterior2)\n",
    "\t\tU_anterior2 = U_anterior\n",
    "\t\tU_anterior  = U\n",
    "\n",
    "\t\tif salida \n",
    "\t\t\tprintln(\"U_$i = $U\")\n",
    "\t\tend\n",
    "\tend\n",
    "\n",
    "\treturn U\n",
    "end"
   ]
  },
  {
   "cell_type": "code",
   "execution_count": null,
   "metadata": {},
   "outputs": [
    {
     "name": "stdout",
     "output_type": "stream",
     "text": [
      "V_2 = 7\n",
      "V_3 = 10\n",
      "V_4 = 31\n",
      "V_5 = 61\n",
      "V_6 = 154\n",
      "V_7 = 337\n",
      "V_8 = 799\n",
      "V_9 = 1810\n",
      "V_10 = 4207\n"
     ]
    },
    {
     "data": {
      "text/plain": [
       "4207"
      ]
     },
     "metadata": {},
     "output_type": "display_data"
    }
   ],
   "source": [
    "V_lucas(P, Q, 10, true)"
   ]
  },
  {
   "cell_type": "code",
   "execution_count": null,
   "metadata": {},
   "outputs": [
    {
     "name": "stdout",
     "output_type": "stream",
     "text": [
      "U_2 = 1\n",
      "U_3 = 4\n",
      "U_4 = 7\n",
      "U_5 = 19\n",
      "U_6 = 40\n",
      "U_7 = 97\n",
      "U_8 = 217\n",
      "U_9 = 508\n",
      "U_10 = 1159\n"
     ]
    },
    {
     "data": {
      "text/plain": [
       "1159"
      ]
     },
     "metadata": {},
     "output_type": "display_data"
    }
   ],
   "source": [
    "U_lucas(P, Q, 10, true)"
   ]
  },
  {
   "cell_type": "code",
   "execution_count": null,
   "metadata": {},
   "outputs": [
    {
     "data": {
      "text/plain": [
       "w"
      ]
     },
     "metadata": {},
     "output_type": "display_data"
    }
   ],
   "source": [
    "\"\"\"\n",
    "Calcula el rango de n\n",
    "\"\"\"\n",
    "function w(n, P, Q)\n",
    "\t#rango = isprime(n) ? collect(keys(factor(n-1))) : 2:n\n",
    "\trango = 2:n\n",
    "\n",
    "    U_anterior2 = 0\n",
    "\tU_anterior  = 1\n",
    "\n",
    "\tU = 0\n",
    "\n",
    "\tfor i in rango\n",
    "\t\tU           = (P * U_anterior - Q*U_anterior2)\n",
    "\t\tU_anterior2 = U_anterior\n",
    "\t\tU_anterior  = U\n",
    "\n",
    "\t\tif mod(U, n) == 0\n",
    "            return i\n",
    "        end\n",
    "\tend\n",
    "\n",
    "\treturn -1\n",
    "end"
   ]
  },
  {
   "cell_type": "code",
   "execution_count": 19,
   "metadata": {},
   "outputs": [
    {
     "data": {
      "text/plain": [
       "6"
      ]
     },
     "metadata": {},
     "output_type": "display_data"
    }
   ],
   "source": [
    "w(20, P, Q)"
   ]
  },
  {
   "cell_type": "code",
   "execution_count": 20,
   "metadata": {},
   "outputs": [
    {
     "data": {
      "text/plain": [
       "7-element Vector{Int128}:\n",
       "                   2\n",
       "                   3\n",
       "                   7\n",
       "                  11\n",
       "               90121\n",
       "              366967\n",
       " 2352818959424166097"
      ]
     },
     "metadata": {},
     "output_type": "display_data"
    }
   ],
   "source": [
    "factores = collect(keys(factor(n-1)))"
   ]
  },
  {
   "cell_type": "code",
   "execution_count": 2,
   "metadata": {},
   "outputs": [
    {
     "name": "stdout",
     "output_type": "stream",
     "text": [
      "U_2 = 3\n",
      "U_3 = 8\n",
      "U_4 = 21\n",
      "U_5 = 55\n",
      "U_6 = 144\n",
      "U_7 = 377\n",
      "U_8 = 987\n",
      "U_9 = 2584\n",
      "U_10 = 6765\n",
      "U_11 = 17711\n"
     ]
    },
    {
     "data": {
      "text/plain": [
       "17711"
      ]
     },
     "metadata": {},
     "output_type": "display_data"
    }
   ],
   "source": [
    "U_lucas(3, 1, 11, true)"
   ]
  },
  {
   "cell_type": "code",
   "execution_count": null,
   "metadata": {},
   "outputs": [],
   "source": []
  }
 ],
 "metadata": {
  "kernelspec": {
   "display_name": "Julia 1.7.2",
   "language": "julia",
   "name": "julia-1.7"
  },
  "language_info": {
   "file_extension": ".jl",
   "mimetype": "application/julia",
   "name": "julia",
   "version": "1.7.2"
  },
  "orig_nbformat": 4
 },
 "nbformat": 4,
 "nbformat_minor": 2
}
