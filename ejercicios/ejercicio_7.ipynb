{
 "cells": [
  {
   "cell_type": "markdown",
   "metadata": {},
   "source": [
    "# Ejercicio 7\n",
    "\n",
    "Toma tu número n de la lista publicada para el ejercicio 3. Sea $d$ el primer elemento de la sucesión $5, -7, 9, -11, 13\\dots$ que satisfaga que el símbolo de Jacobi sea $\\left(\\frac{d}{n}\\right) = -1$.\n",
    "\n",
    "1. Con $P = 1, Q = \\frac{1 - d}{4}$, define el e.c. $\\alpha$ y sus sucesiones de Lucas asociadas.\n",
    "2. Si $n$ es primo, ¿qué debería de pasarle a $V_r, U_r$ módulo $n$? ¿Y a $V_{r/2}, U_{r/2}$? Calcula los términos $V_r, U_r, V_{r/2}, U_{r/2}\\text{ mod }n$ de las sucesiones de Lucas. ¿Tu $n$ verifica el Teorema Pequeño de Fermat para el entero cuadrático $\\alpha$?\n",
    "3. Factoriza $r = n+1$ y para cada factor primo $p$ suyo, calcula $U_{r/p}$. ¿Cuál es el rango de Lucas $w(n)$? ¿Qué deduces sobre la primalidad de tu $n$?"
   ]
  },
  {
   "cell_type": "code",
   "execution_count": 25,
   "metadata": {},
   "outputs": [
    {
     "name": "stderr",
     "output_type": "stream",
     "text": [
      "\u001b[32m\u001b[1m   Resolving\u001b[22m\u001b[39m package versions...\n",
      "\u001b[32m\u001b[1m  No Changes\u001b[22m\u001b[39m to `C:\\Users\\Andre\\.julia\\environments\\v1.7\\Project.toml`\n",
      "\u001b[32m\u001b[1m  No Changes\u001b[22m\u001b[39m to `C:\\Users\\Andre\\.julia\\environments\\v1.7\\Manifest.toml`\n",
      "\u001b[32m\u001b[1m   Resolving\u001b[22m\u001b[39m package versions...\n",
      "\u001b[32m\u001b[1m  No Changes\u001b[22m\u001b[39m to `C:\\Users\\Andre\\.julia\\environments\\v1.7\\Project.toml`\n",
      "\u001b[32m\u001b[1m  No Changes\u001b[22m\u001b[39m to `C:\\Users\\Andre\\.julia\\environments\\v1.7\\Manifest.toml`\n"
     ]
    }
   ],
   "source": [
    "import Pkg; Pkg.add(\"Primes\"); Pkg.add(\"Combinatorics\"); using Primes, Combinatorics"
   ]
  },
  {
   "cell_type": "code",
   "execution_count": 26,
   "metadata": {},
   "outputs": [
    {
     "data": {
      "text/plain": [
       "35948725702518441292684587619699"
      ]
     },
     "metadata": {},
     "output_type": "display_data"
    }
   ],
   "source": [
    "n = 35948725702518441292684587619699"
   ]
  },
  {
   "cell_type": "markdown",
   "metadata": {},
   "source": [
    "## Apartado 1"
   ]
  },
  {
   "cell_type": "markdown",
   "metadata": {},
   "source": [
    "Primero, vamos a encontrar $d$ que satisface la condición del enunciado:"
   ]
  },
  {
   "cell_type": "code",
   "execution_count": 27,
   "metadata": {},
   "outputs": [
    {
     "data": {
      "text/plain": [
       "13"
      ]
     },
     "metadata": {},
     "output_type": "display_data"
    }
   ],
   "source": [
    "function encontrar_d(n)\n",
    "\tfor (i, d) in enumerate(range(start = 5, step = 2, length = 10000))\n",
    "\t\tnum = ((-1)^(i+1))*d\n",
    "\n",
    "\t\tif jacobisymbol(num, n) == -1\n",
    "\t\t\treturn num\n",
    "\t\tend\n",
    "\tend\n",
    "\n",
    "\treturn 0\n",
    "end\n",
    "\n",
    "d = encontrar_d(n)"
   ]
  },
  {
   "cell_type": "markdown",
   "metadata": {},
   "source": [
    "Así que $d = 13$. Ahora fijamos $P = 1, Q = \\frac{1-d}{4}$"
   ]
  },
  {
   "cell_type": "code",
   "execution_count": 28,
   "metadata": {},
   "outputs": [
    {
     "data": {
      "text/plain": [
       "(1, -3)"
      ]
     },
     "metadata": {},
     "output_type": "display_data"
    }
   ],
   "source": [
    "P, Q = 1, div(1-d, 4)"
   ]
  },
  {
   "cell_type": "markdown",
   "metadata": {},
   "source": [
    "Además, se tiene que $\\alpha = \\frac{P + \\sqrt{\\Delta}}{2} = \\frac{1 + \\sqrt{13}}{2}$"
   ]
  },
  {
   "cell_type": "code",
   "execution_count": 29,
   "metadata": {},
   "outputs": [
    {
     "data": {
      "text/plain": [
       "13"
      ]
     },
     "metadata": {},
     "output_type": "display_data"
    }
   ],
   "source": [
    "Δ = P^2 - 4 * Q"
   ]
  },
  {
   "cell_type": "code",
   "execution_count": 30,
   "metadata": {},
   "outputs": [
    {
     "data": {
      "text/plain": [
       "2.302775637731995"
      ]
     },
     "metadata": {},
     "output_type": "display_data"
    }
   ],
   "source": [
    "α = (P + sqrt(Δ))/2"
   ]
  },
  {
   "cell_type": "code",
   "execution_count": 31,
   "metadata": {},
   "outputs": [
    {
     "data": {
      "text/plain": [
       "2.302775637731995"
      ]
     },
     "metadata": {},
     "output_type": "display_data"
    }
   ],
   "source": [
    "(1 + sqrt(13))/2"
   ]
  },
  {
   "cell_type": "markdown",
   "metadata": {},
   "source": [
    "Vamos a definir las sucesiones de Lucas asociadas:\n",
    "\n",
    "$$\n",
    "\\begin{aligned}\n",
    "V_n = PV_{n-1} - QV_{n-2} & = V_{n-1} + 3V_{n-2} \\\\\n",
    "U_n = PU_{n-1} - QU_{n-2} & = U_{n-1} + 3U_{n-2}\n",
    "\\end{aligned}\n",
    "$$\n",
    "\n",
    "Con las condiciones iniciales \n",
    "\n",
    "$$\n",
    "\\begin{aligned}\n",
    "V_0 = 2& , V_1 = P = 1 \\\\\n",
    "U_0 = 0& , U_1 = 1\n",
    "\\end{aligned}\n",
    "$$"
   ]
  },
  {
   "cell_type": "markdown",
   "metadata": {},
   "source": [
    "## Apartado 2"
   ]
  },
  {
   "cell_type": "code",
   "execution_count": 32,
   "metadata": {},
   "outputs": [
    {
     "data": {
      "text/plain": [
       "35948725702518441292684587619700"
      ]
     },
     "metadata": {},
     "output_type": "display_data"
    }
   ],
   "source": [
    "r = n + 1"
   ]
  },
  {
   "cell_type": "markdown",
   "metadata": {},
   "source": [
    "Nos preguntamos qué ocurre con $V_r, U_r, V_{r/2}, U_{r/2}$ módulo $n$ si $n$ es primo."
   ]
  },
  {
   "cell_type": "markdown",
   "metadata": {},
   "source": [
    "En el caso en el que $n$ fuera primo, por la tercera versión del Teorema Pequeño de Fermat, se tendría que \n",
    "\n",
    "$$\n",
    "U_{n - \\left(\\frac{\\Delta}{n}\\right)} \\equiv 0\\pmod{n}, \\\\\n",
    "V_{n - \\left(\\frac{\\Delta}{n}\\right)} \\equiv \n",
    "    \\begin{cases}\n",
    "        2  \\pmod{n} & \\text{ si } \\left(\\frac{\\Delta}{n}\\right) =  1 \\\\\n",
    "        2Q \\pmod{n} & \\text{ si } \\left(\\frac{\\Delta}{n}\\right) = -1 \\\\\n",
    "        P  \\pmod{n} & \\text{ si } \\left(\\frac{\\Delta}{n}\\right) =  0 \\\\\n",
    "    \\end{cases}\n",
    "$$"
   ]
  },
  {
   "cell_type": "code",
   "execution_count": 33,
   "metadata": {},
   "outputs": [
    {
     "data": {
      "text/plain": [
       "-1"
      ]
     },
     "metadata": {},
     "output_type": "display_data"
    }
   ],
   "source": [
    "jacobisymbol(Δ, n)"
   ]
  },
  {
   "cell_type": "markdown",
   "metadata": {},
   "source": [
    "Como el símbolo de Jacobi $\\left(\\frac{\\Delta}{n}\\right) = -1$, y $r = n + 1 = n - \\left(\\frac{\\Delta}{n}\\right)$, entonces "
   ]
  },
  {
   "cell_type": "code",
   "execution_count": 34,
   "metadata": {},
   "outputs": [
    {
     "data": {
      "text/plain": [
       "-6"
      ]
     },
     "metadata": {},
     "output_type": "display_data"
    }
   ],
   "source": [
    "2*Q"
   ]
  },
  {
   "cell_type": "markdown",
   "metadata": {},
   "source": [
    "$$\n",
    "\\begin{aligned}\n",
    "    U_r & \\equiv 0 \\pmod{n} \\\\\n",
    "    V_r & \\equiv 2Q \\pmod{n} \\equiv -6 \\pmod{n}\n",
    "\\end{aligned}\n",
    "$$"
   ]
  },
  {
   "cell_type": "markdown",
   "metadata": {},
   "source": [
    "Para comprobar el valor de $V_{r/2}$ y $U_{r/2}$, vamos a usar estas dos propiedades:\n",
    "\n",
    "$$\n",
    "\\begin{aligned}\n",
    "U_{2k} & = U_k V_k \\\\\n",
    "V_{2k} & = V_k^2 - 2Q^k\n",
    "\\end{aligned}\n",
    "$$\n",
    "\n",
    "Tomamos $k = r/2 \\iff r = 2k$. Se tiene entonces que \n",
    "\n",
    "$$\n",
    "\\begin{aligned}\n",
    "U_{2k} & = U_r = U_{r/2} V_{r/2} \\\\\n",
    "V_{2k} & = V_r = V_{r/2}^2 - 2Q^{r/2}\n",
    "\\end{aligned}\n",
    "$$\n",
    "\n",
    "Desarrollando la segunda ecuación, obtenemos que \n",
    "\n",
    "$$\n",
    "V_{r} \\equiv V_{r/2}^2 - 2Q^{r/2} \\equiv V_{r/2}^2 - 2(-3)^{r/2} \\equiv -6 \\pmod{n} \\\\\n",
    "V_{r/2}^2 \\equiv -6 + 2 (-3)^{r/2} \\pmod{n}\n",
    "$$\n",
    "\n",
    "Veamos cuánto vale $-6 + 2 (-3)^{r/2} \\pmod{n}$"
   ]
  },
  {
   "cell_type": "code",
   "execution_count": 35,
   "metadata": {},
   "outputs": [
    {
     "data": {
      "text/plain": [
       "35948725702518441292684587619687"
      ]
     },
     "metadata": {},
     "output_type": "display_data"
    }
   ],
   "source": [
    "mod(-6 + 2 * powermod(-3, div(r, 2), n), n)"
   ]
  },
  {
   "cell_type": "markdown",
   "metadata": {},
   "source": [
    "Así que \n",
    "\n",
    "$$\n",
    "V_{r/2} \\equiv \\sqrt{35948725702518441292684587619687} \\pmod{n} \\not \\equiv 0 \\pmod{n}\n",
    "$$\n",
    "\n",
    "Esto nos dice que \n",
    "\n",
    "$$\n",
    "\\begin{aligned}\n",
    "    U_r \\equiv 0 \\pmod{n} \\equiv U_{r/2} V_{r/2} & \\pmod{n} \\iff \\\\\n",
    "    U_{r/2} \\equiv 0 & \\pmod{n}\n",
    "\\end{aligned}\n",
    "$$\n"
   ]
  },
  {
   "cell_type": "code",
   "execution_count": 36,
   "metadata": {},
   "outputs": [
    {
     "data": {
      "text/plain": [
       "33511224523912970559564302768058"
      ]
     },
     "metadata": {},
     "output_type": "display_data"
    }
   ],
   "source": [
    "V_r_div_2 = U_binario(P, Q, div(r, 2), n)[2]"
   ]
  },
  {
   "cell_type": "code",
   "execution_count": 37,
   "metadata": {},
   "outputs": [
    {
     "data": {
      "text/plain": [
       "35948725702518441292684587619687"
      ]
     },
     "metadata": {},
     "output_type": "display_data"
    }
   ],
   "source": [
    "powermod(V_r_div_2, 2, n)"
   ]
  },
  {
   "cell_type": "code",
   "execution_count": 38,
   "metadata": {},
   "outputs": [
    {
     "data": {
      "text/plain": [
       "0"
      ]
     },
     "metadata": {},
     "output_type": "display_data"
    }
   ],
   "source": [
    "U_binario(P, Q, r, n)[1][1]"
   ]
  },
  {
   "cell_type": "markdown",
   "metadata": {},
   "source": [
    "Se verifica el pequeño teorema de Fermat para el entero cuadrático $\\alpha$"
   ]
  },
  {
   "cell_type": "markdown",
   "metadata": {},
   "source": [
    "## Apartado 3"
   ]
  },
  {
   "cell_type": "markdown",
   "metadata": {},
   "source": [
    "Tenemos que factorizar $r = n + 1$. Para ello, vamos a usar los métodos que desarrollamos en los anteriores ejercicios: "
   ]
  },
  {
   "cell_type": "code",
   "execution_count": 39,
   "metadata": {},
   "outputs": [
    {
     "data": {
      "text/plain": [
       "descomponer (generic function with 1 method)"
      ]
     },
     "metadata": {},
     "output_type": "display_data"
    }
   ],
   "source": [
    "function lucas_lehmer(n)\n",
    "\tfactores = collect(keys(factor(n-1)))\n",
    "\n",
    "\tfor a in 1:(n-1)\n",
    "\n",
    "\t\tif powermod(a, n-1, n) == 1\n",
    "\t\t\tresultado = map(q -> powermod(a, div(n-1, q), n), factores)\n",
    "\t\t\tif 1 ∉ resultado\n",
    "\t\t\t\treturn true\n",
    "\t\t\telse\n",
    "\t\t\t\tposicion = first(findall(x -> x == 1, resultado))\n",
    "\t\t\tend\n",
    "\t\tend\n",
    "\tend\n",
    "\n",
    "\treturn false\n",
    "end\n",
    "\n",
    "function ρ_Polard(n, f, t = 1000, x0 = 2)\n",
    "\t# En caso en el que sea divisible por dos, es posible que falle, así que lo comprobamos a mano.\n",
    "\tif mod(n, 2) == 0\n",
    "\t\treturn [[2, div(n, 2)], 0]\n",
    "\tend\n",
    "\n",
    "\tx = x0\n",
    "\ty = x\n",
    "\ti = 0\n",
    "\n",
    "\twhile i < t\n",
    "\t\ti = i + 1\n",
    "\t\tx = mod(f(x), n)\n",
    "\t\ty = mod(f(f(y)), n)\n",
    "\t\tg = gcd(x - y, n)\n",
    "\n",
    "\t\tif 1 < g && g < n\n",
    "\t\t\treturn [[g, div(n, g)], i]\n",
    "\t\tend\n",
    "\tend\n",
    "\n",
    "\treturn []\n",
    "end\n",
    "\n",
    "function descomponer(n)\n",
    "\tpor_descomponer = [n]\n",
    "\tirreducibles    = []\n",
    "\t\n",
    "\tf     = x -> x^2 + 1\n",
    "\tf_alt = x -> x^2 - 1\n",
    "\t\n",
    "\ti = 0\n",
    "\n",
    "\twhile length(por_descomponer) > 0\n",
    "\t\tprintln(\"\\nPor descomponer: $por_descomponer\")\n",
    "\t\tnum = pop!(por_descomponer)\n",
    "\n",
    "\t\t# Aplica el test de Miller Rabin primero. Si sale posible primo, saca \n",
    "\t\t# un certificado de primalidad con Lucas Lehmer.\n",
    "\t\tif isprime(num) && lucas_lehmer(num)\n",
    "\t\t\tprintln(\"\\t-> $num es primo\")\n",
    "\t\t\tpush!(irreducibles, num)\n",
    "\t\telse\n",
    "\t\t\tprintln(\"\\t-> Descomponiendo $num\")\n",
    "\t\t\tresultado = ρ_Polard(num, f, 3000)\n",
    "\n",
    "\t\t\t# Dado que ρ_Polard puede fallar, probamos con otra función alternativa. \n",
    "\t\t\t# Por ejemplo, para 25, x -> x^2 + 1, no se devuelve nada. \n",
    "\t\t\t\n",
    "\t\t\tif length(resultado) == 0\n",
    "\t\t\t\tresultado = ρ_Polard(num, x -> x^2 - 1, 4000)\n",
    "\t\t\tend\n",
    "\t\t\t\n",
    "\t\t\ti = i + resultado[2]\n",
    "\t\t\tpor_descomponer = vcat(por_descomponer, resultado[1])\n",
    "\t\tend\n",
    "\tend\n",
    "\n",
    "\treturn [sort(irreducibles), i]\n",
    "end"
   ]
  },
  {
   "cell_type": "markdown",
   "metadata": {},
   "source": [
    "Los facores primos de $r$ son los siguientes:"
   ]
  },
  {
   "cell_type": "code",
   "execution_count": 40,
   "metadata": {},
   "outputs": [
    {
     "name": "stdout",
     "output_type": "stream",
     "text": [
      "\n",
      "Por descomponer: Int128[35948725702518441292684587619700]\n",
      "\t-> Descomponiendo 35948725702518441292684587619700\n",
      "\n",
      "Por descomponer: Int128[2, 17974362851259220646342293809850]\n",
      "\t-> Descomponiendo 17974362851259220646342293809850\n",
      "\n",
      "Por descomponer: Int128[2, 2, 8987181425629610323171146904925]\n",
      "\t-> Descomponiendo 8987181425629610323171146904925\n",
      "\n",
      "Por descomponer: Int128[2, 2, 25, 359487257025184412926845876197]\n",
      "\t-> Descomponiendo 359487257025184412926845876197\n",
      "\n",
      "Por descomponer: Int128[2, 2, 25, 23, 15629880740225409257688951139]\n",
      "\t-> Descomponiendo 15629880740225409257688951139\n",
      "\n",
      "Por descomponer: Int128[2, 2, 25, 23, 3607, 4333207857007321668336277]\n",
      "\t-> Descomponiendo 4333207857007321668336277\n",
      "\n",
      "Por descomponer: Int128[2, 2, 25, 23, 3607, 6997, 619295106046494450241]\n",
      "\t-> Descomponiendo 619295106046494450241\n",
      "\n",
      "Por descomponer: Int128[2, 2, 25, 23, 3607, 6997, 27179, 22785794401798979]\n",
      "\t-> 22785794401798979 es primo\n",
      "\n",
      "Por descomponer: Int128[2, 2, 25, 23, 3607, 6997, 27179]\n",
      "\t-> 27179 es primo\n",
      "\n",
      "Por descomponer: Int128[2, 2, 25, 23, 3607, 6997]\n",
      "\t-> 6997 es primo\n",
      "\n",
      "Por descomponer: Int128[2, 2, 25, 23, 3607]\n",
      "\t-> 3607 es primo\n",
      "\n",
      "Por descomponer: Int128[2, 2, 25, 23]\n",
      "\t-> 23 es primo\n",
      "\n",
      "Por descomponer: Int128[2, 2, 25]\n",
      "\t-> Descomponiendo 25\n",
      "\n",
      "Por descomponer: Int128[2, 2, 5, 5]\n",
      "\t-> 5 es primo\n",
      "\n",
      "Por descomponer: Int128[2, 2, 5]\n",
      "\t-> 5 es primo\n",
      "\n",
      "Por descomponer: Int128[2, 2]\n",
      "\t-> 2 es primo\n",
      "\n",
      "Por descomponer: Int128[2]\n",
      "\t-> 2 es primo\n"
     ]
    },
    {
     "data": {
      "text/plain": [
       "2-element Vector{Any}:\n",
       "     Any[2, 2, 5, 5, 23, 3607, 6997, 27179, 22785794401798979]\n",
       " 3392"
      ]
     },
     "metadata": {},
     "output_type": "display_data"
    }
   ],
   "source": [
    "descomponer(r)"
   ]
  },
  {
   "cell_type": "markdown",
   "metadata": {},
   "source": [
    "Usando las funciones del lenguaje, verificamos que sale lo correcto:"
   ]
  },
  {
   "cell_type": "code",
   "execution_count": 41,
   "metadata": {},
   "outputs": [
    {
     "data": {
      "text/plain": [
       "2^2 * 5^2 * 23 * 3607 * 6997 * 27179 * 22785794401798979"
      ]
     },
     "metadata": {},
     "output_type": "display_data"
    }
   ],
   "source": [
    "factor(r)"
   ]
  },
  {
   "cell_type": "markdown",
   "metadata": {},
   "source": [
    "Nos quedamos ahora con sus factores primos"
   ]
  },
  {
   "cell_type": "code",
   "execution_count": 42,
   "metadata": {},
   "outputs": [
    {
     "data": {
      "text/plain": [
       "7-element Vector{Int128}:\n",
       "                 2\n",
       "                 5\n",
       "                23\n",
       "              3607\n",
       "              6997\n",
       "             27179\n",
       " 22785794401798979"
      ]
     },
     "metadata": {},
     "output_type": "display_data"
    }
   ],
   "source": [
    "factores_r = collect(keys(factor(r)))"
   ]
  },
  {
   "cell_type": "markdown",
   "metadata": {},
   "source": [
    "Podemos ver por Lucas Lehmer que, en efecto, son primos:"
   ]
  },
  {
   "cell_type": "code",
   "execution_count": 43,
   "metadata": {},
   "outputs": [
    {
     "name": "stdout",
     "output_type": "stream",
     "text": [
      "\n",
      "Aplicando el test de Lucas-Lehmer para 2\n",
      "\tProbando con 1\n",
      "\t\tSe ha encontrado a = 1\n",
      "\t\tResultados modulares: Int128[]\n",
      "\n",
      "Aplicando el test de Lucas-Lehmer para 5\n",
      "\tProbando con 1\n",
      "\t\tFalla para q = 2\n",
      "\tProbando con 2\n",
      "\t\tSe ha encontrado a = 2\n",
      "\t\tResultados modulares: Int128[4]\n",
      "\n",
      "Aplicando el test de Lucas-Lehmer para 23\n",
      "\tProbando con 1\n",
      "\t\tFalla para q = 2\n",
      "\tProbando con 2\n",
      "\t\tFalla para q = 2\n",
      "\tProbando con 3\n",
      "\t\tFalla para q = 2\n",
      "\tProbando con 4\n",
      "\t\tFalla para q = 2\n",
      "\tProbando con 5\n",
      "\t\tSe ha encontrado a = 5\n",
      "\t\tResultados modulares: Int128[22, 2]\n",
      "\n",
      "Aplicando el test de Lucas-Lehmer para 3607\n",
      "\tProbando con 1\n",
      "\t\tFalla para q = 2\n",
      "\tProbando con 2\n",
      "\t\tFalla para q = 2\n",
      "\tProbando con 3\n",
      "\t\tFalla para q = 3\n",
      "\tProbando con 4\n",
      "\t\tFalla para q = 2\n",
      "\tProbando con 5\n",
      "\t\tSe ha encontrado a = 5\n",
      "\t\tResultados modulares: Int128[3606, 1399, 1197]\n",
      "\n",
      "Aplicando el test de Lucas-Lehmer para 6997\n",
      "\tProbando con 1\n",
      "\t\tFalla para q = 2\n",
      "\tProbando con 2\n",
      "\t\tFalla para q = 3\n",
      "\tProbando con 3\n",
      "\t\tFalla para q = 2\n",
      "\tProbando con 4\n",
      "\t\tFalla para q = 2\n",
      "\tProbando con 5\n",
      "\t\tSe ha encontrado a = 5\n",
      "\t\tResultados modulares: Int128[6996, 4088, 4800, 4065]\n",
      "\n",
      "Aplicando el test de Lucas-Lehmer para 27179\n",
      "\tProbando con 1\n",
      "\t\tFalla para q = 2\n",
      "\tProbando con 2\n",
      "\t\tSe ha encontrado a = 2\n",
      "\t\tResultados modulares: Int128[27178, 10576, 22188]\n",
      "\n",
      "Aplicando el test de Lucas-Lehmer para 22785794401798979\n",
      "\tProbando con 1\n",
      "\t\tFalla para q = 2\n",
      "\tProbando con 2\n",
      "\t\tSe ha encontrado a = 2\n",
      "\t\tResultados modulares: Int128[22785794401798978, 20696000018626491, 19740862211928966, 12727123568882892]\n"
     ]
    },
    {
     "data": {
      "text/plain": [
       "7-element Vector{Bool}:\n",
       " 1\n",
       " 1\n",
       " 1\n",
       " 1\n",
       " 1\n",
       " 1\n",
       " 1"
      ]
     },
     "metadata": {},
     "output_type": "display_data"
    }
   ],
   "source": [
    "function lucas_lehmer(n)\n",
    "\tprintln(\"\\nAplicando el test de Lucas-Lehmer para $n\")\n",
    "\n",
    "\tfactores = collect(keys(factor(n-1)))\n",
    "\n",
    "\tfor a in 1:(n-1)\n",
    "\t\tprintln(\"\\tProbando con $a\")\n",
    "\n",
    "\t\tif powermod(a, n-1, n) == 1\n",
    "\t\t\tresultado = map(q -> powermod(a, div(n-1, q), n), factores)\n",
    "\t\t\tif 1 ∉ resultado\n",
    "\t\t\t\tprintln(\"\\t\\tSe ha encontrado a = $a\")\n",
    "\t\t\t\tprintln(\"\\t\\tResultados modulares: $resultado\")\n",
    "\t\t\t\treturn true\n",
    "\t\t\telse\n",
    "\t\t\t\tposicion = first(findall(x -> x == 1, resultado))\n",
    "\t\t\t\tprintln(\"\\t\\tFalla para q = \", factores[posicion])\n",
    "\t\t\tend\n",
    "\t\tend\n",
    "\tend\n",
    "\n",
    "\treturn false\n",
    "end\n",
    "\n",
    "map(p -> lucas_lehmer(p), factores_r)"
   ]
  },
  {
   "cell_type": "markdown",
   "metadata": {},
   "source": [
    "Calculemos ahora $U_{r/p}$"
   ]
  },
  {
   "cell_type": "code",
   "execution_count": 44,
   "metadata": {},
   "outputs": [
    {
     "data": {
      "text/plain": [
       "U_binario (generic function with 2 methods)"
      ]
     },
     "metadata": {},
     "output_type": "display_data"
    }
   ],
   "source": [
    "function U_binario(P, Q, r, modulo = Inf)\n",
    "\tn      = reverse(digits(r, base = 2))\n",
    "\tk      = 0\n",
    "\tpareja::Tuple{BigInt, BigInt} = (0, 1)\n",
    "\n",
    "\tfor e in n\n",
    "\t\tif e == 0\n",
    "\t\t\tpareja = (\n",
    "                mod(2 * pareja[1] * pareja[2] - P * pareja[1]^2, modulo),\n",
    "                mod(pareja[2]^2 - Q * pareja[1]^2, modulo)\n",
    "            )\n",
    "\t\telse\n",
    "            pareja = (\n",
    "                mod(pareja[2]^2 - Q * pareja[1]^2, modulo),\n",
    "                mod(P * pareja[2]^2 - 2 * Q * pareja[1] * pareja[2], modulo)\n",
    "            ) \n",
    "        end\n",
    "\t\tk = k + 1\n",
    "\tend\n",
    "\n",
    "\treturn (\n",
    "\t\tpareja, \n",
    "\t\tmod(2*pareja[2] - P*pareja[1], modulo)\n",
    "\t)\n",
    "end"
   ]
  },
  {
   "cell_type": "code",
   "execution_count": 49,
   "metadata": {},
   "outputs": [],
   "source": [
    "Us = Dict(\"U_r\" => U_binario(P, Q, r, n)[1][1])\n",
    "Vs = Dict(\"V_r\" => U_binario(P, Q, r, n)[2])\n",
    "\n",
    "for p in factores_r \n",
    "    i = div(r, p)\n",
    "    Us[\"U_{r/$p}\"] = U_binario(P, Q, div(r, p), n)[1][1]\n",
    "    Vs[\"V_{r/$p}\"] = U_binario(P, Q, div(r, p), n)[2]\n",
    "end"
   ]
  },
  {
   "cell_type": "code",
   "execution_count": 50,
   "metadata": {},
   "outputs": [
    {
     "data": {
      "text/plain": [
       "Dict{String, BigInt} with 8 entries:\n",
       "  \"U_{r/23}\"                => 35251273048297321931500780892606\n",
       "  \"U_{r/3607}\"              => 27615200258625345365740738319032\n",
       "  \"U_{r/22785794401798979}\" => 4531990683217458249656118336046\n",
       "  \"U_{r/27179}\"             => 20454997805251485315874078317556\n",
       "  \"U_{r/6997}\"              => 10796802347920591023075669305392\n",
       "  \"U_r\"                     => 0\n",
       "  \"U_{r/5}\"                 => 15118287550084897556519673905987\n",
       "  \"U_{r/2}\"                 => 0"
      ]
     },
     "metadata": {},
     "output_type": "display_data"
    }
   ],
   "source": [
    "Us"
   ]
  },
  {
   "cell_type": "code",
   "execution_count": 51,
   "metadata": {},
   "outputs": [
    {
     "data": {
      "text/plain": [
       "Dict{String, BigInt} with 8 entries:\n",
       "  \"V_r\"                     => 35948725702518441292684587619693\n",
       "  \"V_{r/22785794401798979}\" => 15312824220848389612446924893958\n",
       "  \"V_{r/2}\"                 => 33511224523912970559564302768058\n",
       "  \"V_{r/23}\"                => 27128414493032770256212242658020\n",
       "  \"V_{r/27179}\"             => 2784434599230742961468086911068\n",
       "  \"V_{r/5}\"                 => 25145639394083175943939801072698\n",
       "  \"V_{r/6997}\"              => 28098605898373815023063226710450\n",
       "  \"V_{r/3607}\"              => 15642377286530848664905357900397"
      ]
     },
     "metadata": {},
     "output_type": "display_data"
    }
   ],
   "source": [
    "Vs"
   ]
  },
  {
   "cell_type": "markdown",
   "metadata": {},
   "source": [
    "Como $U_{r/2} \\equiv 0 \\pmod{n}$, se tiene que el rango de lucas $w(n) = \\frac{r}{2} = \\frac{n+1}{2}$ "
   ]
  },
  {
   "cell_type": "markdown",
   "metadata": {},
   "source": [
    "El apartado 2 nos decía que $U_{r/2} = U_{r} = 0 \\pmod{n}$, así que hemos justificado el resultado. "
   ]
  },
  {
   "cell_type": "markdown",
   "metadata": {},
   "source": [
    "Por el teorema de Lucas-caracterización de primalidad, si encontramos una sucesión de Lucas $\\left\\{U_i\\right\\}_{i \\in N}$ determinada por $P, Q$ con $\\Delta = P^2 - Q$ no cuadrado perfecto y $n \\in \\mathbb{Z}$ satisface $(n,2Q\\Delta)=1$ y $w(n) = n\\pm1$, entonces, $n$ es primo."
   ]
  },
  {
   "cell_type": "code",
   "execution_count": 52,
   "metadata": {},
   "outputs": [
    {
     "data": {
      "text/plain": [
       "1"
      ]
     },
     "metadata": {},
     "output_type": "display_data"
    }
   ],
   "source": [
    "gcd(n, 2 * Q * Δ)"
   ]
  },
  {
   "cell_type": "markdown",
   "metadata": {},
   "source": [
    "En este caso, no podemos usar dicho teorema, pues el rango no nos da $w(n) = \\pm 1$; así que no podemos garantizar que $n$ es primo. "
   ]
  }
 ],
 "metadata": {
  "kernelspec": {
   "display_name": "Julia 1.7.2",
   "language": "julia",
   "name": "julia-1.7"
  },
  "language_info": {
   "file_extension": ".jl",
   "mimetype": "application/julia",
   "name": "julia",
   "version": "1.7.2"
  },
  "orig_nbformat": 4
 },
 "nbformat": 4,
 "nbformat_minor": 2
}
