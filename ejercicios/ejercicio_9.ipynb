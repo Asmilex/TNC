{
 "cells": [
  {
   "cell_type": "markdown",
   "metadata": {},
   "source": [
    "# Ejercicio 9 \n",
    "\n",
    "Toma $n$ como tu número publicado para el ejercicio 2. Escribe $n$ en base 2, y usa esas cifras para definir un polinomio, $f(x)$, donde tu bit más significativo defina el grado del polinomio $n$, el siguiente bit va multiplicado por $x^{n-1}$ y así sucesivamente hasta que el bit menos significativo sea el término independiente. El polinomio que obtienes es universal en el sentido de que tiene coeficientes en cualquier anillo.\n",
    "\n",
    "Sea $f(x)$ el polinomio que obtienes con coeficientes en $\\mathbb{Z}$.\n",
    "\n",
    "1. Toma $g(x) \\equiv f(x) \\pmod{2}$ y halla el menor cuerpo de característica 2 que contenga a todas las raíces de g. ¿Qué deduces sobre la irreducibilidad de $g(x)$ en $\\mathbb{Z}_2[x]$?\n",
    "2. Extrae la parte libre de cuadrados de $g(x)$ y calcúlale la matriz de Berlekamp por columnas. Resuelve el sistema lineal $(B - Id)X = 0$.\n",
    "3. Aplica el algoritmo de Berlekamp recursivamente si es necesario para hallar la descomposición en irreducibles de $g(x)$ en $\\mathbb{Z}_2[x]$.\n",
    "4. Haz lo mismo para hallar la descomposición en irreducibles de $f(x) \\pmod{3}$.\n",
    "5. ¿Qué deduces sobre la reducibilidad de $f(x)$ en $\\mathbb{Z}[x]$?"
   ]
  },
  {
   "cell_type": "code",
   "execution_count": 143,
   "metadata": {},
   "outputs": [],
   "source": [
    "import numpy as np"
   ]
  },
  {
   "cell_type": "code",
   "execution_count": 144,
   "metadata": {},
   "outputs": [],
   "source": [
    "n = 77432081"
   ]
  },
  {
   "cell_type": "code",
   "execution_count": 145,
   "metadata": {},
   "outputs": [
    {
     "data": {
      "text/plain": [
       "'100100111011000010100010001'"
      ]
     },
     "execution_count": 145,
     "metadata": {},
     "output_type": "execute_result"
    }
   ],
   "source": [
    "format(n, 'b')"
   ]
  },
  {
   "cell_type": "code",
   "execution_count": 146,
   "metadata": {},
   "outputs": [],
   "source": [
    "Z2 = PolynomialRing(GF(2), 'x')\n",
    "x = Z2.gen()\n",
    "g = 1 + x^4 + x^8 + x^10 + x^15 + x^16 + x^18 + x^19 + x^20 + x^23 + x^26"
   ]
  },
  {
   "cell_type": "markdown",
   "metadata": {},
   "source": [
    "## Apartado 1"
   ]
  },
  {
   "cell_type": "code",
   "execution_count": 147,
   "metadata": {},
   "outputs": [],
   "source": [
    "def menor_indice_cuerpo(f, p, x):\n",
    "    g = x^p \n",
    "    g1 = (g - x).mod(f)\n",
    "    k = 1\n",
    "    \n",
    "    while g1 > 0:\n",
    "        g  = (g^p).mod(f)\n",
    "        g1 = (g - x).mod(f)\n",
    "        k = k + 1\n",
    "        \n",
    "    return k"
   ]
  },
  {
   "cell_type": "code",
   "execution_count": 148,
   "metadata": {
    "scrolled": true
   },
   "outputs": [
    {
     "data": {
      "text/plain": [
       "616"
      ]
     },
     "execution_count": 148,
     "metadata": {},
     "output_type": "execute_result"
    }
   ],
   "source": [
    "menor_indice_cuerpo(g, 2, x)"
   ]
  },
  {
   "cell_type": "markdown",
   "metadata": {},
   "source": [
    "El menor cuerpo de característica $2$ que contiene a todas las raíces de $g$ es $$F_{2^{2^3 * 7 * 11}} = F_{2^{8 * 7 * 11}}$$"
   ]
  },
  {
   "cell_type": "code",
   "execution_count": 149,
   "metadata": {},
   "outputs": [
    {
     "data": {
      "text/plain": [
       "2^3 * 7 * 11"
      ]
     },
     "execution_count": 149,
     "metadata": {},
     "output_type": "execute_result"
    }
   ],
   "source": [
    "factor(616)"
   ]
  },
  {
   "cell_type": "markdown",
   "metadata": {},
   "source": [
    "Como $616 > \\text{grado}(g) = 26$, entonces $g(x)$ es reducible en $\\mathbb{Z}_2[x]$. (Esto no sale esto exactamente. Se rompe de otra manera. Mira el apartado 3) Por ello, $g(x)$ puede romperse en tres polinomios de grados $8, 7$ y $11$, ya que $8 + 7 + 11 = 26$"
   ]
  },
  {
   "cell_type": "markdown",
   "metadata": {},
   "source": [
    "## Apartado 2"
   ]
  },
  {
   "cell_type": "markdown",
   "metadata": {},
   "source": [
    "$g(x)$ es libre de cuadrados, así que no será necesario extraer nada. "
   ]
  },
  {
   "cell_type": "code",
   "execution_count": 150,
   "metadata": {},
   "outputs": [],
   "source": [
    "def extraer_B(g, p, field):\n",
    "    # Asegúrate de que `g` está en el mismo cuerpo que `field`\n",
    "    x = field.gen()\n",
    "    B = np.zeros([g.degree(), g.degree()], dtype = int)\n",
    "\n",
    "    for i in range(0, g.degree()):\n",
    "        coeficientes = [0] * g.degree()\n",
    "\n",
    "        pol = x^(p*i)\n",
    "        pol = pol.mod(g)\n",
    "        #print(\"[\" + str(i) + \"] x^2i mod f = \" + str(pol))\n",
    "\n",
    "        for j, coef in enumerate(pol.coefficients(sparse = False)):\n",
    "            coeficientes[j] = coef\n",
    "\n",
    "        B[i, :] = coeficientes\n",
    "    return Matrix(field, B.tolist())\n",
    "\n",
    "B = extraer_B(g, 2, Z2)"
   ]
  },
  {
   "cell_type": "markdown",
   "metadata": {},
   "source": [
    "Nuestra matriz $B$ es "
   ]
  },
  {
   "cell_type": "code",
   "execution_count": 151,
   "metadata": {},
   "outputs": [
    {
     "data": {
      "text/plain": [
       "26 x 26 dense matrix over Univariate Polynomial Ring in x over Finite Field of size 2 (using GF2X) (use the '.str()' method to see the entries)"
      ]
     },
     "execution_count": 151,
     "metadata": {},
     "output_type": "execute_result"
    }
   ],
   "source": [
    "B"
   ]
  },
  {
   "cell_type": "code",
   "execution_count": 152,
   "metadata": {},
   "outputs": [
    {
     "name": "stdout",
     "output_type": "stream",
     "text": [
      "[1 0 0 0 0 0 0 0 0 0 0 0 0 0 0 0 0 0 0 0 0 0 0 0 0 0]\n",
      "[0 0 1 0 0 0 0 0 0 0 0 0 0 0 0 0 0 0 0 0 0 0 0 0 0 0]\n",
      "[0 0 0 0 1 0 0 0 0 0 0 0 0 0 0 0 0 0 0 0 0 0 0 0 0 0]\n",
      "[0 0 0 0 0 0 1 0 0 0 0 0 0 0 0 0 0 0 0 0 0 0 0 0 0 0]\n",
      "[0 0 0 0 0 0 0 0 1 0 0 0 0 0 0 0 0 0 0 0 0 0 0 0 0 0]\n",
      "[0 0 0 0 0 0 0 0 0 0 1 0 0 0 0 0 0 0 0 0 0 0 0 0 0 0]\n",
      "[0 0 0 0 0 0 0 0 0 0 0 0 1 0 0 0 0 0 0 0 0 0 0 0 0 0]\n",
      "[0 0 0 0 0 0 0 0 0 0 0 0 0 0 1 0 0 0 0 0 0 0 0 0 0 0]\n",
      "[0 0 0 0 0 0 0 0 0 0 0 0 0 0 0 0 1 0 0 0 0 0 0 0 0 0]\n",
      "[0 0 0 0 0 0 0 0 0 0 0 0 0 0 0 0 0 0 1 0 0 0 0 0 0 0]\n",
      "[0 0 0 0 0 0 0 0 0 0 0 0 0 0 0 0 0 0 0 0 1 0 0 0 0 0]\n",
      "[0 0 0 0 0 0 0 0 0 0 0 0 0 0 0 0 0 0 0 0 0 0 1 0 0 0]\n",
      "[0 0 0 0 0 0 0 0 0 0 0 0 0 0 0 0 0 0 0 0 0 0 0 0 1 0]\n",
      "[1 0 0 0 1 0 0 0 1 0 1 0 0 0 0 1 1 0 1 1 1 0 0 1 0 0]\n",
      "[0 0 1 0 0 0 1 0 0 0 1 0 1 0 0 0 0 1 1 0 1 1 1 0 0 1]\n",
      "[0 1 0 0 1 1 0 0 1 1 0 1 1 0 1 0 1 1 0 0 0 1 1 1 0 0]\n",
      "[0 0 0 1 0 0 1 1 0 0 1 1 0 1 1 0 1 0 1 1 0 0 0 1 1 1]\n",
      "[1 1 0 0 1 0 0 0 0 0 1 1 1 1 0 0 1 1 0 0 1 0 0 1 1 1]\n",
      "[1 1 1 1 1 1 1 0 1 1 1 1 1 1 1 0 0 1 0 1 0 1 1 1 1 1]\n",
      "[1 1 1 1 0 0 1 1 0 1 0 0 1 1 1 0 1 1 1 1 0 0 0 0 0 1]\n",
      "[0 1 1 1 1 0 0 0 1 0 0 0 0 0 1 1 0 1 1 0 0 0 0 0 1 0]\n",
      "[1 0 0 1 0 1 1 0 1 0 0 0 0 0 0 1 0 1 1 0 0 0 0 1 0 0]\n",
      "[0 0 1 0 0 1 0 1 1 0 1 0 0 0 0 0 0 1 0 1 1 0 0 0 0 1]\n",
      "[0 1 0 0 1 1 0 1 0 0 1 1 1 0 0 0 1 1 0 0 1 0 1 0 1 0]\n",
      "[1 0 0 1 1 0 1 1 1 1 1 0 1 1 1 1 1 0 0 0 1 0 1 1 1 0]\n",
      "[1 0 1 0 1 1 1 0 0 1 0 1 1 0 1 0 0 1 0 1 1 0 1 1 1 1]\n"
     ]
    }
   ],
   "source": [
    "print(B)"
   ]
  },
  {
   "cell_type": "markdown",
   "metadata": {},
   "source": [
    "El rango de $B - I_d$ es $23$, así que habrá una única solución"
   ]
  },
  {
   "cell_type": "code",
   "execution_count": 153,
   "metadata": {},
   "outputs": [
    {
     "data": {
      "text/plain": [
       "23"
      ]
     },
     "execution_count": 153,
     "metadata": {},
     "output_type": "execute_result"
    }
   ],
   "source": [
    "(B - Matrix.identity(g.degree())).rank()"
   ]
  },
  {
   "cell_type": "code",
   "execution_count": 154,
   "metadata": {},
   "outputs": [
    {
     "data": {
      "text/plain": [
       "Free module of degree 26 and rank 3 over Univariate Polynomial Ring in x over Finite Field of size 2 (using GF2X)\n",
       "Echelon basis matrix:\n",
       "[1 0 0 0 0 0 0 0 0 0 0 0 0 0 0 0 0 0 0 0 0 0 0 0 0 0]\n",
       "[0 0 1 1 0 0 1 0 0 1 1 0 0 0 0 0 1 1 0 0 0 0 0 1 0 1]\n",
       "[0 0 0 1 1 1 1 1 0 0 0 1 0 1 0 0 0 1 0 0 1 0 1 0 0 0]"
      ]
     },
     "execution_count": 154,
     "metadata": {},
     "output_type": "execute_result"
    }
   ],
   "source": [
    "soluciones = (B - Matrix.identity(g.degree())).left_kernel()  # left o right?\n",
    "soluciones"
   ]
  },
  {
   "cell_type": "markdown",
   "metadata": {},
   "source": [
    "## Apartado 3"
   ]
  },
  {
   "cell_type": "code",
   "execution_count": 155,
   "metadata": {},
   "outputs": [
    {
     "data": {
      "text/plain": [
       "[1,\n",
       " x^25 + x^23 + x^17 + x^16 + x^10 + x^9 + x^6 + x^3 + x^2,\n",
       " x^22 + x^20 + x^17 + x^13 + x^11 + x^7 + x^6 + x^5 + x^4 + x^3]"
      ]
     },
     "execution_count": 155,
     "metadata": {},
     "output_type": "execute_result"
    }
   ],
   "source": [
    "def sacar_soluciones(B, g, field):\n",
    "    \n",
    "    polinomios_soluciones = []\n",
    "    soluciones = (B - Matrix.identity(g.degree())).left_kernel()\n",
    "\n",
    "    for sol in list(soluciones.gens()):\n",
    "        polinomios_soluciones.append(field(list(sol)))\n",
    "\n",
    "    return polinomios_soluciones\n",
    "\n",
    "polinomios_soluciones = sacar_soluciones(B, g, Z2)\n",
    "polinomios_soluciones"
   ]
  },
  {
   "cell_type": "markdown",
   "metadata": {},
   "source": [
    "Como $\\text{grado}(g) - \\text{rango}(B - I_d) = 3$, vamos a necesitar tres polinomios para romper $g$. Esto nos lo decía también el primer apartado"
   ]
  },
  {
   "cell_type": "code",
   "execution_count": 156,
   "metadata": {
    "scrolled": true
   },
   "outputs": [
    {
     "data": {
      "text/plain": [
       "3"
      ]
     },
     "execution_count": 156,
     "metadata": {},
     "output_type": "execute_result"
    }
   ],
   "source": [
    "g.degree() - (B - Matrix.identity(g.degree())).rank()"
   ]
  },
  {
   "cell_type": "markdown",
   "metadata": {},
   "source": [
    "Vamos a aplicar calcular el $\\text{mcd}(g, polinomio - c)$, con $c \\in \\mathbb{Z}_2$"
   ]
  },
  {
   "cell_type": "code",
   "execution_count": 157,
   "metadata": {},
   "outputs": [
    {
     "name": "stdout",
     "output_type": "stream",
     "text": [
      "gcds de x^25 + x^23 + x^17 + x^16 + x^10 + x^9 + x^6 + x^3 + x^2: \n",
      "\t-> x^18 + x^17 + x^13 + x^10 + x^8 + x^7 + x^6 + x + 1\n",
      "\t-> x^8 + x^7 + x^6 + x^3 + x^2 + x + 1\n",
      "gcds de x^22 + x^20 + x^17 + x^13 + x^11 + x^7 + x^6 + x^5 + x^4 + x^3: \n",
      "\t-> x^11 + x^10 + x^7 + x^4 + x^3 + x + 1\n",
      "\t-> x^15 + x^14 + x^13 + x^11 + x^5 + x^4 + x^2 + x + 1\n"
     ]
    }
   ],
   "source": [
    "for pol in polinomios_soluciones:\n",
    "    if pol != 1:\n",
    "        print(\"gcds de \" + str(pol) + \": \")\n",
    "        for c in range(0, Z2.modulus()):\n",
    "            print(\"\\t-> \" + str(gcd(pol - c , g)))"
   ]
  },
  {
   "cell_type": "code",
   "execution_count": 158,
   "metadata": {},
   "outputs": [],
   "source": [
    "g2 =  x^25 + x^23 + x^17 + x^16 + x^10 + x^9 + x^6 + x^3 + x^2"
   ]
  },
  {
   "cell_type": "code",
   "execution_count": 159,
   "metadata": {},
   "outputs": [
    {
     "data": {
      "text/plain": [
       "x^18 + x^17 + x^13 + x^10 + x^8 + x^7 + x^6 + x + 1"
      ]
     },
     "execution_count": 159,
     "metadata": {},
     "output_type": "execute_result"
    }
   ],
   "source": [
    "h1 = gcd(g, g2)\n",
    "h1"
   ]
  },
  {
   "cell_type": "code",
   "execution_count": 160,
   "metadata": {},
   "outputs": [
    {
     "data": {
      "text/plain": [
       "1"
      ]
     },
     "execution_count": 160,
     "metadata": {},
     "output_type": "execute_result"
    }
   ],
   "source": [
    "gcd(h1, h1.diff())"
   ]
  },
  {
   "cell_type": "code",
   "execution_count": 161,
   "metadata": {},
   "outputs": [
    {
     "data": {
      "text/plain": [
       "x^8 + x^7 + x^6 + x^3 + x^2 + x + 1"
      ]
     },
     "execution_count": 161,
     "metadata": {},
     "output_type": "execute_result"
    }
   ],
   "source": [
    "h2 = gcd(g, g2 - 1)\n",
    "h2"
   ]
  },
  {
   "cell_type": "code",
   "execution_count": 162,
   "metadata": {},
   "outputs": [
    {
     "data": {
      "text/plain": [
       "1"
      ]
     },
     "execution_count": 162,
     "metadata": {},
     "output_type": "execute_result"
    }
   ],
   "source": [
    "gcd(h2, h2.diff())"
   ]
  },
  {
   "cell_type": "code",
   "execution_count": 163,
   "metadata": {},
   "outputs": [
    {
     "data": {
      "text/plain": [
       "77"
      ]
     },
     "execution_count": 163,
     "metadata": {},
     "output_type": "execute_result"
    }
   ],
   "source": [
    "menor_indice_cuerpo(h1, 2, x)"
   ]
  },
  {
   "cell_type": "markdown",
   "metadata": {},
   "source": [
    "$77 > grado(h1)$ así que puede romper"
   ]
  },
  {
   "cell_type": "code",
   "execution_count": 164,
   "metadata": {},
   "outputs": [
    {
     "data": {
      "text/plain": [
       "(x^7 + x^3 + 1) * (x^11 + x^10 + x^7 + x^4 + x^3 + x + 1)"
      ]
     },
     "execution_count": 164,
     "metadata": {},
     "output_type": "execute_result"
    }
   ],
   "source": [
    "factor(h1)"
   ]
  },
  {
   "cell_type": "markdown",
   "metadata": {},
   "source": [
    "Sus factores son $(x^7 + x^3 + 1) * (x^{11} + x^{10} + x^7 + x^4 + x^3 + x + 1)$"
   ]
  },
  {
   "cell_type": "code",
   "execution_count": 165,
   "metadata": {},
   "outputs": [
    {
     "data": {
      "text/plain": [
       "1"
      ]
     },
     "execution_count": 165,
     "metadata": {},
     "output_type": "execute_result"
    }
   ],
   "source": [
    "gcd(\n",
    "    x^18 + x^17 + x^13 + x^10 + x^8 + x^7 + x^6 + x + 1, \n",
    "    (x^18 + x^17 + x^13 + x^10 + x^8 + x^7 + x^6 + x + 1).diff()\n",
    ")"
   ]
  },
  {
   "cell_type": "code",
   "execution_count": 166,
   "metadata": {},
   "outputs": [],
   "source": [
    "h3 = x^7 + x^3 + 1\n",
    "h4 = x^11 + x^10 + x^7 + x^4 + x^3 + x + 1"
   ]
  },
  {
   "cell_type": "code",
   "execution_count": 167,
   "metadata": {},
   "outputs": [
    {
     "data": {
      "text/plain": [
       "x^26 + x^23 + x^20 + x^19 + x^18 + x^16 + x^15 + x^10 + x^8 + x^4 + 1"
      ]
     },
     "execution_count": 167,
     "metadata": {},
     "output_type": "execute_result"
    }
   ],
   "source": [
    "h2*h3*h4"
   ]
  },
  {
   "cell_type": "code",
   "execution_count": 168,
   "metadata": {},
   "outputs": [
    {
     "data": {
      "text/plain": [
       "True"
      ]
     },
     "execution_count": 168,
     "metadata": {},
     "output_type": "execute_result"
    }
   ],
   "source": [
    "h2*h3*h4 == g"
   ]
  },
  {
   "cell_type": "markdown",
   "metadata": {},
   "source": [
    "Hemos descrito los pasos manualmente. El siguiente algoritmo generalizará lo que acabamos de realizar:"
   ]
  },
  {
   "cell_type": "code",
   "execution_count": 171,
   "metadata": {},
   "outputs": [],
   "source": [
    "def es_irreducible(f, field):\n",
    "    return all( list( map(\n",
    "        lambda polinomio, num: polinomio(num) != 0, \n",
    "        [f]*field.modulus(), \n",
    "        range(0, field.modulus())\n",
    "    )))\n",
    "\n",
    "\n",
    "def romper(g, p, field):\n",
    "    x = field.gen()\n",
    "    if gcd(g, g.diff()) != 1:\n",
    "        print(\"PROBLEMA: \" + str(g) + \" no es libre de cuadrados\")\n",
    "    \n",
    "    indice = menor_indice_cuerpo(g, p, x)\n",
    "    \n",
    "    irreducibles = []\n",
    "    if indice <= g.degree() and es_irreducible(g, field):\n",
    "        print(str(g) + \" es irreducible\")\n",
    "        return [g] \n",
    "    else:\n",
    "        print(str(g) + \" es reducible\")\n",
    "        print(\"Se espera que se necesiten polinomios de grados \" + str(factor(indice)))\n",
    "        \n",
    "        B = extraer_B(g, p, field)\n",
    "        soluciones = sacar_soluciones(B, g, field)\n",
    "        soluciones.remove(1)\n",
    "\n",
    "        print(\"Entramos en fase de gcd(g, g - c)\")\n",
    "        for pol in soluciones:\n",
    "            print(\"-> gcds de \" + str(pol) + \":\")\n",
    "            \n",
    "            for c in range(0, field.modulus()):\n",
    "                roto = gcd(pol - c , g)\n",
    "                print(\"\\t\" + str(roto))\n",
    "                \n",
    "                if roto == 1: \n",
    "                    continue\n",
    "                \n",
    "                irreducibles = list(\n",
    "                    set(irreducibles + romper(roto, p, field))\n",
    "                )\n",
    "                \n",
    "    return irreducibles"
   ]
  },
  {
   "cell_type": "code",
   "execution_count": 172,
   "metadata": {},
   "outputs": [
    {
     "name": "stdout",
     "output_type": "stream",
     "text": [
      "x^26 + x^23 + x^20 + x^19 + x^18 + x^16 + x^15 + x^10 + x^8 + x^4 + 1 es reducible\n",
      "Se espera que se necesiten polinomios de grados 2^3 * 7 * 11\n",
      "Entramos en fase de gcd(g, g - c)\n",
      "-> gcds de x^25 + x^23 + x^17 + x^16 + x^10 + x^9 + x^6 + x^3 + x^2:\n",
      "\tx^18 + x^17 + x^13 + x^10 + x^8 + x^7 + x^6 + x + 1\n",
      "x^18 + x^17 + x^13 + x^10 + x^8 + x^7 + x^6 + x + 1 es reducible\n",
      "Se espera que se necesiten polinomios de grados 7 * 11\n",
      "Entramos en fase de gcd(g, g - c)\n",
      "-> gcds de x^16 + x^14 + x^12 + x^11 + x^9 + x^7 + x^6 + x^4:\n",
      "\tx^11 + x^10 + x^7 + x^4 + x^3 + x + 1\n",
      "x^11 + x^10 + x^7 + x^4 + x^3 + x + 1 es irreducible\n",
      "\tx^7 + x^3 + 1\n",
      "x^7 + x^3 + 1 es irreducible\n",
      "\tx^8 + x^7 + x^6 + x^3 + x^2 + x + 1\n",
      "x^8 + x^7 + x^6 + x^3 + x^2 + x + 1 es irreducible\n",
      "-> gcds de x^22 + x^20 + x^17 + x^13 + x^11 + x^7 + x^6 + x^5 + x^4 + x^3:\n",
      "\tx^11 + x^10 + x^7 + x^4 + x^3 + x + 1\n",
      "x^11 + x^10 + x^7 + x^4 + x^3 + x + 1 es irreducible\n",
      "\tx^15 + x^14 + x^13 + x^11 + x^5 + x^4 + x^2 + x + 1\n",
      "x^15 + x^14 + x^13 + x^11 + x^5 + x^4 + x^2 + x + 1 es reducible\n",
      "Se espera que se necesiten polinomios de grados 2^3 * 7\n",
      "Entramos en fase de gcd(g, g - c)\n",
      "-> gcds de x^12 + x^10 + x^6 + x^5 + x^4 + x^3 + x:\n",
      "\tx^7 + x^3 + 1\n",
      "x^7 + x^3 + 1 es irreducible\n",
      "\tx^8 + x^7 + x^6 + x^3 + x^2 + x + 1\n",
      "x^8 + x^7 + x^6 + x^3 + x^2 + x + 1 es irreducible\n"
     ]
    },
    {
     "data": {
      "text/plain": [
       "[x^7 + x^3 + 1,\n",
       " x^11 + x^10 + x^7 + x^4 + x^3 + x + 1,\n",
       " x^8 + x^7 + x^6 + x^3 + x^2 + x + 1]"
      ]
     },
     "execution_count": 172,
     "metadata": {},
     "output_type": "execute_result"
    }
   ],
   "source": [
    "romper(g, 2, Z2)"
   ]
  },
  {
   "cell_type": "markdown",
   "metadata": {},
   "source": [
    "## Apartado 4"
   ]
  },
  {
   "cell_type": "markdown",
   "metadata": {},
   "source": [
    "El proceso será el mismo que el del apartado anterior. Aunque podríamos utilizar directamente `romper()`, mostraremos todos los pasos con detalle, enseñando al final el resultado de dicha función."
   ]
  },
  {
   "cell_type": "code",
   "execution_count": 123,
   "metadata": {},
   "outputs": [
    {
     "data": {
      "text/plain": [
       "x^26 + x^23 + x^20 + x^19 + x^18 + x^16 + x^15 + x^10 + x^8 + x^4 + 1"
      ]
     },
     "execution_count": 123,
     "metadata": {},
     "output_type": "execute_result"
    }
   ],
   "source": [
    "Z3 = PolynomialRing(GF(3), 'x')\n",
    "x = Z3.gen()\n",
    "g = 1 + x^4 + x^8 + x^10 + x^15 + x^16 + x^18 + x^19 + x^20 + x^23 + x^26\n",
    "g"
   ]
  },
  {
   "cell_type": "code",
   "execution_count": 124,
   "metadata": {},
   "outputs": [
    {
     "data": {
      "text/plain": [
       "133"
      ]
     },
     "execution_count": 124,
     "metadata": {},
     "output_type": "execute_result"
    }
   ],
   "source": [
    "menor_indice_cuerpo(g, 3, x)"
   ]
  },
  {
   "cell_type": "code",
   "execution_count": 125,
   "metadata": {},
   "outputs": [
    {
     "data": {
      "text/plain": [
       "26 x 26 dense matrix over Univariate Polynomial Ring in x over Finite Field of size 3 (use the '.str()' method to see the entries)"
      ]
     },
     "execution_count": 125,
     "metadata": {},
     "output_type": "execute_result"
    }
   ],
   "source": [
    "B = extraer_B(g, 3, Z3)\n",
    "B"
   ]
  },
  {
   "cell_type": "code",
   "execution_count": 126,
   "metadata": {},
   "outputs": [
    {
     "name": "stdout",
     "output_type": "stream",
     "text": [
      "[1 0 0 0 0 0 0 0 0 0 0 0 0 0 0 0 0 0 0 0 0 0 0 0 0 0]\n",
      "[0 0 0 1 0 0 0 0 0 0 0 0 0 0 0 0 0 0 0 0 0 0 0 0 0 0]\n",
      "[0 0 0 0 0 0 1 0 0 0 0 0 0 0 0 0 0 0 0 0 0 0 0 0 0 0]\n",
      "[0 0 0 0 0 0 0 0 0 1 0 0 0 0 0 0 0 0 0 0 0 0 0 0 0 0]\n",
      "[0 0 0 0 0 0 0 0 0 0 0 0 1 0 0 0 0 0 0 0 0 0 0 0 0 0]\n",
      "[0 0 0 0 0 0 0 0 0 0 0 0 0 0 0 1 0 0 0 0 0 0 0 0 0 0]\n",
      "[0 0 0 0 0 0 0 0 0 0 0 0 0 0 0 0 0 0 1 0 0 0 0 0 0 0]\n",
      "[0 0 0 0 0 0 0 0 0 0 0 0 0 0 0 0 0 0 0 0 0 1 0 0 0 0]\n",
      "[0 0 0 0 0 0 0 0 0 0 0 0 0 0 0 0 0 0 0 0 0 0 0 0 1 0]\n",
      "[0 2 0 0 0 2 0 0 0 2 0 2 0 0 0 0 2 2 0 2 2 2 0 0 2 0]\n",
      "[0 1 0 0 2 1 0 0 2 1 0 1 2 0 2 0 1 1 0 0 0 1 2 2 0 0]\n",
      "[1 0 0 0 2 0 0 2 2 0 1 2 1 0 1 0 1 2 1 2 2 0 0 1 1 2]\n",
      "[2 2 1 1 2 2 1 2 2 2 2 1 1 1 2 0 1 1 0 2 1 1 0 1 2 1]\n",
      "[2 1 2 2 1 2 0 2 1 2 0 0 1 2 1 0 1 2 1 1 0 0 1 0 2 2]\n",
      "[0 1 1 2 1 0 0 1 2 1 0 2 0 0 0 1 0 0 1 2 1 0 2 0 1 2]\n",
      "[0 2 1 0 1 0 0 1 0 2 2 1 2 0 2 0 2 0 2 2 0 1 0 1 2 0]\n",
      "[2 1 0 0 1 2 0 1 2 1 0 1 2 2 1 1 0 0 2 2 0 0 2 2 2 0]\n",
      "[1 1 0 2 2 1 0 1 0 1 2 0 1 0 1 0 1 2 2 2 2 0 2 1 1 2]\n",
      "[2 2 1 1 0 2 0 2 0 2 1 2 2 2 0 0 1 1 0 2 1 2 0 1 2 0]\n",
      "[2 1 0 2 1 2 1 0 1 1 1 1 2 1 2 1 2 1 2 1 1 1 2 0 0 0]\n",
      "[0 0 0 2 1 0 2 1 2 1 0 1 1 1 1 2 1 2 1 2 1 2 1 1 1 2]\n",
      "[2 2 1 0 2 2 0 1 2 1 1 1 2 0 1 0 2 1 2 2 1 1 0 0 1 2]\n",
      "[0 2 1 2 2 0 1 2 2 2 2 1 2 1 1 2 2 1 1 1 1 2 0 1 0 1]\n",
      "[2 0 2 0 1 1 1 2 2 1 0 2 1 2 1 1 0 0 0 1 2 0 0 0 2 2]\n",
      "[0 1 1 2 0 0 1 1 1 2 0 0 2 0 2 1 0 0 2 1 2 2 2 2 1 1]\n",
      "[1 2 2 0 2 0 1 0 1 0 1 0 1 0 0 0 0 0 1 0 2 0 0 0 1 1]\n"
     ]
    }
   ],
   "source": [
    "print(B)"
   ]
  },
  {
   "cell_type": "code",
   "execution_count": 127,
   "metadata": {},
   "outputs": [
    {
     "data": {
      "text/plain": [
       "26 x 26 dense matrix over Univariate Polynomial Ring in x over Finite Field of size 3 (use the '.str()' method to see the entries)"
      ]
     },
     "execution_count": 127,
     "metadata": {},
     "output_type": "execute_result"
    }
   ],
   "source": [
    "(B - Matrix.identity(g.degree()))"
   ]
  },
  {
   "cell_type": "code",
   "execution_count": 128,
   "metadata": {},
   "outputs": [
    {
     "data": {
      "text/plain": [
       "24"
      ]
     },
     "execution_count": 128,
     "metadata": {},
     "output_type": "execute_result"
    }
   ],
   "source": [
    "(B - Matrix.identity(g.degree())).rank()"
   ]
  },
  {
   "cell_type": "code",
   "execution_count": 132,
   "metadata": {},
   "outputs": [
    {
     "data": {
      "text/plain": [
       "[1,\n",
       " x^25 + x^23 + x^22 + 2*x^20 + x^19 + x^18 + 2*x^16 + x^15 + 2*x^14 + 2*x^13 + x^12 + x^11 + x^10 + 2*x^8 + 2*x^6 + x^5 + 2*x^2]"
      ]
     },
     "execution_count": 132,
     "metadata": {},
     "output_type": "execute_result"
    }
   ],
   "source": [
    "polinomios_soluciones = sacar_soluciones(B, g, Z3)\n",
    "polinomios_soluciones"
   ]
  },
  {
   "cell_type": "code",
   "execution_count": 133,
   "metadata": {},
   "outputs": [
    {
     "name": "stdout",
     "output_type": "stream",
     "text": [
      "x^19 + 2*x^17 + x^12 + 2*x^7 + x^6 + x^3 + x + 1\n",
      "x^7 + x^5 + x^4 + x^3 + x^2 + 2*x + 1\n",
      "1\n"
     ]
    }
   ],
   "source": [
    "for pol in polinomios_soluciones:\n",
    "    if pol != 1:\n",
    "        print(gcd(g, pol))\n",
    "        print(gcd(g, pol - 1))\n",
    "        print(gcd(g, pol - 2))"
   ]
  },
  {
   "cell_type": "code",
   "execution_count": 137,
   "metadata": {},
   "outputs": [
    {
     "data": {
      "text/plain": [
       "True"
      ]
     },
     "execution_count": 137,
     "metadata": {},
     "output_type": "execute_result"
    }
   ],
   "source": [
    "g == (x^19 + 2*x^17 + x^12 + 2*x^7 + x^6 + x^3 + x + 1)*(x^7 + x^5 + x^4 + x^3 + x^2 + 2*x + 1)\n"
   ]
  },
  {
   "cell_type": "code",
   "execution_count": 135,
   "metadata": {},
   "outputs": [
    {
     "data": {
      "text/plain": [
       "1"
      ]
     },
     "execution_count": 135,
     "metadata": {},
     "output_type": "execute_result"
    }
   ],
   "source": [
    "gcd(\n",
    "    x^19 + 2*x^17 + x^12 + 2*x^7 + x^6 + x^3 + x + 1, \n",
    "    (x^19 + 2*x^17 + x^12 + 2*x^7 + x^6 + x^3 + x + 1).diff()\n",
    ")"
   ]
  },
  {
   "cell_type": "markdown",
   "metadata": {},
   "source": [
    "Finalmente, automatizando el proceso:"
   ]
  },
  {
   "cell_type": "code",
   "execution_count": 122,
   "metadata": {},
   "outputs": [
    {
     "name": "stdout",
     "output_type": "stream",
     "text": [
      "x^26 + x^23 + x^20 + x^19 + x^18 + x^16 + x^15 + x^10 + x^8 + x^4 + 1 es reducible\n",
      "Se espera que se necesiten polinomios de grados 7 * 19\n",
      "Entramos en fase de gcd(g, g - c)\n",
      "-> gcds de x^25 + x^23 + x^22 + 2*x^20 + x^19 + x^18 + 2*x^16 + x^15 + 2*x^14 + 2*x^13 + x^12 + x^11 + x^10 + 2*x^8 + 2*x^6 + x^5 + 2*x^2:\n",
      "\tx^19 + 2*x^17 + x^12 + 2*x^7 + x^6 + x^3 + x + 1\n",
      "x^19 + 2*x^17 + x^12 + 2*x^7 + x^6 + x^3 + x + 1 es irreducible\n",
      "\tx^7 + x^5 + x^4 + x^3 + x^2 + 2*x + 1\n",
      "x^7 + x^5 + x^4 + x^3 + x^2 + 2*x + 1 es irreducible\n",
      "\t1\n"
     ]
    },
    {
     "data": {
      "text/plain": [
       "[x^7 + x^5 + x^4 + x^3 + x^2 + 2*x + 1,\n",
       " x^19 + 2*x^17 + x^12 + 2*x^7 + x^6 + x^3 + x + 1]"
      ]
     },
     "execution_count": 122,
     "metadata": {},
     "output_type": "execute_result"
    }
   ],
   "source": [
    "romper(g, 3, Z3)"
   ]
  },
  {
   "cell_type": "markdown",
   "metadata": {},
   "source": [
    "## Apartado 5"
   ]
  },
  {
   "cell_type": "markdown",
   "metadata": {},
   "source": [
    "En el apartado 2, hemos visto que el polinomio se descompone en un producto de tres polinomios, de grados $7, 8$ y $11$. Sin embargo, en el apartado 3, descompone como dos polinomios de grados $7$ y $19$. Esto nos dice que las factorizaciones son incompatbiles, por lo que el polinomio es irreducible en $\\mathbb{Z}[x]$"
   ]
  },
  {
   "cell_type": "markdown",
   "metadata": {},
   "source": [
    "## Temporal"
   ]
  },
  {
   "cell_type": "code",
   "execution_count": 37,
   "metadata": {},
   "outputs": [],
   "source": [
    "x = Z2.gen()"
   ]
  },
  {
   "cell_type": "code",
   "execution_count": 38,
   "metadata": {},
   "outputs": [
    {
     "data": {
      "text/plain": [
       "153"
      ]
     },
     "execution_count": 38,
     "metadata": {},
     "output_type": "execute_result"
    }
   ],
   "source": [
    "f_alba = 1 + x^2 + x^6 + x^7 + x^8 + x^11 + x^14 + x^15 + x^21 + x^23 + x^26\n",
    "menor_indice_cuerpo(f_alba, 2, x)"
   ]
  },
  {
   "cell_type": "code",
   "execution_count": 39,
   "metadata": {},
   "outputs": [
    {
     "data": {
      "text/plain": [
       "33"
      ]
     },
     "execution_count": 39,
     "metadata": {},
     "output_type": "execute_result"
    }
   ],
   "source": [
    "esperanza = 1 + x + x^2 + x^3 + x^4 + x^6 + x^7 + x^8 + x^10 + x^11 + x^14\n",
    "menor_indice_cuerpo(esperanza, 2, x)"
   ]
  },
  {
   "cell_type": "code",
   "execution_count": 40,
   "metadata": {},
   "outputs": [
    {
     "ename": "TypeError",
     "evalue": "extraer_B() missing 1 required positional argument: 'field'",
     "output_type": "error",
     "traceback": [
      "\u001b[0;31m---------------------------------------------------------------------------\u001b[0m",
      "\u001b[0;31mTypeError\u001b[0m                                 Traceback (most recent call last)",
      "\u001b[0;32m/tmp/ipykernel_347/425248568.py\u001b[0m in \u001b[0;36m<module>\u001b[0;34m\u001b[0m\n\u001b[0;32m----> 1\u001b[0;31m \u001b[0mprint\u001b[0m\u001b[0;34m(\u001b[0m\u001b[0mextraer_B\u001b[0m\u001b[0;34m(\u001b[0m\u001b[0mf_alba\u001b[0m\u001b[0;34m,\u001b[0m \u001b[0mZ2\u001b[0m\u001b[0;34m)\u001b[0m\u001b[0;34m)\u001b[0m\u001b[0;34m\u001b[0m\u001b[0;34m\u001b[0m\u001b[0m\n\u001b[0m",
      "\u001b[0;31mTypeError\u001b[0m: extraer_B() missing 1 required positional argument: 'field'"
     ]
    }
   ],
   "source": [
    "print(extraer_B(f_alba, Z2))"
   ]
  },
  {
   "cell_type": "code",
   "execution_count": 41,
   "metadata": {},
   "outputs": [],
   "source": [
    "g_paula = x^25 + x^23 + x^22 + x^21 + x^20 + x^14 + x^13 + x^12 + x^11 + x^9 + x^8 + x^5 + x^3 + x^2 + x + 1"
   ]
  },
  {
   "cell_type": "code",
   "execution_count": 43,
   "metadata": {},
   "outputs": [
    {
     "data": {
      "text/plain": [
       "21"
      ]
     },
     "execution_count": 43,
     "metadata": {},
     "output_type": "execute_result"
    }
   ],
   "source": [
    "(extraer_B(g_paula, 2, Z2) - Matrix.identity(g_paula.degree())).rank()"
   ]
  },
  {
   "cell_type": "code",
   "execution_count": 45,
   "metadata": {},
   "outputs": [
    {
     "data": {
      "text/plain": [
       "25 x 25 dense matrix over Univariate Polynomial Ring in x over Finite Field of size 2 (using GF2X) (use the '.str()' method to see the entries)"
      ]
     },
     "execution_count": 45,
     "metadata": {},
     "output_type": "execute_result"
    }
   ],
   "source": [
    "extraer_B(g_paula, 2, Z2)"
   ]
  },
  {
   "cell_type": "code",
   "execution_count": 47,
   "metadata": {},
   "outputs": [],
   "source": [
    "sols_paula = (extraer_B(g_paula, 2, Z2) - Matrix.identity(g_paula.degree())).left_kernel()"
   ]
  },
  {
   "cell_type": "code",
   "execution_count": 48,
   "metadata": {},
   "outputs": [
    {
     "name": "stdout",
     "output_type": "stream",
     "text": [
      "Free module of degree 25 and rank 4 over Univariate Polynomial Ring in x over Finite Field of size 2 (using GF2X)\n",
      "Echelon basis matrix:\n",
      "[1 0 0 0 0 0 0 0 0 0 0 0 0 0 0 0 0 0 0 0 0 0 0 0 0]\n",
      "[0 1 1 1 0 1 0 1 0 1 0 0 1 0 0 0 0 1 1 0 0 0 1 0 0]\n",
      "[0 0 1 1 0 1 0 1 1 1 1 0 0 0 1 1 1 1 0 0 1 0 1 0 1]\n",
      "[0 0 0 1 0 0 1 0 1 0 0 0 1 0 0 0 0 0 1 1 1 1 1 1 0]\n"
     ]
    }
   ],
   "source": [
    "print(sols_paula)"
   ]
  },
  {
   "cell_type": "code",
   "execution_count": 49,
   "metadata": {},
   "outputs": [
    {
     "name": "stdout",
     "output_type": "stream",
     "text": [
      "1\n",
      "x^22 + x^18 + x^17 + x^12 + x^9 + x^7 + x^5 + x^3 + x^2 + x\n",
      "x^24 + x^22 + x^20 + x^17 + x^16 + x^15 + x^14 + x^10 + x^9 + x^8 + x^7 + x^5 + x^3 + x^2\n",
      "x^23 + x^22 + x^21 + x^20 + x^19 + x^18 + x^12 + x^8 + x^6 + x^3\n"
     ]
    }
   ],
   "source": [
    "for sol in list(sols_paula.gens()):\n",
    "    print(Z2(list(sol)))"
   ]
  },
  {
   "cell_type": "code",
   "execution_count": 184,
   "metadata": {},
   "outputs": [
    {
     "data": {
      "text/plain": [
       "4"
      ]
     },
     "execution_count": 184,
     "metadata": {},
     "output_type": "execute_result"
    }
   ],
   "source": [
    "x = Z3.gen()\n",
    "menor_indice_cuerpo(2 + x^2 + x^4, 3, x)"
   ]
  },
  {
   "cell_type": "code",
   "execution_count": 186,
   "metadata": {},
   "outputs": [
    {
     "data": {
      "text/plain": [
       "x^4 + x^2 + 2"
      ]
     },
     "execution_count": 186,
     "metadata": {},
     "output_type": "execute_result"
    }
   ],
   "source": [
    "factor(2 + x^2 + x^4)"
   ]
  },
  {
   "cell_type": "code",
   "execution_count": 188,
   "metadata": {},
   "outputs": [],
   "source": [
    "fds = 2 + x^2 + 2*x^7 + 2*x^8 + 2*x^9 + 2*x^10 + x^12 + 2*x^13 + 2*x^14 + x^15 + 2*x^18 + x^19 + 2*x^20 + x^22"
   ]
  },
  {
   "cell_type": "code",
   "execution_count": 189,
   "metadata": {},
   "outputs": [
    {
     "data": {
      "text/plain": [
       "56"
      ]
     },
     "execution_count": 189,
     "metadata": {},
     "output_type": "execute_result"
    }
   ],
   "source": [
    "menor_indice_cuerpo(fds, 3, x)"
   ]
  },
  {
   "cell_type": "code",
   "execution_count": 239,
   "metadata": {},
   "outputs": [
    {
     "data": {
      "text/plain": [
       "14"
      ]
     },
     "execution_count": 239,
     "metadata": {},
     "output_type": "execute_result"
    }
   ],
   "source": [
    "menor_indice_cuerpo(x^15 + x^14 + x^13 + x^11 + x^7 + x^6 + x + 1, 2, Z2.gen())"
   ]
  },
  {
   "cell_type": "code",
   "execution_count": 254,
   "metadata": {},
   "outputs": [
    {
     "name": "stdout",
     "output_type": "stream",
     "text": [
      "x^15 + x^14 + x^13 + x^11 + x^7 + x^6 + x + 1 es reducible\n",
      "Se espera que se necesiten polinomios de grados 2 * 7\n",
      "Entramos en fase de gcd(g, g - c)\n",
      "-> gcds de x^14 + x^12 + x^11 + x^6\n",
      "\tx + 1\n",
      "x + 1 es irreducible\n",
      "\tx^14 + x^12 + x^11 + x^6 + 1\n",
      "x^14 + x^12 + x^11 + x^6 + 1 es irreducible\n"
     ]
    },
    {
     "data": {
      "text/plain": [
       "[x^14 + x^12 + x^11 + x^6 + 1, x + 1]"
      ]
     },
     "execution_count": 254,
     "metadata": {},
     "output_type": "execute_result"
    }
   ],
   "source": [
    "romper(x^15 + x^14 + x^13 + x^11 + x^7 + x^6 + x + 1, 2, Z2)"
   ]
  },
  {
   "cell_type": "code",
   "execution_count": 243,
   "metadata": {},
   "outputs": [
    {
     "data": {
      "text/plain": [
       "(x + 1) * (x^14 + x^12 + x^11 + x^6 + 1)"
      ]
     },
     "execution_count": 243,
     "metadata": {},
     "output_type": "execute_result"
    }
   ],
   "source": [
    "factor(x^15 + x^14 + x^13 + x^11 + x^7 + x^6 + x + 1)"
   ]
  },
  {
   "cell_type": "code",
   "execution_count": 245,
   "metadata": {},
   "outputs": [
    {
     "data": {
      "text/plain": [
       "1"
      ]
     },
     "execution_count": 245,
     "metadata": {},
     "output_type": "execute_result"
    }
   ],
   "source": [
    "gcd(diff(x^15 + x^14 + x^13 + x^11 + x^7 + x^6 + x + 1), (x^15 + x^14 + x^13 + x^11 + x^7 + x^6 + x + 1))"
   ]
  },
  {
   "cell_type": "code",
   "execution_count": 246,
   "metadata": {},
   "outputs": [
    {
     "data": {
      "text/plain": [
       "1"
      ]
     },
     "execution_count": 246,
     "metadata": {},
     "output_type": "execute_result"
    }
   ],
   "source": [
    "gcd(x^7 + x^4 + x^2 + 1, (x^7 + x^4 + x^2 + 1).diff())"
   ]
  },
  {
   "cell_type": "code",
   "execution_count": 255,
   "metadata": {},
   "outputs": [
    {
     "data": {
      "text/plain": [
       "0"
      ]
     },
     "execution_count": 255,
     "metadata": {},
     "output_type": "execute_result"
    }
   ],
   "source": [
    "(1 + x^2 + x^6).diff()"
   ]
  },
  {
   "cell_type": "code",
   "execution_count": 80,
   "metadata": {},
   "outputs": [
    {
     "data": {
      "text/plain": [
       "33"
      ]
     },
     "execution_count": 80,
     "metadata": {},
     "output_type": "execute_result"
    }
   ],
   "source": [
    "menor_indice_cuerpo_v2(\n",
    "    1 + x + x^2 + x^3 + x^4 + x^6 + x^7 + x^8 + x^10 + x^11 + x^14, \n",
    "    2, \n",
    "    Z2.gen()\n",
    ")"
   ]
  },
  {
   "cell_type": "code",
   "execution_count": 91,
   "metadata": {},
   "outputs": [
    {
     "name": "stdout",
     "output_type": "stream",
     "text": [
      "x^14 + x^11 + x^10 + x^8 + x^7 + x^6 + x^4 + x^3 + x^2 + x + 1 es reducible\n",
      "Se espera que se necesiten polinomios de grados 3 * 11\n",
      "Entramos en fase de gcd(g, g - c)\n",
      "-> gcds de x^12 + x^11 + x^10 + x^9 + x^7 + x^5 + x^4 + x^2 + x:\n",
      "\tx^3 + x + 1\n",
      "x^3 + x + 1 es irreducible\n",
      "\tx^11 + x^9 + x^6 + x^5 + x^3 + x^2 + 1\n",
      "x^11 + x^9 + x^6 + x^5 + x^3 + x^2 + 1 es irreducible\n"
     ]
    },
    {
     "data": {
      "text/plain": [
       "[x^3 + x + 1, x^11 + x^9 + x^6 + x^5 + x^3 + x^2 + 1]"
      ]
     },
     "execution_count": 91,
     "metadata": {},
     "output_type": "execute_result"
    }
   ],
   "source": [
    "romper(1 + x + x^2 + x^3 + x^4 + x^6 + x^7 + x^8 + x^10 + x^11 + x^14, 2, Z2)"
   ]
  },
  {
   "cell_type": "code",
   "execution_count": 93,
   "metadata": {},
   "outputs": [
    {
     "data": {
      "text/plain": [
       "x^20 + x^17 + x^11 + x^10 + x^8 + x^6 + x^5 + x + 1"
      ]
     },
     "execution_count": 93,
     "metadata": {},
     "output_type": "execute_result"
    }
   ],
   "source": [
    "g_profesor_2 = 1 + x + x^5 + x^6 + x^8 + x^10 + x^11 + x^17 + x^20\n",
    "g_profesor_2"
   ]
  },
  {
   "cell_type": "code",
   "execution_count": null,
   "metadata": {},
   "outputs": [],
   "source": [
    "menor_indice_cuerpo"
   ]
  },
  {
   "cell_type": "code",
   "execution_count": 85,
   "metadata": {},
   "outputs": [],
   "source": [
    "g_ana = 1 + x^5 + x^6 + x^8 + x^10 + x^11 + x^13 + x^15 + x^17 + x^21 + x^23 + x^26"
   ]
  },
  {
   "cell_type": "code",
   "execution_count": 94,
   "metadata": {},
   "outputs": [
    {
     "data": {
      "text/plain": [
       "1"
      ]
     },
     "execution_count": 94,
     "metadata": {},
     "output_type": "execute_result"
    }
   ],
   "source": [
    "gcd(g_ana, g_ana.diff())"
   ]
  },
  {
   "cell_type": "code",
   "execution_count": 86,
   "metadata": {},
   "outputs": [
    {
     "data": {
      "text/plain": [
       "46"
      ]
     },
     "execution_count": 86,
     "metadata": {},
     "output_type": "execute_result"
    }
   ],
   "source": [
    "menor_indice_cuerpo(g_ana, 2, x)"
   ]
  },
  {
   "cell_type": "code",
   "execution_count": 87,
   "metadata": {},
   "outputs": [
    {
     "data": {
      "text/plain": [
       "2 * 23"
      ]
     },
     "execution_count": 87,
     "metadata": {},
     "output_type": "execute_result"
    }
   ],
   "source": [
    "factor(46)"
   ]
  },
  {
   "cell_type": "code",
   "execution_count": 89,
   "metadata": {},
   "outputs": [
    {
     "name": "stdout",
     "output_type": "stream",
     "text": [
      "x^26 + x^23 + x^21 + x^17 + x^15 + x^13 + x^11 + x^10 + x^8 + x^6 + x^5 + 1 es reducible\n",
      "Se espera que se necesiten polinomios de grados 2 * 23\n",
      "Entramos en fase de gcd(g, g - c)\n",
      "-> gcds de x^24 + x^23 + x^19 + x^18 + x^16 + x^14 + x^12 + x^10 + x^6 + x^5 + x^4 + x^3 + x:\n",
      "\tx^2 + x + 1\n",
      "x^2 + x + 1 es irreducible\n",
      "\tx^24 + x^23 + x^19 + x^18 + x^16 + x^14 + x^12 + x^10 + x^6 + x^5 + x^4 + x^3 + x + 1\n",
      "x^24 + x^23 + x^19 + x^18 + x^16 + x^14 + x^12 + x^10 + x^6 + x^5 + x^4 + x^3 + x + 1 es reducible\n",
      "Se espera que se necesiten polinomios de grados 23\n",
      "Entramos en fase de gcd(g, g - c)\n",
      "-> gcds de x^23 + x^18 + x^15 + x^14 + x^11 + x^10 + x^5 + x^3:\n",
      "\tx + 1\n",
      "x + 1 es reducible\n",
      "Se espera que se necesiten polinomios de grados 1\n",
      "Entramos en fase de gcd(g, g - c)\n",
      "\tx^23 + x^18 + x^15 + x^14 + x^11 + x^10 + x^5 + x^3 + 1\n",
      "x^23 + x^18 + x^15 + x^14 + x^11 + x^10 + x^5 + x^3 + 1 es irreducible\n",
      "-> gcds de x^25 + x^20 + x^17 + x^16 + x^13 + x^12 + x^7 + x^5 + x^2:\n",
      "\tx^23 + x^18 + x^15 + x^14 + x^11 + x^10 + x^5 + x^3 + 1\n",
      "x^23 + x^18 + x^15 + x^14 + x^11 + x^10 + x^5 + x^3 + 1 es irreducible\n",
      "\tx^3 + 1\n",
      "x^3 + 1 es reducible\n",
      "Se espera que se necesiten polinomios de grados 2\n",
      "Entramos en fase de gcd(g, g - c)\n",
      "-> gcds de x^2 + x:\n",
      "\tx + 1\n",
      "x + 1 es reducible\n",
      "Se espera que se necesiten polinomios de grados 1\n",
      "Entramos en fase de gcd(g, g - c)\n",
      "\tx^2 + x + 1\n",
      "x^2 + x + 1 es irreducible\n"
     ]
    },
    {
     "data": {
      "text/plain": [
       "[x^23 + x^18 + x^15 + x^14 + x^11 + x^10 + x^5 + x^3 + 1, x^2 + x + 1]"
      ]
     },
     "execution_count": 89,
     "metadata": {},
     "output_type": "execute_result"
    }
   ],
   "source": [
    "romper(g_ana, 2, Z2)"
   ]
  },
  {
   "cell_type": "code",
   "execution_count": 173,
   "metadata": {},
   "outputs": [
    {
     "data": {
      "text/plain": [
       "(x + 1) * (x^2 + x + 1) * (x^23 + x^18 + x^15 + x^14 + x^11 + x^10 + x^5 + x^3 + 1)"
      ]
     },
     "execution_count": 173,
     "metadata": {},
     "output_type": "execute_result"
    }
   ],
   "source": [
    "g_ana.factor()"
   ]
  },
  {
   "cell_type": "code",
   "execution_count": 174,
   "metadata": {},
   "outputs": [
    {
     "data": {
      "text/plain": [
       "(x^7 + x^3 + 1) * (x^8 + x^7 + x^6 + x^3 + x^2 + x + 1) * (x^11 + x^10 + x^7 + x^4 + x^3 + x + 1)"
      ]
     },
     "execution_count": 174,
     "metadata": {},
     "output_type": "execute_result"
    }
   ],
   "source": [
    "g.factor()"
   ]
  },
  {
   "cell_type": "code",
   "execution_count": 175,
   "metadata": {},
   "outputs": [],
   "source": [
    "y = Z3.gen()"
   ]
  },
  {
   "cell_type": "code",
   "execution_count": 176,
   "metadata": {},
   "outputs": [
    {
     "data": {
      "text/plain": [
       "4"
      ]
     },
     "execution_count": 176,
     "metadata": {},
     "output_type": "execute_result"
    }
   ],
   "source": [
    "menor_indice_cuerpo(\n",
    "    2 + y^2 + y^4,\n",
    "    3, \n",
    "    Z3.gen()\n",
    ")"
   ]
  },
  {
   "cell_type": "code",
   "execution_count": 178,
   "metadata": {},
   "outputs": [
    {
     "data": {
      "text/plain": [
       "8"
      ]
     },
     "execution_count": 178,
     "metadata": {},
     "output_type": "execute_result"
    }
   ],
   "source": [
    "menor_indice_cuerpo(\n",
    "    2 + 2*y + y^3 + 2*y^4 + y^5 + y^6 + 2*y^7 + 2*y^8 + y^9 + y^10 + y^11 + y^12, \n",
    "    3, \n",
    "    Z3.gen()\n",
    ")"
   ]
  },
  {
   "cell_type": "code",
   "execution_count": 179,
   "metadata": {},
   "outputs": [
    {
     "data": {
      "text/plain": [
       "(x^4 + x^2 + 2) * (x^8 + x^7 + x^2 + x + 1)"
      ]
     },
     "execution_count": 179,
     "metadata": {},
     "output_type": "execute_result"
    }
   ],
   "source": [
    "(2 + 2*y + y^3 + 2*y^4 + y^5 + y^6 + 2*y^7 + 2*y^8 + y^9 + y^10 + y^11 + y^12).factor()"
   ]
  },
  {
   "cell_type": "code",
   "execution_count": null,
   "metadata": {},
   "outputs": [],
   "source": []
  }
 ],
 "metadata": {
  "kernelspec": {
   "display_name": "Julia 1.7.2",
   "language": "julia",
   "name": "julia-1.7"
  },
  "language_info": {
   "file_extension": ".jl",
   "mimetype": "application/julia",
   "name": "julia",
   "version": "1.7.2"
  }
 },
 "nbformat": 4,
 "nbformat_minor": 2
}
