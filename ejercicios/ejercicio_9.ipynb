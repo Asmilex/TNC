{
 "cells": [
  {
   "cell_type": "markdown",
   "metadata": {},
   "source": [
    "# Ejercicio 9 \n",
    "\n",
    "Toma $n$ como tu número publicado para el ejercicio 2. Escribe $n$ en base 2, y usa esas cifras para definir un polinomio, $f(x)$, donde tu bit más significativo defina el grado del polinomio $n$, el siguiente bit va multiplicado por $x^{n-1}$ y así sucesivamente hasta que el bit menos significativo sea el término independiente. El polinomio que obtienes es universal en el sentido de que tiene coeficientes en cualquier anillo.\n",
    "\n",
    "Sea $f(x)$ el polinomio que obtienes con coeficientes en $\\mathbb{Z}$.\n",
    "\n",
    "1. Toma $g(x) \\equiv f(x) \\pmod{2}$ y halla el menor cuerpo de característica 2 que contenga a todas las raíces de g. ¿Qué deduces sobre la irreducibilidad de $g(x)$ en $\\mathbb{Z}_2[x]$?\n",
    "2. Extrae la parte libre de cuadrados de $g(x)$ y calcúlale la matriz de Berlekamp por columnas. Resuelve el sistema lineal $(B - Id)X = 0$.\n",
    "3. Aplica el algoritmo de Berlekamp recursivamente si es necesario para hallar la descomposición en irreducibles de $g(x)$ en $\\mathbb{Z}_2[x]$.\n",
    "4. Haz lo mismo para hallar la descomposición en irreducibles de $f(x) \\pmod{3}$.\n",
    "5. ¿Qué deduces sobre la reducibilidad de $f(x)$ en $\\mathbb{Z}[x]$?"
   ]
  },
  {
   "cell_type": "code",
   "execution_count": null,
   "metadata": {},
   "outputs": [],
   "source": []
  }
 ],
 "metadata": {
  "kernelspec": {
   "display_name": "Julia 1.7.2",
   "language": "julia",
   "name": "julia-1.7"
  },
  "language_info": {
   "file_extension": ".jl",
   "mimetype": "application/julia",
   "name": "julia",
   "version": "1.7.2"
  },
  "orig_nbformat": 4
 },
 "nbformat": 4,
 "nbformat_minor": 2
}
