{
 "cells": [
  {
   "cell_type": "markdown",
   "metadata": {},
   "source": [
    "# Ejercicio 9 \n",
    "\n",
    "Toma $n$ como tu número publicado para el ejercicio 2. Escribe $n$ en base 2, y usa esas cifras para definir un polinomio, $f(x)$, donde tu bit más significativo defina el grado del polinomio $n$, el siguiente bit va multiplicado por $x^{n-1}$ y así sucesivamente hasta que el bit menos significativo sea el término independiente. El polinomio que obtienes es universal en el sentido de que tiene coeficientes en cualquier anillo.\n",
    "\n",
    "Sea $f(x)$ el polinomio que obtienes con coeficientes en $\\mathbb{Z}$.\n",
    "\n",
    "1. Toma $g(x) \\equiv f(x) \\pmod{2}$ y halla el menor cuerpo de característica 2 que contenga a todas las raíces de g. ¿Qué deduces sobre la irreducibilidad de $g(x)$ en $\\mathbb{Z}_2[x]$?\n",
    "2. Extrae la parte libre de cuadrados de $g(x)$ y calcúlale la matriz de Berlekamp por columnas. Resuelve el sistema lineal $(B - Id)X = 0$.\n",
    "3. Aplica el algoritmo de Berlekamp recursivamente si es necesario para hallar la descomposición en irreducibles de $g(x)$ en $\\mathbb{Z}_2[x]$.\n",
    "4. Haz lo mismo para hallar la descomposición en irreducibles de $f(x) \\pmod{3}$.\n",
    "5. ¿Qué deduces sobre la reducibilidad de $f(x)$ en $\\mathbb{Z}[x]$?"
   ]
  },
  {
   "cell_type": "code",
   "execution_count": 37,
   "metadata": {},
   "outputs": [],
   "source": [
    "n = 77432081"
   ]
  },
  {
   "cell_type": "code",
   "execution_count": 38,
   "metadata": {},
   "outputs": [
    {
     "data": {
      "text/plain": [
       "'100100111011000010100010001'"
      ]
     },
     "execution_count": 38,
     "metadata": {},
     "output_type": "execute_result"
    }
   ],
   "source": [
    "format(n, 'b')"
   ]
  },
  {
   "cell_type": "code",
   "execution_count": 39,
   "metadata": {},
   "outputs": [],
   "source": [
    "Z2 = PolynomialRing(GF(2), 'x')\n",
    "x = Z2.gen()\n",
    "g = 1 + x^4 + x^8 + x^10 + x^15 + x^16 + x^18 + x^19 + x^20 + x^23 + x^26"
   ]
  },
  {
   "cell_type": "markdown",
   "metadata": {},
   "source": [
    "## Apartado 1"
   ]
  },
  {
   "cell_type": "code",
   "execution_count": 31,
   "metadata": {},
   "outputs": [],
   "source": [
    "def menor_indice_cuerpo(f, p):\n",
    "    q = x^p\n",
    "    q1 = (q - x).mod(f)\n",
    "    k = 1\n",
    "    #print(\"q1 = \" + str(q1))\n",
    "    \n",
    "    while q1 != 0:\n",
    "        q = (q^p).mod(f)\n",
    "        q1 = (q - x).mod(f)\n",
    "        k = k + 1\n",
    "        \n",
    "        #print(\"q = \" + str(q))\n",
    "        #print(\"q1 = \" + str(q1))\n",
    "    return k"
   ]
  },
  {
   "cell_type": "code",
   "execution_count": 36,
   "metadata": {
    "scrolled": true
   },
   "outputs": [
    {
     "data": {
      "text/plain": [
       "616"
      ]
     },
     "execution_count": 36,
     "metadata": {},
     "output_type": "execute_result"
    }
   ],
   "source": [
    "menor_indice_cuerpo(g, 2)"
   ]
  },
  {
   "cell_type": "markdown",
   "metadata": {},
   "source": [
    "## Apartado 2"
   ]
  },
  {
   "cell_type": "markdown",
   "metadata": {},
   "source": [
    "## Apartado 3"
   ]
  },
  {
   "cell_type": "markdown",
   "metadata": {},
   "source": [
    "## Apartado 4"
   ]
  },
  {
   "cell_type": "markdown",
   "metadata": {},
   "source": [
    "## Apartado 5"
   ]
  },
  {
   "cell_type": "markdown",
   "metadata": {},
   "source": [
    "## Temporal"
   ]
  },
  {
   "cell_type": "code",
   "execution_count": 32,
   "metadata": {},
   "outputs": [
    {
     "data": {
      "text/plain": [
       "153"
      ]
     },
     "execution_count": 32,
     "metadata": {},
     "output_type": "execute_result"
    }
   ],
   "source": [
    "f_alba = 1 + x^2 + x^6 + x^7 + x^8 + x^11 + x^14 + x^15 + x^21 + x^23 + x^26\n",
    "menor_indice_cuerpo(f_alba, 2)"
   ]
  },
  {
   "cell_type": "code",
   "execution_count": 34,
   "metadata": {},
   "outputs": [
    {
     "data": {
      "text/plain": [
       "33"
      ]
     },
     "execution_count": 34,
     "metadata": {},
     "output_type": "execute_result"
    }
   ],
   "source": [
    "esperanza = 1 + x + x^2 + x^3 + x^4 + x^6 + x^7 + x^8 + x^10 + x^11 + x^14\n",
    "menor_indice_cuerpo(esperanza, 2)"
   ]
  }
 ],
 "metadata": {
  "kernelspec": {
   "display_name": "SageMath 8.2",
   "language": "",
   "name": "sagemath"
  },
  "language_info": {
   "codemirror_mode": {
    "name": "ipython",
    "version": 2
   },
   "file_extension": ".py",
   "mimetype": "text/x-python",
   "name": "python",
   "nbconvert_exporter": "python",
   "pygments_lexer": "ipython2",
   "version": "2.7.14"
  }
 },
 "nbformat": 4,
 "nbformat_minor": 2
}
