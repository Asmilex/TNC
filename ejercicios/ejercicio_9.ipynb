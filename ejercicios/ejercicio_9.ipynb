{
 "cells": [
  {
   "cell_type": "markdown",
   "metadata": {},
   "source": [
    "# Ejercicio 9 \n",
    "\n",
    "Toma $n$ como tu número publicado para el ejercicio 2. Escribe $n$ en base 2, y usa esas cifras para definir un polinomio, $f(x)$, donde tu bit más significativo defina el grado del polinomio $n$, el siguiente bit va multiplicado por $x^{n-1}$ y así sucesivamente hasta que el bit menos significativo sea el término independiente. El polinomio que obtienes es universal en el sentido de que tiene coeficientes en cualquier anillo.\n",
    "\n",
    "Sea $f(x)$ el polinomio que obtienes con coeficientes en $\\mathbb{Z}$.\n",
    "\n",
    "1. Toma $g(x) \\equiv f(x) \\pmod{2}$ y halla el menor cuerpo de característica 2 que contenga a todas las raíces de g. ¿Qué deduces sobre la irreducibilidad de $g(x)$ en $\\mathbb{Z}_2[x]$?\n",
    "2. Extrae la parte libre de cuadrados de $g(x)$ y calcúlale la matriz de Berlekamp por columnas. Resuelve el sistema lineal $(B - Id)X = 0$.\n",
    "3. Aplica el algoritmo de Berlekamp recursivamente si es necesario para hallar la descomposición en irreducibles de $g(x)$ en $\\mathbb{Z}_2[x]$.\n",
    "4. Haz lo mismo para hallar la descomposición en irreducibles de $f(x) \\pmod{3}$.\n",
    "5. ¿Qué deduces sobre la reducibilidad de $f(x)$ en $\\mathbb{Z}[x]$?"
   ]
  },
  {
   "cell_type": "code",
   "execution_count": 1,
   "metadata": {},
   "outputs": [],
   "source": [
    "import numpy as np"
   ]
  },
  {
   "cell_type": "code",
   "execution_count": 2,
   "metadata": {},
   "outputs": [],
   "source": [
    "n = 77432081"
   ]
  },
  {
   "cell_type": "code",
   "execution_count": 3,
   "metadata": {},
   "outputs": [
    {
     "data": {
      "text/plain": [
       "'100100111011000010100010001'"
      ]
     },
     "execution_count": 3,
     "metadata": {},
     "output_type": "execute_result"
    }
   ],
   "source": [
    "format(n, 'b')"
   ]
  },
  {
   "cell_type": "code",
   "execution_count": 4,
   "metadata": {},
   "outputs": [],
   "source": [
    "Z2 = PolynomialRing(GF(2), 'x')\n",
    "x = Z2.gen()\n",
    "g = 1 + x^4 + x^8 + x^10 + x^15 + x^16 + x^18 + x^19 + x^20 + x^23 + x^26"
   ]
  },
  {
   "cell_type": "markdown",
   "metadata": {},
   "source": [
    "## Apartado 1"
   ]
  },
  {
   "cell_type": "code",
   "execution_count": 5,
   "metadata": {},
   "outputs": [],
   "source": [
    "def menor_indice_cuerpo(f, p, x):\n",
    "    q = x^p\n",
    "    q1 = (q - x).mod(f)\n",
    "    k = 1\n",
    "    #print(\"q1 = \" + str(q1))\n",
    "    \n",
    "    while q1 != 0:\n",
    "        q = (q^p).mod(f)\n",
    "        q1 = (q - x).mod(f)\n",
    "        k = k + 1\n",
    "        \n",
    "        #print(\"q = \" + str(q))\n",
    "        #print(\"q1 = \" + str(q1))\n",
    "    return k"
   ]
  },
  {
   "cell_type": "code",
   "execution_count": 6,
   "metadata": {
    "scrolled": true
   },
   "outputs": [
    {
     "data": {
      "text/plain": [
       "616"
      ]
     },
     "execution_count": 6,
     "metadata": {},
     "output_type": "execute_result"
    }
   ],
   "source": [
    "menor_indice_cuerpo(g, 2, x)"
   ]
  },
  {
   "cell_type": "markdown",
   "metadata": {},
   "source": [
    "El menor cuerpo de característica $2$ que contiene a todas las raíces de $g$ es $$F_{2^{2^3 * 7 * 11}} = F_{2^{8 * 7 * 11}}$$"
   ]
  },
  {
   "cell_type": "code",
   "execution_count": 7,
   "metadata": {},
   "outputs": [
    {
     "data": {
      "text/plain": [
       "2^3 * 7 * 11"
      ]
     },
     "execution_count": 7,
     "metadata": {},
     "output_type": "execute_result"
    }
   ],
   "source": [
    "factor(616)"
   ]
  },
  {
   "cell_type": "markdown",
   "metadata": {},
   "source": [
    "Como $616 > \\text{grado}(g) = 26$, entonces $g(x)$ es reducible en $\\mathbb{Z}_2[x]$. (Esto no sale esto exactamente. Se rompe de otra manera. Mira el apartado 3) Por ello, $g(x)$ puede romperse en tres polinomios de grados $8, 7$ y $11$, ya que $8 + 7 + 11 = 26$"
   ]
  },
  {
   "cell_type": "markdown",
   "metadata": {},
   "source": [
    "## Apartado 2"
   ]
  },
  {
   "cell_type": "markdown",
   "metadata": {},
   "source": [
    "$g(x)$ es libre de cuadrados, así que no será necesario extraer nada. "
   ]
  },
  {
   "cell_type": "code",
   "execution_count": 8,
   "metadata": {},
   "outputs": [],
   "source": [
    "def extraer_B(g, p, field):\n",
    "    # Asegúrate de que `g` está en el mismo cuerpo que `field`\n",
    "    x = field.gen()\n",
    "    B = np.zeros([g.degree(), g.degree()], dtype = int)\n",
    "\n",
    "    for i in range(0, g.degree()):\n",
    "        coeficientes = [0] * g.degree()\n",
    "\n",
    "        pol = x^(p*i)\n",
    "        pol = pol.mod(g)\n",
    "        #print(\"[\" + str(i) + \"] x^2i mod f = \" + str(pol))\n",
    "\n",
    "        for j, coef in enumerate(pol.coefficients(sparse = False)):\n",
    "            coeficientes[j] = coef\n",
    "\n",
    "        B[i, :] = coeficientes\n",
    "    return Matrix(field, B.tolist())\n",
    "\n",
    "B = extraer_B(g, 2, Z2)"
   ]
  },
  {
   "cell_type": "markdown",
   "metadata": {},
   "source": [
    "Nuestra matriz $B$ es "
   ]
  },
  {
   "cell_type": "code",
   "execution_count": 9,
   "metadata": {},
   "outputs": [
    {
     "data": {
      "text/plain": [
       "26 x 26 dense matrix over Univariate Polynomial Ring in x over Finite Field of size 2 (using GF2X) (use the '.str()' method to see the entries)"
      ]
     },
     "execution_count": 9,
     "metadata": {},
     "output_type": "execute_result"
    }
   ],
   "source": [
    "B"
   ]
  },
  {
   "cell_type": "code",
   "execution_count": 10,
   "metadata": {},
   "outputs": [
    {
     "name": "stdout",
     "output_type": "stream",
     "text": [
      "[1 0 0 0 0 0 0 0 0 0 0 0 0 0 0 0 0 0 0 0 0 0 0 0 0 0]\n",
      "[0 0 1 0 0 0 0 0 0 0 0 0 0 0 0 0 0 0 0 0 0 0 0 0 0 0]\n",
      "[0 0 0 0 1 0 0 0 0 0 0 0 0 0 0 0 0 0 0 0 0 0 0 0 0 0]\n",
      "[0 0 0 0 0 0 1 0 0 0 0 0 0 0 0 0 0 0 0 0 0 0 0 0 0 0]\n",
      "[0 0 0 0 0 0 0 0 1 0 0 0 0 0 0 0 0 0 0 0 0 0 0 0 0 0]\n",
      "[0 0 0 0 0 0 0 0 0 0 1 0 0 0 0 0 0 0 0 0 0 0 0 0 0 0]\n",
      "[0 0 0 0 0 0 0 0 0 0 0 0 1 0 0 0 0 0 0 0 0 0 0 0 0 0]\n",
      "[0 0 0 0 0 0 0 0 0 0 0 0 0 0 1 0 0 0 0 0 0 0 0 0 0 0]\n",
      "[0 0 0 0 0 0 0 0 0 0 0 0 0 0 0 0 1 0 0 0 0 0 0 0 0 0]\n",
      "[0 0 0 0 0 0 0 0 0 0 0 0 0 0 0 0 0 0 1 0 0 0 0 0 0 0]\n",
      "[0 0 0 0 0 0 0 0 0 0 0 0 0 0 0 0 0 0 0 0 1 0 0 0 0 0]\n",
      "[0 0 0 0 0 0 0 0 0 0 0 0 0 0 0 0 0 0 0 0 0 0 1 0 0 0]\n",
      "[0 0 0 0 0 0 0 0 0 0 0 0 0 0 0 0 0 0 0 0 0 0 0 0 1 0]\n",
      "[1 0 0 0 1 0 0 0 1 0 1 0 0 0 0 1 1 0 1 1 1 0 0 1 0 0]\n",
      "[0 0 1 0 0 0 1 0 0 0 1 0 1 0 0 0 0 1 1 0 1 1 1 0 0 1]\n",
      "[0 1 0 0 1 1 0 0 1 1 0 1 1 0 1 0 1 1 0 0 0 1 1 1 0 0]\n",
      "[0 0 0 1 0 0 1 1 0 0 1 1 0 1 1 0 1 0 1 1 0 0 0 1 1 1]\n",
      "[1 1 0 0 1 0 0 0 0 0 1 1 1 1 0 0 1 1 0 0 1 0 0 1 1 1]\n",
      "[1 1 1 1 1 1 1 0 1 1 1 1 1 1 1 0 0 1 0 1 0 1 1 1 1 1]\n",
      "[1 1 1 1 0 0 1 1 0 1 0 0 1 1 1 0 1 1 1 1 0 0 0 0 0 1]\n",
      "[0 1 1 1 1 0 0 0 1 0 0 0 0 0 1 1 0 1 1 0 0 0 0 0 1 0]\n",
      "[1 0 0 1 0 1 1 0 1 0 0 0 0 0 0 1 0 1 1 0 0 0 0 1 0 0]\n",
      "[0 0 1 0 0 1 0 1 1 0 1 0 0 0 0 0 0 1 0 1 1 0 0 0 0 1]\n",
      "[0 1 0 0 1 1 0 1 0 0 1 1 1 0 0 0 1 1 0 0 1 0 1 0 1 0]\n",
      "[1 0 0 1 1 0 1 1 1 1 1 0 1 1 1 1 1 0 0 0 1 0 1 1 1 0]\n",
      "[1 0 1 0 1 1 1 0 0 1 0 1 1 0 1 0 0 1 0 1 1 0 1 1 1 1]\n"
     ]
    }
   ],
   "source": [
    "print(B)"
   ]
  },
  {
   "cell_type": "markdown",
   "metadata": {},
   "source": [
    "El rango de $B - I_d$ es $23$, así que habrá una única solución"
   ]
  },
  {
   "cell_type": "code",
   "execution_count": 11,
   "metadata": {},
   "outputs": [
    {
     "data": {
      "text/plain": [
       "23"
      ]
     },
     "execution_count": 11,
     "metadata": {},
     "output_type": "execute_result"
    }
   ],
   "source": [
    "(B - Matrix.identity(g.degree())).rank()"
   ]
  },
  {
   "cell_type": "code",
   "execution_count": 12,
   "metadata": {},
   "outputs": [
    {
     "data": {
      "text/plain": [
       "Free module of degree 26 and rank 3 over Univariate Polynomial Ring in x over Finite Field of size 2 (using GF2X)\n",
       "Echelon basis matrix:\n",
       "[1 0 0 0 0 0 0 0 0 0 0 0 0 0 0 0 0 0 0 0 0 0 0 0 0 0]\n",
       "[0 0 1 1 0 0 1 0 0 1 1 0 0 0 0 0 1 1 0 0 0 0 0 1 0 1]\n",
       "[0 0 0 1 1 1 1 1 0 0 0 1 0 1 0 0 0 1 0 0 1 0 1 0 0 0]"
      ]
     },
     "execution_count": 12,
     "metadata": {},
     "output_type": "execute_result"
    }
   ],
   "source": [
    "soluciones = (B - Matrix.identity(g.degree())).left_kernel()  # left o right?\n",
    "soluciones"
   ]
  },
  {
   "cell_type": "markdown",
   "metadata": {},
   "source": [
    "## Apartado 3"
   ]
  },
  {
   "cell_type": "code",
   "execution_count": 13,
   "metadata": {},
   "outputs": [
    {
     "data": {
      "text/plain": [
       "[1,\n",
       " x^25 + x^23 + x^17 + x^16 + x^10 + x^9 + x^6 + x^3 + x^2,\n",
       " x^22 + x^20 + x^17 + x^13 + x^11 + x^7 + x^6 + x^5 + x^4 + x^3]"
      ]
     },
     "execution_count": 13,
     "metadata": {},
     "output_type": "execute_result"
    }
   ],
   "source": [
    "def sacar_soluciones(B, field):\n",
    "    \n",
    "    polinomios_soluciones = []\n",
    "    soluciones = (B - Matrix.identity(g.degree())).left_kernel()\n",
    "\n",
    "    for sol in list(soluciones.gens()):\n",
    "        polinomios_soluciones.append(field(list(sol)))\n",
    "\n",
    "    return polinomios_soluciones\n",
    "\n",
    "polinomios_soluciones = sacar_soluciones(B, Z2)\n",
    "polinomios_soluciones"
   ]
  },
  {
   "cell_type": "code",
   "execution_count": 14,
   "metadata": {},
   "outputs": [
    {
     "name": "stdout",
     "output_type": "stream",
     "text": [
      "x^18 + x^17 + x^13 + x^10 + x^8 + x^7 + x^6 + x + 1\n",
      "x^8 + x^7 + x^6 + x^3 + x^2 + x + 1\n",
      "x^11 + x^10 + x^7 + x^4 + x^3 + x + 1\n",
      "x^15 + x^14 + x^13 + x^11 + x^5 + x^4 + x^2 + x + 1\n"
     ]
    }
   ],
   "source": [
    "for pol in polinomios_soluciones:\n",
    "    if pol != 1:\n",
    "        print(gcd(g, pol))\n",
    "        print(gcd(g, pol - 1))"
   ]
  },
  {
   "cell_type": "code",
   "execution_count": 15,
   "metadata": {},
   "outputs": [
    {
     "data": {
      "text/plain": [
       "1"
      ]
     },
     "execution_count": 15,
     "metadata": {},
     "output_type": "execute_result"
    }
   ],
   "source": [
    "gcd(\n",
    "    x^18 + x^17 + x^13 + x^10 + x^8 + x^7 + x^6 + x + 1, \n",
    "    (x^18 + x^17 + x^13 + x^10 + x^8 + x^7 + x^6 + x + 1).diff()\n",
    ")"
   ]
  },
  {
   "cell_type": "code",
   "execution_count": 16,
   "metadata": {},
   "outputs": [
    {
     "data": {
      "text/plain": [
       "1"
      ]
     },
     "execution_count": 16,
     "metadata": {},
     "output_type": "execute_result"
    }
   ],
   "source": [
    "gcd(\n",
    "    x^8 + x^7 + x^6 + x^3 + x^2 + x + 1, \n",
    "    (x^8 + x^7 + x^6 + x^3 + x^2 + x + 1).diff()\n",
    ")"
   ]
  },
  {
   "cell_type": "code",
   "execution_count": 17,
   "metadata": {},
   "outputs": [
    {
     "data": {
      "text/plain": [
       "(x^26 + x^23 + x^20 + x^19 + x^18 + x^16 + x^15 + x^10 + x^8 + x^4 + 1,\n",
       " x^26 + x^23 + x^20 + x^19 + x^18 + x^16 + x^15 + x^10 + x^8 + x^4 + 1)"
      ]
     },
     "execution_count": 17,
     "metadata": {},
     "output_type": "execute_result"
    }
   ],
   "source": [
    "(x^18 + x^17 + x^13 + x^10 + x^8 + x^7 + x^6 + x + 1) * (x^8 + x^7 + x^6 + x^3 + x^2 + x + 1), g\n"
   ]
  },
  {
   "cell_type": "code",
   "execution_count": 18,
   "metadata": {},
   "outputs": [
    {
     "data": {
      "text/plain": [
       "1"
      ]
     },
     "execution_count": 18,
     "metadata": {},
     "output_type": "execute_result"
    }
   ],
   "source": [
    "gcd(\n",
    "    x^11 + x^10 + x^7 + x^4 + x^3 + x + 1,\n",
    "    (x^11 + x^10 + x^7 + x^4 + x^3 + x + 1).diff()\n",
    ")"
   ]
  },
  {
   "cell_type": "code",
   "execution_count": 19,
   "metadata": {},
   "outputs": [
    {
     "data": {
      "text/plain": [
       "1"
      ]
     },
     "execution_count": 19,
     "metadata": {},
     "output_type": "execute_result"
    }
   ],
   "source": [
    "gcd(\n",
    "    x^15 + x^14 + x^13 + x^11 + x^5 + x^4 + x^2 + x + 1, \n",
    "    (x^15 + x^14 + x^13 + x^11 + x^5 + x^4 + x^2 + x + 1).diff()\n",
    ")"
   ]
  },
  {
   "cell_type": "code",
   "execution_count": 20,
   "metadata": {},
   "outputs": [
    {
     "data": {
      "text/plain": [
       "(x^26 + x^23 + x^20 + x^19 + x^18 + x^16 + x^15 + x^10 + x^8 + x^4 + 1,\n",
       " x^26 + x^23 + x^20 + x^19 + x^18 + x^16 + x^15 + x^10 + x^8 + x^4 + 1)"
      ]
     },
     "execution_count": 20,
     "metadata": {},
     "output_type": "execute_result"
    }
   ],
   "source": [
    "(x^11 + x^10 + x^7 + x^4 + x^3 + x + 1) * (x^15 + x^14 + x^13 + x^11 + x^5 + x^4 + x^2 + x + 1), g"
   ]
  },
  {
   "cell_type": "code",
   "execution_count": 38,
   "metadata": {},
   "outputs": [
    {
     "name": "stdout",
     "output_type": "stream",
     "text": [
      "Factores de x^19 + 2*x^17 + x^12 + 2*x^7 + x^6 + x^3 + x + 1:\n",
      "x^19 + 2*x^17 + x^12 + 2*x^7 + x^6 + x^3 + x + 1\n",
      "Factores de x^7 + x^5 + x^4 + x^3 + x^2 + 2*x + 1:\n",
      "x^7 + x^5 + x^4 + x^3 + x^2 + 2*x + 1\n"
     ]
    }
   ],
   "source": [
    "for pol in polinomios_soluciones:\n",
    "    if pol != 1:\n",
    "        print(\"Factores de \" + str(gcd(g, pol)) + \":\")\n",
    "        print(factor(gcd(g, pol)))\n",
    "        print(\"Factores de \" + str(gcd(g, pol - 1)) + \":\")\n",
    "        print(factor(gcd(g, pol - 1)))"
   ]
  },
  {
   "cell_type": "code",
   "execution_count": 22,
   "metadata": {},
   "outputs": [
    {
     "data": {
      "text/plain": [
       "x^8 + x^7 + x^6 + x^3 + x^2 + x + 1"
      ]
     },
     "execution_count": 22,
     "metadata": {},
     "output_type": "execute_result"
    }
   ],
   "source": []
  },
  {
   "cell_type": "markdown",
   "metadata": {},
   "source": [
    "## Apartado 4"
   ]
  },
  {
   "cell_type": "code",
   "execution_count": 23,
   "metadata": {},
   "outputs": [
    {
     "data": {
      "text/plain": [
       "x^26 + x^23 + x^20 + x^19 + x^18 + x^16 + x^15 + x^10 + x^8 + x^4 + 1"
      ]
     },
     "execution_count": 23,
     "metadata": {},
     "output_type": "execute_result"
    }
   ],
   "source": [
    "Z3 = PolynomialRing(GF(3), 'x')\n",
    "x = Z3.gen()\n",
    "g = 1 + x^4 + x^8 + x^10 + x^15 + x^16 + x^18 + x^19 + x^20 + x^23 + x^26\n",
    "g"
   ]
  },
  {
   "cell_type": "code",
   "execution_count": 24,
   "metadata": {},
   "outputs": [
    {
     "data": {
      "text/plain": [
       "133"
      ]
     },
     "execution_count": 24,
     "metadata": {},
     "output_type": "execute_result"
    }
   ],
   "source": [
    "menor_indice_cuerpo(g, 3, x)"
   ]
  },
  {
   "cell_type": "code",
   "execution_count": 25,
   "metadata": {},
   "outputs": [
    {
     "data": {
      "text/plain": [
       "26 x 26 dense matrix over Univariate Polynomial Ring in x over Finite Field of size 3 (use the '.str()' method to see the entries)"
      ]
     },
     "execution_count": 25,
     "metadata": {},
     "output_type": "execute_result"
    }
   ],
   "source": [
    "B = extraer_B(g, 3, Z3)\n",
    "B"
   ]
  },
  {
   "cell_type": "code",
   "execution_count": 26,
   "metadata": {},
   "outputs": [
    {
     "name": "stdout",
     "output_type": "stream",
     "text": [
      "[1 0 0 0 0 0 0 0 0 0 0 0 0 0 0 0 0 0 0 0 0 0 0 0 0 0]\n",
      "[0 0 0 1 0 0 0 0 0 0 0 0 0 0 0 0 0 0 0 0 0 0 0 0 0 0]\n",
      "[0 0 0 0 0 0 1 0 0 0 0 0 0 0 0 0 0 0 0 0 0 0 0 0 0 0]\n",
      "[0 0 0 0 0 0 0 0 0 1 0 0 0 0 0 0 0 0 0 0 0 0 0 0 0 0]\n",
      "[0 0 0 0 0 0 0 0 0 0 0 0 1 0 0 0 0 0 0 0 0 0 0 0 0 0]\n",
      "[0 0 0 0 0 0 0 0 0 0 0 0 0 0 0 1 0 0 0 0 0 0 0 0 0 0]\n",
      "[0 0 0 0 0 0 0 0 0 0 0 0 0 0 0 0 0 0 1 0 0 0 0 0 0 0]\n",
      "[0 0 0 0 0 0 0 0 0 0 0 0 0 0 0 0 0 0 0 0 0 1 0 0 0 0]\n",
      "[0 0 0 0 0 0 0 0 0 0 0 0 0 0 0 0 0 0 0 0 0 0 0 0 1 0]\n",
      "[0 2 0 0 0 2 0 0 0 2 0 2 0 0 0 0 2 2 0 2 2 2 0 0 2 0]\n",
      "[0 1 0 0 2 1 0 0 2 1 0 1 2 0 2 0 1 1 0 0 0 1 2 2 0 0]\n",
      "[1 0 0 0 2 0 0 2 2 0 1 2 1 0 1 0 1 2 1 2 2 0 0 1 1 2]\n",
      "[2 2 1 1 2 2 1 2 2 2 2 1 1 1 2 0 1 1 0 2 1 1 0 1 2 1]\n",
      "[2 1 2 2 1 2 0 2 1 2 0 0 1 2 1 0 1 2 1 1 0 0 1 0 2 2]\n",
      "[0 1 1 2 1 0 0 1 2 1 0 2 0 0 0 1 0 0 1 2 1 0 2 0 1 2]\n",
      "[0 2 1 0 1 0 0 1 0 2 2 1 2 0 2 0 2 0 2 2 0 1 0 1 2 0]\n",
      "[2 1 0 0 1 2 0 1 2 1 0 1 2 2 1 1 0 0 2 2 0 0 2 2 2 0]\n",
      "[1 1 0 2 2 1 0 1 0 1 2 0 1 0 1 0 1 2 2 2 2 0 2 1 1 2]\n",
      "[2 2 1 1 0 2 0 2 0 2 1 2 2 2 0 0 1 1 0 2 1 2 0 1 2 0]\n",
      "[2 1 0 2 1 2 1 0 1 1 1 1 2 1 2 1 2 1 2 1 1 1 2 0 0 0]\n",
      "[0 0 0 2 1 0 2 1 2 1 0 1 1 1 1 2 1 2 1 2 1 2 1 1 1 2]\n",
      "[2 2 1 0 2 2 0 1 2 1 1 1 2 0 1 0 2 1 2 2 1 1 0 0 1 2]\n",
      "[0 2 1 2 2 0 1 2 2 2 2 1 2 1 1 2 2 1 1 1 1 2 0 1 0 1]\n",
      "[2 0 2 0 1 1 1 2 2 1 0 2 1 2 1 1 0 0 0 1 2 0 0 0 2 2]\n",
      "[0 1 1 2 0 0 1 1 1 2 0 0 2 0 2 1 0 0 2 1 2 2 2 2 1 1]\n",
      "[1 2 2 0 2 0 1 0 1 0 1 0 1 0 0 0 0 0 1 0 2 0 0 0 1 1]\n"
     ]
    }
   ],
   "source": [
    "print(B)"
   ]
  },
  {
   "cell_type": "code",
   "execution_count": 27,
   "metadata": {},
   "outputs": [
    {
     "data": {
      "text/plain": [
       "26 x 26 dense matrix over Univariate Polynomial Ring in x over Finite Field of size 3 (use the '.str()' method to see the entries)"
      ]
     },
     "execution_count": 27,
     "metadata": {},
     "output_type": "execute_result"
    }
   ],
   "source": [
    "(B - Matrix.identity(g.degree()))"
   ]
  },
  {
   "cell_type": "code",
   "execution_count": 28,
   "metadata": {},
   "outputs": [
    {
     "data": {
      "text/plain": [
       "24"
      ]
     },
     "execution_count": 28,
     "metadata": {},
     "output_type": "execute_result"
    }
   ],
   "source": [
    "(B - Matrix.identity(g.degree())).rank()"
   ]
  },
  {
   "cell_type": "code",
   "execution_count": 29,
   "metadata": {},
   "outputs": [
    {
     "data": {
      "text/plain": [
       "[1,\n",
       " x^25 + x^23 + x^22 + 2*x^20 + x^19 + x^18 + 2*x^16 + x^15 + 2*x^14 + 2*x^13 + x^12 + x^11 + x^10 + 2*x^8 + 2*x^6 + x^5 + 2*x^2]"
      ]
     },
     "execution_count": 29,
     "metadata": {},
     "output_type": "execute_result"
    }
   ],
   "source": [
    "polinomios_soluciones = sacar_soluciones(B, Z3)\n",
    "polinomios_soluciones"
   ]
  },
  {
   "cell_type": "code",
   "execution_count": 30,
   "metadata": {},
   "outputs": [
    {
     "name": "stdout",
     "output_type": "stream",
     "text": [
      "x^19 + 2*x^17 + x^12 + 2*x^7 + x^6 + x^3 + x + 1\n",
      "x^7 + x^5 + x^4 + x^3 + x^2 + 2*x + 1\n",
      "1\n"
     ]
    }
   ],
   "source": [
    "for pol in polinomios_soluciones:\n",
    "    if pol != 1:\n",
    "        print(gcd(g, pol))\n",
    "        print(gcd(g, pol - 1))\n",
    "        print(gcd(g, pol - 2))"
   ]
  },
  {
   "cell_type": "code",
   "execution_count": 31,
   "metadata": {},
   "outputs": [
    {
     "data": {
      "text/plain": [
       "(x^26 + x^23 + x^20 + x^19 + x^18 + x^16 + x^15 + x^10 + x^8 + x^4 + 1,\n",
       " x^26 + x^23 + x^20 + x^19 + x^18 + x^16 + x^15 + x^10 + x^8 + x^4 + 1)"
      ]
     },
     "execution_count": 31,
     "metadata": {},
     "output_type": "execute_result"
    }
   ],
   "source": [
    "(x^19 + 2*x^17 + x^12 + 2*x^7 + x^6 + x^3 + x + 1)*(x^7 + x^5 + x^4 + x^3 + x^2 + 2*x + 1), g\n"
   ]
  },
  {
   "cell_type": "code",
   "execution_count": 32,
   "metadata": {},
   "outputs": [
    {
     "data": {
      "text/plain": [
       "1"
      ]
     },
     "execution_count": 32,
     "metadata": {},
     "output_type": "execute_result"
    }
   ],
   "source": [
    "gcd(\n",
    "    x^19 + 2*x^17 + x^12 + 2*x^7 + x^6 + x^3 + x + 1, \n",
    "    (x^19 + 2*x^17 + x^12 + 2*x^7 + x^6 + x^3 + x + 1).diff()\n",
    ")"
   ]
  },
  {
   "cell_type": "markdown",
   "metadata": {},
   "source": [
    "## Apartado 5"
   ]
  },
  {
   "cell_type": "markdown",
   "metadata": {},
   "source": [
    "## Temporal"
   ]
  },
  {
   "cell_type": "code",
   "execution_count": 33,
   "metadata": {},
   "outputs": [],
   "source": [
    "x = Z2.gen()"
   ]
  },
  {
   "cell_type": "code",
   "execution_count": 34,
   "metadata": {},
   "outputs": [
    {
     "data": {
      "text/plain": [
       "153"
      ]
     },
     "execution_count": 34,
     "metadata": {},
     "output_type": "execute_result"
    }
   ],
   "source": [
    "f_alba = 1 + x^2 + x^6 + x^7 + x^8 + x^11 + x^14 + x^15 + x^21 + x^23 + x^26\n",
    "menor_indice_cuerpo(f_alba, 2, x)"
   ]
  },
  {
   "cell_type": "code",
   "execution_count": 35,
   "metadata": {},
   "outputs": [
    {
     "data": {
      "text/plain": [
       "33"
      ]
     },
     "execution_count": 35,
     "metadata": {},
     "output_type": "execute_result"
    }
   ],
   "source": [
    "esperanza = 1 + x + x^2 + x^3 + x^4 + x^6 + x^7 + x^8 + x^10 + x^11 + x^14\n",
    "menor_indice_cuerpo(esperanza, 2, x)"
   ]
  },
  {
   "cell_type": "code",
   "execution_count": 36,
   "metadata": {},
   "outputs": [
    {
     "ename": "TypeError",
     "evalue": "extraer_B() missing 1 required positional argument: 'field'",
     "output_type": "error",
     "traceback": [
      "\u001b[0;31m---------------------------------------------------------------------------\u001b[0m",
      "\u001b[0;31mTypeError\u001b[0m                                 Traceback (most recent call last)",
      "\u001b[0;32m/tmp/ipykernel_1238/425248568.py\u001b[0m in \u001b[0;36m<module>\u001b[0;34m\u001b[0m\n\u001b[0;32m----> 1\u001b[0;31m \u001b[0mprint\u001b[0m\u001b[0;34m(\u001b[0m\u001b[0mextraer_B\u001b[0m\u001b[0;34m(\u001b[0m\u001b[0mf_alba\u001b[0m\u001b[0;34m,\u001b[0m \u001b[0mZ2\u001b[0m\u001b[0;34m)\u001b[0m\u001b[0;34m)\u001b[0m\u001b[0;34m\u001b[0m\u001b[0;34m\u001b[0m\u001b[0m\n\u001b[0m",
      "\u001b[0;31mTypeError\u001b[0m: extraer_B() missing 1 required positional argument: 'field'"
     ]
    }
   ],
   "source": [
    "print(extraer_B(f_alba, Z2))"
   ]
  },
  {
   "cell_type": "code",
   "execution_count": null,
   "metadata": {},
   "outputs": [],
   "source": [
    "g_paula = x^25 + x^23 + x^22 + x^21 + x^20 + x^14 + x^13 + x^12 + x^11 + x^9 + x^8 + x^5 + x^3 + x^2 + x + 1"
   ]
  },
  {
   "cell_type": "code",
   "execution_count": null,
   "metadata": {},
   "outputs": [],
   "source": [
    "(extraer_B(g_paula, Z2) - Matrix.identity(g_paula.degree())).rank()"
   ]
  },
  {
   "cell_type": "code",
   "execution_count": null,
   "metadata": {},
   "outputs": [],
   "source": [
    "extraer_B(g_paula, Z2)"
   ]
  },
  {
   "cell_type": "code",
   "execution_count": null,
   "metadata": {},
   "outputs": [],
   "source": [
    "sols_paula = (extraer_B(g_paula, Z2) - Matrix.identity(g_paula.degree())).left_kernel()"
   ]
  },
  {
   "cell_type": "code",
   "execution_count": null,
   "metadata": {},
   "outputs": [],
   "source": [
    "print(sols_paula)"
   ]
  },
  {
   "cell_type": "code",
   "execution_count": null,
   "metadata": {},
   "outputs": [],
   "source": [
    "for sol in list(sols_paula.gens()):\n",
    "    print(Z2(list(sol)))"
   ]
  }
 ],
 "metadata": {
  "kernelspec": {
   "display_name": "SageMath 9.5",
   "language": "sage",
   "name": "sagemath"
  },
  "language_info": {
   "codemirror_mode": {
    "name": "ipython",
    "version": 3
   },
   "file_extension": ".py",
   "mimetype": "text/x-python",
   "name": "python",
   "nbconvert_exporter": "python",
   "pygments_lexer": "ipython3",
   "version": "3.9.9"
  }
 },
 "nbformat": 4,
 "nbformat_minor": 2
}
