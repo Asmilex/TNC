{
 "cells": [
  {
   "cell_type": "markdown",
   "metadata": {},
   "source": [
    "# Ejercicio 9 \n",
    "\n",
    "Toma $n$ como tu número publicado para el ejercicio 2. Escribe $n$ en base 2, y usa esas cifras para definir un polinomio, $f(x)$, donde tu bit más significativo defina el grado del polinomio $n$, el siguiente bit va multiplicado por $x^{n-1}$ y así sucesivamente hasta que el bit menos significativo sea el término independiente. El polinomio que obtienes es universal en el sentido de que tiene coeficientes en cualquier anillo.\n",
    "\n",
    "Sea $f(x)$ el polinomio que obtienes con coeficientes en $\\mathbb{Z}$.\n",
    "\n",
    "1. Toma $g(x) \\equiv f(x) \\pmod{2}$ y halla el menor cuerpo de característica 2 que contenga a todas las raíces de g. ¿Qué deduces sobre la irreducibilidad de $g(x)$ en $\\mathbb{Z}_2[x]$?\n",
    "2. Extrae la parte libre de cuadrados de $g(x)$ y calcúlale la matriz de Berlekamp por columnas. Resuelve el sistema lineal $(B - Id)X = 0$.\n",
    "3. Aplica el algoritmo de Berlekamp recursivamente si es necesario para hallar la descomposición en irreducibles de $g(x)$ en $\\mathbb{Z}_2[x]$.\n",
    "4. Haz lo mismo para hallar la descomposición en irreducibles de $f(x) \\pmod{3}$.\n",
    "5. ¿Qué deduces sobre la reducibilidad de $f(x)$ en $\\mathbb{Z}[x]$?"
   ]
  },
  {
   "cell_type": "code",
   "execution_count": 1,
   "metadata": {},
   "outputs": [],
   "source": [
    "import numpy as np"
   ]
  },
  {
   "cell_type": "code",
   "execution_count": 2,
   "metadata": {},
   "outputs": [],
   "source": [
    "n = 77432081"
   ]
  },
  {
   "cell_type": "code",
   "execution_count": 3,
   "metadata": {},
   "outputs": [
    {
     "data": {
      "text/plain": [
       "'100100111011000010100010001'"
      ]
     },
     "execution_count": 3,
     "metadata": {},
     "output_type": "execute_result"
    }
   ],
   "source": [
    "format(n, 'b')"
   ]
  },
  {
   "cell_type": "code",
   "execution_count": 4,
   "metadata": {},
   "outputs": [],
   "source": [
    "Z2 = PolynomialRing(GF(2), 'x')\n",
    "x = Z2.gen()\n",
    "g = 1 + x^4 + x^8 + x^10 + x^15 + x^16 + x^18 + x^19 + x^20 + x^23 + x^26"
   ]
  },
  {
   "cell_type": "markdown",
   "metadata": {},
   "source": [
    "## Apartado 1"
   ]
  },
  {
   "cell_type": "markdown",
   "metadata": {},
   "source": [
    "Vamos a encontrar el menor cuerpo de característica 2 que contiene a todas las raíces de $g$."
   ]
  },
  {
   "cell_type": "code",
   "execution_count": 5,
   "metadata": {},
   "outputs": [],
   "source": [
    "def menor_indice_cuerpo(f, p, x):\n",
    "    g  = x^p \n",
    "    g1 = (g - x).mod(f)\n",
    "    k  = 1\n",
    "    \n",
    "    while g1 > 0:\n",
    "        g  = (g^p).mod(f)\n",
    "        g1 = (g - x).mod(f)\n",
    "        k  = k + 1\n",
    "        \n",
    "    return k"
   ]
  },
  {
   "cell_type": "code",
   "execution_count": 6,
   "metadata": {
    "scrolled": true
   },
   "outputs": [
    {
     "data": {
      "text/plain": [
       "616"
      ]
     },
     "execution_count": 6,
     "metadata": {},
     "output_type": "execute_result"
    }
   ],
   "source": [
    "menor_indice_cuerpo(g, 2, x)"
   ]
  },
  {
   "cell_type": "markdown",
   "metadata": {},
   "source": [
    "El menor cuerpo de característica $2$ que contiene a todas las raíces de $g$ es $$F_{2^{2^3 * 7 * 11}} = F_{2^{8 * 7 * 11}}$$"
   ]
  },
  {
   "cell_type": "code",
   "execution_count": 7,
   "metadata": {},
   "outputs": [
    {
     "data": {
      "text/plain": [
       "2^3 * 7 * 11"
      ]
     },
     "execution_count": 7,
     "metadata": {},
     "output_type": "execute_result"
    }
   ],
   "source": [
    "factor(616)"
   ]
  },
  {
   "cell_type": "markdown",
   "metadata": {},
   "source": [
    "Como $616 > \\text{grado}(g) = 26$, entonces $g(x)$ es reducible en $\\mathbb{Z}_2[x]$. Por ello, $g(x)$ puede romperse en tres polinomios de grados $8, 7$ y $11$, ya que $8 + 7 + 11 = 26$"
   ]
  },
  {
   "cell_type": "markdown",
   "metadata": {},
   "source": [
    "## Apartado 2"
   ]
  },
  {
   "cell_type": "code",
   "execution_count": 8,
   "metadata": {},
   "outputs": [
    {
     "data": {
      "text/plain": [
       "1"
      ]
     },
     "execution_count": 8,
     "metadata": {},
     "output_type": "execute_result"
    }
   ],
   "source": [
    "gcd(g, g.diff())"
   ]
  },
  {
   "cell_type": "markdown",
   "metadata": {},
   "source": [
    "$g(x)$ es libre de cuadrados, así que no será necesario hacer ninguna extracción. "
   ]
  },
  {
   "cell_type": "code",
   "execution_count": 9,
   "metadata": {},
   "outputs": [],
   "source": [
    "def extraer_B(g, p, field):\n",
    "    # Asegúrate de que `g` está en el mismo cuerpo que `field`\n",
    "    x = field.gen()\n",
    "    B = np.zeros([g.degree(), g.degree()], dtype = int)\n",
    "\n",
    "    for i in range(0, g.degree()):\n",
    "        coeficientes = [0] * g.degree()\n",
    "\n",
    "        pol = x^(p*i)\n",
    "        pol = pol.mod(g)\n",
    "        #print(\"[\" + str(i) + \"] x^2i mod f = \" + str(pol))\n",
    "\n",
    "        for j, coef in enumerate(pol.coefficients(sparse = False)):\n",
    "            coeficientes[j] = coef\n",
    "\n",
    "        B[i, :] = coeficientes\n",
    "    return Matrix(field, B.tolist())\n",
    "\n",
    "B = extraer_B(g, 2, Z2)"
   ]
  },
  {
   "cell_type": "markdown",
   "metadata": {},
   "source": [
    "Nuestra matriz $B$ es "
   ]
  },
  {
   "cell_type": "code",
   "execution_count": 10,
   "metadata": {},
   "outputs": [
    {
     "data": {
      "text/plain": [
       "26 x 26 dense matrix over Univariate Polynomial Ring in x over Finite Field of size 2 (using GF2X) (use the '.str()' method to see the entries)"
      ]
     },
     "execution_count": 10,
     "metadata": {},
     "output_type": "execute_result"
    }
   ],
   "source": [
    "B"
   ]
  },
  {
   "cell_type": "code",
   "execution_count": 11,
   "metadata": {},
   "outputs": [
    {
     "name": "stdout",
     "output_type": "stream",
     "text": [
      "[1 0 0 0 0 0 0 0 0 0 0 0 0 0 0 0 0 0 0 0 0 0 0 0 0 0]\n",
      "[0 0 1 0 0 0 0 0 0 0 0 0 0 0 0 0 0 0 0 0 0 0 0 0 0 0]\n",
      "[0 0 0 0 1 0 0 0 0 0 0 0 0 0 0 0 0 0 0 0 0 0 0 0 0 0]\n",
      "[0 0 0 0 0 0 1 0 0 0 0 0 0 0 0 0 0 0 0 0 0 0 0 0 0 0]\n",
      "[0 0 0 0 0 0 0 0 1 0 0 0 0 0 0 0 0 0 0 0 0 0 0 0 0 0]\n",
      "[0 0 0 0 0 0 0 0 0 0 1 0 0 0 0 0 0 0 0 0 0 0 0 0 0 0]\n",
      "[0 0 0 0 0 0 0 0 0 0 0 0 1 0 0 0 0 0 0 0 0 0 0 0 0 0]\n",
      "[0 0 0 0 0 0 0 0 0 0 0 0 0 0 1 0 0 0 0 0 0 0 0 0 0 0]\n",
      "[0 0 0 0 0 0 0 0 0 0 0 0 0 0 0 0 1 0 0 0 0 0 0 0 0 0]\n",
      "[0 0 0 0 0 0 0 0 0 0 0 0 0 0 0 0 0 0 1 0 0 0 0 0 0 0]\n",
      "[0 0 0 0 0 0 0 0 0 0 0 0 0 0 0 0 0 0 0 0 1 0 0 0 0 0]\n",
      "[0 0 0 0 0 0 0 0 0 0 0 0 0 0 0 0 0 0 0 0 0 0 1 0 0 0]\n",
      "[0 0 0 0 0 0 0 0 0 0 0 0 0 0 0 0 0 0 0 0 0 0 0 0 1 0]\n",
      "[1 0 0 0 1 0 0 0 1 0 1 0 0 0 0 1 1 0 1 1 1 0 0 1 0 0]\n",
      "[0 0 1 0 0 0 1 0 0 0 1 0 1 0 0 0 0 1 1 0 1 1 1 0 0 1]\n",
      "[0 1 0 0 1 1 0 0 1 1 0 1 1 0 1 0 1 1 0 0 0 1 1 1 0 0]\n",
      "[0 0 0 1 0 0 1 1 0 0 1 1 0 1 1 0 1 0 1 1 0 0 0 1 1 1]\n",
      "[1 1 0 0 1 0 0 0 0 0 1 1 1 1 0 0 1 1 0 0 1 0 0 1 1 1]\n",
      "[1 1 1 1 1 1 1 0 1 1 1 1 1 1 1 0 0 1 0 1 0 1 1 1 1 1]\n",
      "[1 1 1 1 0 0 1 1 0 1 0 0 1 1 1 0 1 1 1 1 0 0 0 0 0 1]\n",
      "[0 1 1 1 1 0 0 0 1 0 0 0 0 0 1 1 0 1 1 0 0 0 0 0 1 0]\n",
      "[1 0 0 1 0 1 1 0 1 0 0 0 0 0 0 1 0 1 1 0 0 0 0 1 0 0]\n",
      "[0 0 1 0 0 1 0 1 1 0 1 0 0 0 0 0 0 1 0 1 1 0 0 0 0 1]\n",
      "[0 1 0 0 1 1 0 1 0 0 1 1 1 0 0 0 1 1 0 0 1 0 1 0 1 0]\n",
      "[1 0 0 1 1 0 1 1 1 1 1 0 1 1 1 1 1 0 0 0 1 0 1 1 1 0]\n",
      "[1 0 1 0 1 1 1 0 0 1 0 1 1 0 1 0 0 1 0 1 1 0 1 1 1 1]\n"
     ]
    }
   ],
   "source": [
    "print(B)"
   ]
  },
  {
   "cell_type": "code",
   "execution_count": 12,
   "metadata": {},
   "outputs": [
    {
     "data": {
      "text/plain": [
       "23"
      ]
     },
     "execution_count": 12,
     "metadata": {},
     "output_type": "execute_result"
    }
   ],
   "source": [
    "(B - Matrix.identity(g.degree())).rank()"
   ]
  },
  {
   "cell_type": "markdown",
   "metadata": {},
   "source": [
    "El rango de $B - I_d$ es $23$, así que habrá tres soluciones."
   ]
  },
  {
   "cell_type": "code",
   "execution_count": 13,
   "metadata": {},
   "outputs": [
    {
     "data": {
      "text/plain": [
       "Free module of degree 26 and rank 3 over Univariate Polynomial Ring in x over Finite Field of size 2 (using GF2X)\n",
       "Echelon basis matrix:\n",
       "[1 0 0 0 0 0 0 0 0 0 0 0 0 0 0 0 0 0 0 0 0 0 0 0 0 0]\n",
       "[0 0 1 1 0 0 1 0 0 1 1 0 0 0 0 0 1 1 0 0 0 0 0 1 0 1]\n",
       "[0 0 0 1 1 1 1 1 0 0 0 1 0 1 0 0 0 1 0 0 1 0 1 0 0 0]"
      ]
     },
     "execution_count": 13,
     "metadata": {},
     "output_type": "execute_result"
    }
   ],
   "source": [
    "soluciones = (B - Matrix.identity(g.degree())).left_kernel()\n",
    "soluciones"
   ]
  },
  {
   "cell_type": "markdown",
   "metadata": {},
   "source": [
    "## Apartado 3"
   ]
  },
  {
   "cell_type": "markdown",
   "metadata": {},
   "source": [
    "Encontremos la descomposición de $g(x)$ en irreducibles en $\\mathbb{Z}_2[x]$. Primero, lo haremos a mano. Después introduciremos una función que realizará todo el proceso de estos tres primeros apartados, con lo cual conseguirá romper cualquier polinomio si se dan las condiciones adecuadas. "
   ]
  },
  {
   "cell_type": "code",
   "execution_count": 14,
   "metadata": {},
   "outputs": [
    {
     "data": {
      "text/plain": [
       "[1,\n",
       " x^25 + x^23 + x^17 + x^16 + x^10 + x^9 + x^6 + x^3 + x^2,\n",
       " x^22 + x^20 + x^17 + x^13 + x^11 + x^7 + x^6 + x^5 + x^4 + x^3]"
      ]
     },
     "execution_count": 14,
     "metadata": {},
     "output_type": "execute_result"
    }
   ],
   "source": [
    "def sacar_soluciones(B, g, field):\n",
    "    \n",
    "    polinomios_soluciones = []\n",
    "    soluciones = (B - Matrix.identity(g.degree())).left_kernel()\n",
    "\n",
    "    for sol in list(soluciones.gens()):\n",
    "        polinomios_soluciones.append(field(list(sol)))\n",
    "\n",
    "    return polinomios_soluciones\n",
    "\n",
    "polinomios_soluciones = sacar_soluciones(B, g, Z2)\n",
    "polinomios_soluciones"
   ]
  },
  {
   "cell_type": "markdown",
   "metadata": {},
   "source": [
    "Como $\\text{grado}(g) - \\text{rango}(B - I_d) = 3$, vamos a necesitar tres polinomios para romper $g$. Esto ya lo descubrimos en el primer apartado."
   ]
  },
  {
   "cell_type": "code",
   "execution_count": 15,
   "metadata": {
    "scrolled": true
   },
   "outputs": [
    {
     "data": {
      "text/plain": [
       "3"
      ]
     },
     "execution_count": 15,
     "metadata": {},
     "output_type": "execute_result"
    }
   ],
   "source": [
    "g.degree() - (B - Matrix.identity(g.degree())).rank()"
   ]
  },
  {
   "cell_type": "markdown",
   "metadata": {},
   "source": [
    "Vamos a aplicar calcular el $\\text{mcd}(g, \\text{polinomio} - c)$, con $c \\in \\mathbb{Z}_2$"
   ]
  },
  {
   "cell_type": "code",
   "execution_count": 16,
   "metadata": {},
   "outputs": [
    {
     "name": "stdout",
     "output_type": "stream",
     "text": [
      "gcds de x^25 + x^23 + x^17 + x^16 + x^10 + x^9 + x^6 + x^3 + x^2: \n",
      "\t-> x^18 + x^17 + x^13 + x^10 + x^8 + x^7 + x^6 + x + 1\n",
      "\t-> x^8 + x^7 + x^6 + x^3 + x^2 + x + 1\n",
      "gcds de x^22 + x^20 + x^17 + x^13 + x^11 + x^7 + x^6 + x^5 + x^4 + x^3: \n",
      "\t-> x^11 + x^10 + x^7 + x^4 + x^3 + x + 1\n",
      "\t-> x^15 + x^14 + x^13 + x^11 + x^5 + x^4 + x^2 + x + 1\n"
     ]
    }
   ],
   "source": [
    "for pol in polinomios_soluciones:\n",
    "    if pol != 1:\n",
    "        print(\"gcds de \" + str(pol) + \": \")\n",
    "        for c in range(0, Z2.modulus()):\n",
    "            print(\"\\t-> \" + str(gcd(pol - c , g)))"
   ]
  },
  {
   "cell_type": "code",
   "execution_count": 17,
   "metadata": {},
   "outputs": [],
   "source": [
    "g2 =  x^25 + x^23 + x^17 + x^16 + x^10 + x^9 + x^6 + x^3 + x^2"
   ]
  },
  {
   "cell_type": "code",
   "execution_count": 18,
   "metadata": {},
   "outputs": [
    {
     "data": {
      "text/plain": [
       "x^18 + x^17 + x^13 + x^10 + x^8 + x^7 + x^6 + x + 1"
      ]
     },
     "execution_count": 18,
     "metadata": {},
     "output_type": "execute_result"
    }
   ],
   "source": [
    "h1 = gcd(g, g2)\n",
    "h1"
   ]
  },
  {
   "cell_type": "code",
   "execution_count": 19,
   "metadata": {},
   "outputs": [
    {
     "data": {
      "text/plain": [
       "1"
      ]
     },
     "execution_count": 19,
     "metadata": {},
     "output_type": "execute_result"
    }
   ],
   "source": [
    "gcd(h1, h1.diff())"
   ]
  },
  {
   "cell_type": "code",
   "execution_count": 20,
   "metadata": {},
   "outputs": [
    {
     "data": {
      "text/plain": [
       "x^8 + x^7 + x^6 + x^3 + x^2 + x + 1"
      ]
     },
     "execution_count": 20,
     "metadata": {},
     "output_type": "execute_result"
    }
   ],
   "source": [
    "h2 = gcd(g, g2 - 1)\n",
    "h2"
   ]
  },
  {
   "cell_type": "code",
   "execution_count": 21,
   "metadata": {},
   "outputs": [
    {
     "data": {
      "text/plain": [
       "1"
      ]
     },
     "execution_count": 21,
     "metadata": {},
     "output_type": "execute_result"
    }
   ],
   "source": [
    "gcd(h2, h2.diff())"
   ]
  },
  {
   "cell_type": "code",
   "execution_count": 22,
   "metadata": {},
   "outputs": [
    {
     "data": {
      "text/plain": [
       "77"
      ]
     },
     "execution_count": 22,
     "metadata": {},
     "output_type": "execute_result"
    }
   ],
   "source": [
    "menor_indice_cuerpo(h1, 2, x)"
   ]
  },
  {
   "cell_type": "markdown",
   "metadata": {},
   "source": [
    "$77 > grado(h1)$ así que puede romper"
   ]
  },
  {
   "cell_type": "markdown",
   "metadata": {},
   "source": [
    "Sus factores son $(x^7 + x^3 + 1) (x^{11} + x^{10} + x^7 + x^4 + x^3 + x + 1)$:"
   ]
  },
  {
   "cell_type": "code",
   "execution_count": 23,
   "metadata": {},
   "outputs": [
    {
     "data": {
      "text/plain": [
       "True"
      ]
     },
     "execution_count": 23,
     "metadata": {},
     "output_type": "execute_result"
    }
   ],
   "source": [
    "(x^7 + x^3 + 1) * (x^11 + x^10 + x^7 + x^4 + x^3 + x + 1) == h1"
   ]
  },
  {
   "cell_type": "code",
   "execution_count": 24,
   "metadata": {},
   "outputs": [
    {
     "data": {
      "text/plain": [
       "1"
      ]
     },
     "execution_count": 24,
     "metadata": {},
     "output_type": "execute_result"
    }
   ],
   "source": [
    "gcd(\n",
    "    x^18 + x^17 + x^13 + x^10 + x^8 + x^7 + x^6 + x + 1, \n",
    "    (x^18 + x^17 + x^13 + x^10 + x^8 + x^7 + x^6 + x + 1).diff()\n",
    ")"
   ]
  },
  {
   "cell_type": "code",
   "execution_count": 25,
   "metadata": {},
   "outputs": [],
   "source": [
    "h3 = x^7 + x^3 + 1\n",
    "h4 = x^11 + x^10 + x^7 + x^4 + x^3 + x + 1"
   ]
  },
  {
   "cell_type": "code",
   "execution_count": 26,
   "metadata": {},
   "outputs": [
    {
     "data": {
      "text/plain": [
       "x^26 + x^23 + x^20 + x^19 + x^18 + x^16 + x^15 + x^10 + x^8 + x^4 + 1"
      ]
     },
     "execution_count": 26,
     "metadata": {},
     "output_type": "execute_result"
    }
   ],
   "source": [
    "h2*h3*h4"
   ]
  },
  {
   "cell_type": "code",
   "execution_count": 27,
   "metadata": {},
   "outputs": [
    {
     "data": {
      "text/plain": [
       "True"
      ]
     },
     "execution_count": 27,
     "metadata": {},
     "output_type": "execute_result"
    }
   ],
   "source": [
    "h2*h3*h4 == g"
   ]
  },
  {
   "cell_type": "markdown",
   "metadata": {},
   "source": [
    "Hemos descrito los pasos manualmente. El siguiente algoritmo generalizará lo que acabamos de realizar:"
   ]
  },
  {
   "cell_type": "code",
   "execution_count": 28,
   "metadata": {},
   "outputs": [],
   "source": [
    "def es_irreducible(f, field):\n",
    "    return all( list( map(\n",
    "        lambda polinomio, num: polinomio(num) != 0, \n",
    "        [f]*field.modulus(), \n",
    "        range(0, field.modulus())\n",
    "    )))\n",
    "\n",
    "\n",
    "def romper(g, p, field):\n",
    "    x = field.gen()\n",
    "    if gcd(g, g.diff()) != 1:\n",
    "        print(\"PROBLEMA: \" + str(g) + \" no es libre de cuadrados\")\n",
    "    \n",
    "    indice = menor_indice_cuerpo(g, p, x)\n",
    "    \n",
    "    irreducibles = []\n",
    "    if indice <= g.degree() and es_irreducible(g, field):\n",
    "        print(str(g) + \" es irreducible\")\n",
    "        return [g] \n",
    "    else:\n",
    "        print(str(g) + \" es reducible\")\n",
    "        print(\"Se espera que se necesiten polinomios de grados \" + str(factor(indice)))\n",
    "        \n",
    "        B = extraer_B(g, p, field)\n",
    "        soluciones = sacar_soluciones(B, g, field)\n",
    "        soluciones.remove(1)\n",
    "\n",
    "        print(\"Entramos en fase de gcd(g, g - c)\")\n",
    "        for pol in soluciones:\n",
    "            print(\"-> gcds de \" + str(pol) + \":\")\n",
    "            \n",
    "            for c in range(0, field.modulus()):\n",
    "                roto = gcd(pol - c , g)\n",
    "                print(\"\\t\" + str(roto))\n",
    "                \n",
    "                if roto == 1: \n",
    "                    continue\n",
    "                \n",
    "                irreducibles = list(\n",
    "                    set(irreducibles + romper(roto, p, field))\n",
    "                )\n",
    "                \n",
    "    return irreducibles"
   ]
  },
  {
   "cell_type": "code",
   "execution_count": 29,
   "metadata": {},
   "outputs": [
    {
     "name": "stdout",
     "output_type": "stream",
     "text": [
      "x^26 + x^23 + x^20 + x^19 + x^18 + x^16 + x^15 + x^10 + x^8 + x^4 + 1 es reducible\n",
      "Se espera que se necesiten polinomios de grados 2^3 * 7 * 11\n",
      "Entramos en fase de gcd(g, g - c)\n",
      "-> gcds de x^25 + x^23 + x^17 + x^16 + x^10 + x^9 + x^6 + x^3 + x^2:\n",
      "\tx^18 + x^17 + x^13 + x^10 + x^8 + x^7 + x^6 + x + 1\n",
      "x^18 + x^17 + x^13 + x^10 + x^8 + x^7 + x^6 + x + 1 es reducible\n",
      "Se espera que se necesiten polinomios de grados 7 * 11\n",
      "Entramos en fase de gcd(g, g - c)\n",
      "-> gcds de x^16 + x^14 + x^12 + x^11 + x^9 + x^7 + x^6 + x^4:\n",
      "\tx^11 + x^10 + x^7 + x^4 + x^3 + x + 1\n",
      "x^11 + x^10 + x^7 + x^4 + x^3 + x + 1 es irreducible\n",
      "\tx^7 + x^3 + 1\n",
      "x^7 + x^3 + 1 es irreducible\n",
      "\tx^8 + x^7 + x^6 + x^3 + x^2 + x + 1\n",
      "x^8 + x^7 + x^6 + x^3 + x^2 + x + 1 es irreducible\n",
      "-> gcds de x^22 + x^20 + x^17 + x^13 + x^11 + x^7 + x^6 + x^5 + x^4 + x^3:\n",
      "\tx^11 + x^10 + x^7 + x^4 + x^3 + x + 1\n",
      "x^11 + x^10 + x^7 + x^4 + x^3 + x + 1 es irreducible\n",
      "\tx^15 + x^14 + x^13 + x^11 + x^5 + x^4 + x^2 + x + 1\n",
      "x^15 + x^14 + x^13 + x^11 + x^5 + x^4 + x^2 + x + 1 es reducible\n",
      "Se espera que se necesiten polinomios de grados 2^3 * 7\n",
      "Entramos en fase de gcd(g, g - c)\n",
      "-> gcds de x^12 + x^10 + x^6 + x^5 + x^4 + x^3 + x:\n",
      "\tx^7 + x^3 + 1\n",
      "x^7 + x^3 + 1 es irreducible\n",
      "\tx^8 + x^7 + x^6 + x^3 + x^2 + x + 1\n",
      "x^8 + x^7 + x^6 + x^3 + x^2 + x + 1 es irreducible\n"
     ]
    },
    {
     "data": {
      "text/plain": [
       "[x^8 + x^7 + x^6 + x^3 + x^2 + x + 1,\n",
       " x^7 + x^3 + 1,\n",
       " x^11 + x^10 + x^7 + x^4 + x^3 + x + 1]"
      ]
     },
     "execution_count": 29,
     "metadata": {},
     "output_type": "execute_result"
    }
   ],
   "source": [
    "romper(g, 2, Z2)"
   ]
  },
  {
   "cell_type": "markdown",
   "metadata": {},
   "source": [
    "## Apartado 4"
   ]
  },
  {
   "cell_type": "markdown",
   "metadata": {},
   "source": [
    "El proceso será el mismo que el del apartado anterior. Aunque podríamos utilizar directamente `romper()`, mostraremos todos los pasos con detalle, enseñando al final el resultado de dicha función."
   ]
  },
  {
   "cell_type": "code",
   "execution_count": 30,
   "metadata": {},
   "outputs": [
    {
     "data": {
      "text/plain": [
       "x^26 + x^23 + x^20 + x^19 + x^18 + x^16 + x^15 + x^10 + x^8 + x^4 + 1"
      ]
     },
     "execution_count": 30,
     "metadata": {},
     "output_type": "execute_result"
    }
   ],
   "source": [
    "Z3 = PolynomialRing(GF(3), 'x')\n",
    "x = Z3.gen()\n",
    "g = 1 + x^4 + x^8 + x^10 + x^15 + x^16 + x^18 + x^19 + x^20 + x^23 + x^26\n",
    "g"
   ]
  },
  {
   "cell_type": "code",
   "execution_count": 31,
   "metadata": {},
   "outputs": [
    {
     "data": {
      "text/plain": [
       "1"
      ]
     },
     "execution_count": 31,
     "metadata": {},
     "output_type": "execute_result"
    }
   ],
   "source": [
    "gcd(g, g.diff())"
   ]
  },
  {
   "cell_type": "code",
   "execution_count": 32,
   "metadata": {},
   "outputs": [
    {
     "data": {
      "text/plain": [
       "133"
      ]
     },
     "execution_count": 32,
     "metadata": {},
     "output_type": "execute_result"
    }
   ],
   "source": [
    "menor_indice_cuerpo(g, 3, x)"
   ]
  },
  {
   "cell_type": "markdown",
   "metadata": {},
   "source": [
    "$133 > \\text{grado}(g) \\Rightarrow$ es reducible"
   ]
  },
  {
   "cell_type": "code",
   "execution_count": 33,
   "metadata": {},
   "outputs": [
    {
     "data": {
      "text/plain": [
       "26 x 26 dense matrix over Univariate Polynomial Ring in x over Finite Field of size 3 (use the '.str()' method to see the entries)"
      ]
     },
     "execution_count": 33,
     "metadata": {},
     "output_type": "execute_result"
    }
   ],
   "source": [
    "B = extraer_B(g, 3, Z3)\n",
    "B"
   ]
  },
  {
   "cell_type": "code",
   "execution_count": 34,
   "metadata": {},
   "outputs": [
    {
     "name": "stdout",
     "output_type": "stream",
     "text": [
      "[1 0 0 0 0 0 0 0 0 0 0 0 0 0 0 0 0 0 0 0 0 0 0 0 0 0]\n",
      "[0 0 0 1 0 0 0 0 0 0 0 0 0 0 0 0 0 0 0 0 0 0 0 0 0 0]\n",
      "[0 0 0 0 0 0 1 0 0 0 0 0 0 0 0 0 0 0 0 0 0 0 0 0 0 0]\n",
      "[0 0 0 0 0 0 0 0 0 1 0 0 0 0 0 0 0 0 0 0 0 0 0 0 0 0]\n",
      "[0 0 0 0 0 0 0 0 0 0 0 0 1 0 0 0 0 0 0 0 0 0 0 0 0 0]\n",
      "[0 0 0 0 0 0 0 0 0 0 0 0 0 0 0 1 0 0 0 0 0 0 0 0 0 0]\n",
      "[0 0 0 0 0 0 0 0 0 0 0 0 0 0 0 0 0 0 1 0 0 0 0 0 0 0]\n",
      "[0 0 0 0 0 0 0 0 0 0 0 0 0 0 0 0 0 0 0 0 0 1 0 0 0 0]\n",
      "[0 0 0 0 0 0 0 0 0 0 0 0 0 0 0 0 0 0 0 0 0 0 0 0 1 0]\n",
      "[0 2 0 0 0 2 0 0 0 2 0 2 0 0 0 0 2 2 0 2 2 2 0 0 2 0]\n",
      "[0 1 0 0 2 1 0 0 2 1 0 1 2 0 2 0 1 1 0 0 0 1 2 2 0 0]\n",
      "[1 0 0 0 2 0 0 2 2 0 1 2 1 0 1 0 1 2 1 2 2 0 0 1 1 2]\n",
      "[2 2 1 1 2 2 1 2 2 2 2 1 1 1 2 0 1 1 0 2 1 1 0 1 2 1]\n",
      "[2 1 2 2 1 2 0 2 1 2 0 0 1 2 1 0 1 2 1 1 0 0 1 0 2 2]\n",
      "[0 1 1 2 1 0 0 1 2 1 0 2 0 0 0 1 0 0 1 2 1 0 2 0 1 2]\n",
      "[0 2 1 0 1 0 0 1 0 2 2 1 2 0 2 0 2 0 2 2 0 1 0 1 2 0]\n",
      "[2 1 0 0 1 2 0 1 2 1 0 1 2 2 1 1 0 0 2 2 0 0 2 2 2 0]\n",
      "[1 1 0 2 2 1 0 1 0 1 2 0 1 0 1 0 1 2 2 2 2 0 2 1 1 2]\n",
      "[2 2 1 1 0 2 0 2 0 2 1 2 2 2 0 0 1 1 0 2 1 2 0 1 2 0]\n",
      "[2 1 0 2 1 2 1 0 1 1 1 1 2 1 2 1 2 1 2 1 1 1 2 0 0 0]\n",
      "[0 0 0 2 1 0 2 1 2 1 0 1 1 1 1 2 1 2 1 2 1 2 1 1 1 2]\n",
      "[2 2 1 0 2 2 0 1 2 1 1 1 2 0 1 0 2 1 2 2 1 1 0 0 1 2]\n",
      "[0 2 1 2 2 0 1 2 2 2 2 1 2 1 1 2 2 1 1 1 1 2 0 1 0 1]\n",
      "[2 0 2 0 1 1 1 2 2 1 0 2 1 2 1 1 0 0 0 1 2 0 0 0 2 2]\n",
      "[0 1 1 2 0 0 1 1 1 2 0 0 2 0 2 1 0 0 2 1 2 2 2 2 1 1]\n",
      "[1 2 2 0 2 0 1 0 1 0 1 0 1 0 0 0 0 0 1 0 2 0 0 0 1 1]\n"
     ]
    }
   ],
   "source": [
    "print(B)"
   ]
  },
  {
   "cell_type": "code",
   "execution_count": 35,
   "metadata": {},
   "outputs": [
    {
     "data": {
      "text/plain": [
       "26 x 26 dense matrix over Univariate Polynomial Ring in x over Finite Field of size 3 (use the '.str()' method to see the entries)"
      ]
     },
     "execution_count": 35,
     "metadata": {},
     "output_type": "execute_result"
    }
   ],
   "source": [
    "(B - Matrix.identity(g.degree()))"
   ]
  },
  {
   "cell_type": "code",
   "execution_count": 36,
   "metadata": {},
   "outputs": [
    {
     "data": {
      "text/plain": [
       "24"
      ]
     },
     "execution_count": 36,
     "metadata": {},
     "output_type": "execute_result"
    }
   ],
   "source": [
    "(B - Matrix.identity(g.degree())).rank()"
   ]
  },
  {
   "cell_type": "markdown",
   "metadata": {},
   "source": [
    "Por tanto, hay dos soluciones."
   ]
  },
  {
   "cell_type": "code",
   "execution_count": 37,
   "metadata": {},
   "outputs": [
    {
     "data": {
      "text/plain": [
       "[1,\n",
       " x^25 + x^23 + x^22 + 2*x^20 + x^19 + x^18 + 2*x^16 + x^15 + 2*x^14 + 2*x^13 + x^12 + x^11 + x^10 + 2*x^8 + 2*x^6 + x^5 + 2*x^2]"
      ]
     },
     "execution_count": 37,
     "metadata": {},
     "output_type": "execute_result"
    }
   ],
   "source": [
    "polinomios_soluciones = sacar_soluciones(B, g, Z3)\n",
    "polinomios_soluciones"
   ]
  },
  {
   "cell_type": "code",
   "execution_count": 38,
   "metadata": {},
   "outputs": [
    {
     "name": "stdout",
     "output_type": "stream",
     "text": [
      "x^19 + 2*x^17 + x^12 + 2*x^7 + x^6 + x^3 + x + 1\n",
      "x^7 + x^5 + x^4 + x^3 + x^2 + 2*x + 1\n",
      "1\n"
     ]
    }
   ],
   "source": [
    "for pol in polinomios_soluciones:\n",
    "    if pol != 1:\n",
    "        print(gcd(g, pol))\n",
    "        print(gcd(g, pol - 1))\n",
    "        print(gcd(g, pol - 2))"
   ]
  },
  {
   "cell_type": "code",
   "execution_count": 39,
   "metadata": {},
   "outputs": [
    {
     "data": {
      "text/plain": [
       "True"
      ]
     },
     "execution_count": 39,
     "metadata": {},
     "output_type": "execute_result"
    }
   ],
   "source": [
    "g == (x^19 + 2*x^17 + x^12 + 2*x^7 + x^6 + x^3 + x + 1) * (x^7 + x^5 + x^4 + x^3 + x^2 + 2*x + 1)\n"
   ]
  },
  {
   "cell_type": "code",
   "execution_count": 40,
   "metadata": {},
   "outputs": [
    {
     "data": {
      "text/plain": [
       "1"
      ]
     },
     "execution_count": 40,
     "metadata": {},
     "output_type": "execute_result"
    }
   ],
   "source": [
    "gcd(\n",
    "    x^19 + 2*x^17 + x^12 + 2*x^7 + x^6 + x^3 + x + 1, \n",
    "    (x^19 + 2*x^17 + x^12 + 2*x^7 + x^6 + x^3 + x + 1).diff()\n",
    ")"
   ]
  },
  {
   "cell_type": "markdown",
   "metadata": {},
   "source": [
    "Podemos obtener el mismo resultado con la función `romper()`:"
   ]
  },
  {
   "cell_type": "code",
   "execution_count": 41,
   "metadata": {
    "scrolled": true
   },
   "outputs": [
    {
     "name": "stdout",
     "output_type": "stream",
     "text": [
      "x^26 + x^23 + x^20 + x^19 + x^18 + x^16 + x^15 + x^10 + x^8 + x^4 + 1 es reducible\n",
      "Se espera que se necesiten polinomios de grados 7 * 19\n",
      "Entramos en fase de gcd(g, g - c)\n",
      "-> gcds de x^25 + x^23 + x^22 + 2*x^20 + x^19 + x^18 + 2*x^16 + x^15 + 2*x^14 + 2*x^13 + x^12 + x^11 + x^10 + 2*x^8 + 2*x^6 + x^5 + 2*x^2:\n",
      "\tx^19 + 2*x^17 + x^12 + 2*x^7 + x^6 + x^3 + x + 1\n",
      "x^19 + 2*x^17 + x^12 + 2*x^7 + x^6 + x^3 + x + 1 es irreducible\n",
      "\tx^7 + x^5 + x^4 + x^3 + x^2 + 2*x + 1\n",
      "x^7 + x^5 + x^4 + x^3 + x^2 + 2*x + 1 es irreducible\n",
      "\t1\n"
     ]
    },
    {
     "data": {
      "text/plain": [
       "[x^7 + x^5 + x^4 + x^3 + x^2 + 2*x + 1,\n",
       " x^19 + 2*x^17 + x^12 + 2*x^7 + x^6 + x^3 + x + 1]"
      ]
     },
     "execution_count": 41,
     "metadata": {},
     "output_type": "execute_result"
    }
   ],
   "source": [
    "romper(g, 3, Z3)"
   ]
  },
  {
   "cell_type": "markdown",
   "metadata": {},
   "source": [
    "## Apartado 5"
   ]
  },
  {
   "cell_type": "markdown",
   "metadata": {},
   "source": [
    "En el apartado 2, hemos visto que el polinomio se descompone en un producto de tres polinomios, de grados $7, 8$ y $11$. Sin embargo, en el apartado 3, descompone como dos polinomios de grados $7$ y $19$. Esto nos dice que las factorizaciones son incompatbiles, por lo que el polinomio es irreducible en $\\mathbb{Z}[x]$"
   ]
  }
 ],
 "metadata": {
  "kernelspec": {
   "display_name": "SageMath 9.5",
   "language": "sage",
   "name": "sagemath"
  },
  "language_info": {
   "codemirror_mode": {
    "name": "ipython",
    "version": 3
   },
   "file_extension": ".py",
   "mimetype": "text/x-python",
   "name": "python",
   "nbconvert_exporter": "python",
   "pygments_lexer": "ipython3",
   "version": "3.9.9"
  }
 },
 "nbformat": 4,
 "nbformat_minor": 2
}
