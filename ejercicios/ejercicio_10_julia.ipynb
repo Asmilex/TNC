{
 "cells": [
  {
   "cell_type": "code",
   "execution_count": 5,
   "metadata": {},
   "outputs": [],
   "source": [
    "using Primes, Combinatorics"
   ]
  },
  {
   "cell_type": "code",
   "execution_count": 2,
   "metadata": {},
   "outputs": [
    {
     "data": {
      "text/plain": [
       "77432081"
      ]
     },
     "metadata": {},
     "output_type": "display_data"
    }
   ],
   "source": [
    "p = 77432081"
   ]
  },
  {
   "cell_type": "code",
   "execution_count": 8,
   "metadata": {},
   "outputs": [
    {
     "data": {
      "text/plain": [
       "descomponer (generic function with 1 method)"
      ]
     },
     "metadata": {},
     "output_type": "display_data"
    }
   ],
   "source": [
    "function test_solovay_strassen(a, n, salida = false)\n",
    "\tif salida\n",
    "\t\tprintln(\"Test de Solovay Strassen para a = \", a, \", n = \", n)\n",
    "\tend\n",
    "\n",
    "\tpowmod = powermod(a, div(n-1, 2), n)\n",
    "\t\n",
    "\tif powmod ∉ [1, n-1]\n",
    "\t\tif salida\n",
    "\t\t\tprintln(\"\\ta^{(n-1)/2} mod n = \", powmod, \", que no es congruente con 1 o -1. Falla.\")\n",
    "\t\tend\n",
    "\t\treturn false\n",
    "\tend\n",
    "\n",
    "\tif salida\n",
    "\t\tprintln(\"\\ta^{(n-1)/2} mod n = \", powmod, \". Jacobi = \", jacobisymbol(a, n), \"\\n\")\n",
    "\tend\n",
    "\n",
    "\treturn mod(jacobisymbol(a, n), n) == powmod\n",
    "end\n",
    "\n",
    "function lucas_lehmer(n)\n",
    "\tfactores = collect(keys(factor(n-1)))\n",
    "\n",
    "\tfor a in 1:(n-1)\n",
    "\n",
    "\t\tif powermod(a, n-1, n) == 1\n",
    "\t\t\tresultado = map(q -> powermod(a, div(n-1, q), n), factores)\n",
    "\t\t\tif 1 ∉ resultado\n",
    "\t\t\t\treturn true\n",
    "\t\t\telse\n",
    "\t\t\t\tposicion = first(findall(x -> x == 1, resultado))\n",
    "\t\t\tend\n",
    "\t\tend\n",
    "\tend\n",
    "\n",
    "\treturn false\n",
    "end\n",
    "\n",
    "function ρ_Polard(n, f, t = 1000, x0 = 2)\n",
    "\t# En caso en el que sea divisible por dos, es posible que falle, así que lo comprobamos a mano.\n",
    "\tif mod(n, 2) == 0\n",
    "\t\treturn [[2, div(n, 2)], 0]\n",
    "\tend\n",
    "\n",
    "\tx = x0\n",
    "\ty = x\n",
    "\ti = 0\n",
    "\n",
    "\twhile i < t\n",
    "\t\ti = i + 1\n",
    "\t\tx = mod(f(x), n)\n",
    "\t\ty = mod(f(f(y)), n)\n",
    "\t\tg = gcd(x - y, n)\n",
    "\n",
    "\t\tif 1 < g && g < n\n",
    "\t\t\treturn [[g, div(n, g)], i]\n",
    "\t\tend\n",
    "\tend\n",
    "\n",
    "\treturn []\n",
    "end\n",
    "\n",
    "function descomponer(n)\n",
    "\tpor_descomponer = [n]\n",
    "\tirreducibles    = []\n",
    "\t\n",
    "\tf     = x -> x^2 + 1\n",
    "\tf_alt = x -> x^2 - 1\n",
    "\t\n",
    "\ti = 0\n",
    "\n",
    "\twhile length(por_descomponer) > 0\n",
    "\t\tprintln(\"\\nPor descomponer: $por_descomponer\")\n",
    "\t\tnum = pop!(por_descomponer)\n",
    "\n",
    "\t\t# Aplica el test de Miller Rabin primero. Si sale posible primo, saca \n",
    "\t\t# un certificado de primalidad con Lucas Lehmer.\n",
    "\t\tif isprime(num) && lucas_lehmer(num)\n",
    "\t\t\tprintln(\"\\t-> $num es primo\")\n",
    "\t\t\tpush!(irreducibles, num)\n",
    "\t\telse\n",
    "\t\t\tprintln(\"\\t-> Descomponiendo $num\")\n",
    "\t\t\tresultado = ρ_Polard(num, f, 3000)\n",
    "\n",
    "\t\t\t# Dado que ρ_Polard puede fallar, probamos con otra función alternativa. \n",
    "\t\t\t# Por ejemplo, para 25, x -> x^2 + 1, no se devuelve nada. \n",
    "\t\t\t\n",
    "\t\t\tif length(resultado) == 0\n",
    "\t\t\t\tresultado = ρ_Polard(num, x -> x^2 - 1, 4000)\n",
    "\t\t\tend\n",
    "\t\t\t\n",
    "\t\t\ti = i + resultado[2]\n",
    "\t\t\tpor_descomponer = vcat(por_descomponer, resultado[1])\n",
    "\t\tend\n",
    "\tend\n",
    "\n",
    "\treturn [sort(irreducibles), i]\n",
    "end"
   ]
  },
  {
   "cell_type": "code",
   "execution_count": 9,
   "metadata": {},
   "outputs": [
    {
     "data": {
      "text/plain": [
       "8-element Vector{Bool}:\n",
       " 1\n",
       " 1\n",
       " 1\n",
       " 1\n",
       " 1\n",
       " 1\n",
       " 1\n",
       " 1"
      ]
     },
     "metadata": {},
     "output_type": "display_data"
    }
   ],
   "source": [
    "primos = [2, 3, 5, 7, 9, 11, 13, 17]\n",
    "map(a -> test_solovay_strassen(a, p), primos)"
   ]
  },
  {
   "cell_type": "code",
   "execution_count": 6,
   "metadata": {},
   "outputs": [
    {
     "data": {
      "text/plain": [
       "true"
      ]
     },
     "metadata": {},
     "output_type": "display_data"
    }
   ],
   "source": [
    "lucas_lehmer(p)"
   ]
  },
  {
   "cell_type": "code",
   "execution_count": 10,
   "metadata": {},
   "outputs": [
    {
     "name": "stdout",
     "output_type": "stream",
     "text": [
      "\n",
      "Por descomponer: [77432080]\n",
      "\t-> Descomponiendo 77432080\n",
      "\n",
      "Por descomponer: [2, 38716040]\n",
      "\t-> Descomponiendo 38716040\n",
      "\n",
      "Por descomponer: [2, 2, 19358020]\n",
      "\t-> Descomponiendo 19358020\n",
      "\n",
      "Por descomponer: [2, 2, 2, 9679010]\n",
      "\t-> Descomponiendo 9679010\n",
      "\n",
      "Por descomponer: [2, 2, 2, 2, 4839505]\n",
      "\t-> Descomponiendo 4839505\n",
      "\n",
      "Por descomponer: [2, 2, 2, 2, 11, 439955]\n",
      "\t-> Descomponiendo 439955\n",
      "\n",
      "Por descomponer: [2, 2, 2, 2, 11, 5, 87991]\n",
      "\t-> 87991 es primo\n",
      "\n",
      "Por descomponer: [2, 2, 2, 2, 11, 5]\n",
      "\t-> 5 es primo\n",
      "\n",
      "Por descomponer: [2, 2, 2, 2, 11]\n",
      "\t-> 11 es primo\n",
      "\n",
      "Por descomponer: [2, 2, 2, 2]\n",
      "\t-> 2 es primo\n",
      "\n",
      "Por descomponer: [2, 2, 2]\n",
      "\t-> 2 es primo\n",
      "\n",
      "Por descomponer: [2, 2]\n",
      "\t-> 2 es primo\n",
      "\n",
      "Por descomponer: [2]\n",
      "\t-> 2 es primo\n"
     ]
    },
    {
     "data": {
      "text/plain": [
       "2-element Vector{Any}:\n",
       "  Any[2, 2, 2, 2, 5, 11, 87991]\n",
       " 5"
      ]
     },
     "metadata": {},
     "output_type": "display_data"
    }
   ],
   "source": [
    "descomponer(p-1)"
   ]
  },
  {
   "cell_type": "code",
   "execution_count": null,
   "metadata": {},
   "outputs": [],
   "source": []
  }
 ],
 "metadata": {
  "kernelspec": {
   "display_name": "Julia 1.7.2",
   "language": "julia",
   "name": "julia-1.7"
  },
  "language_info": {
   "file_extension": ".jl",
   "mimetype": "application/julia",
   "name": "julia",
   "version": "1.7.2"
  },
  "orig_nbformat": 4
 },
 "nbformat": 4,
 "nbformat_minor": 2
}
