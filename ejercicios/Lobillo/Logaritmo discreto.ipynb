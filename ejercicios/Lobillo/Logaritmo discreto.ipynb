{
 "cells": [
  {
   "cell_type": "markdown",
   "id": "26fdbdaa",
   "metadata": {},
   "source": [
    "# Ejercicio\n",
    "\n",
    "Los parámetros de un criptosistema de ElGamal son $p = 211$ y $g = 3$; es decir, el criptosistema está diseñado en el cuerpo $\\mathbb{F}_{211} = \\mathbb{Z}_{211}$ y tomamos como generador de $\\mathbb{F}^*_{211}, g = 3$. La clave pública empleada es $3^\\alpha = 109 \\bmod 211$. \n",
    "\n",
    "Descifra el criptograma $(154, \\text{dni} \\bmod 211)$, donde $\\text{dni}$ es el número de tu DNI. \n",
    "\n",
    "Para calcular los logaritmos discretos necesarios, emplea dos de los métodos descritos en la teoría."
   ]
  },
  {
   "cell_type": "markdown",
   "id": "54f247b4",
   "metadata": {},
   "source": [
    "## Preámbulos"
   ]
  },
  {
   "cell_type": "code",
   "execution_count": 5,
   "id": "81ad1c37",
   "metadata": {},
   "outputs": [],
   "source": [
    "p = 211 \n",
    "g = 3"
   ]
  },
  {
   "cell_type": "markdown",
   "id": "17cb874b",
   "metadata": {},
   "source": [
    "En este caso, como mi DNI es "
   ]
  },
  {
   "cell_type": "code",
   "execution_count": 6,
   "id": "f5632d89",
   "metadata": {},
   "outputs": [],
   "source": [
    "dni = 77432071"
   ]
  },
  {
   "cell_type": "markdown",
   "id": "11fbb606",
   "metadata": {},
   "source": [
    "Aplicando módulo, se tiene"
   ]
  },
  {
   "cell_type": "code",
   "execution_count": 7,
   "id": "f58d817d",
   "metadata": {},
   "outputs": [
    {
     "data": {
      "text/plain": [
       "135"
      ]
     },
     "execution_count": 7,
     "metadata": {},
     "output_type": "execute_result"
    }
   ],
   "source": [
    "dni = dni.mod(211)\n",
    "dni"
   ]
  },
  {
   "cell_type": "markdown",
   "id": "fa6454f7",
   "metadata": {},
   "source": [
    "Así que tenemos que descifrar el criptograma $(154, 135)$"
   ]
  },
  {
   "cell_type": "markdown",
   "id": "8f6bdbf3",
   "metadata": {},
   "source": [
    "## Algoritmo 1: Paso de bebé - Paso de gigante\n",
    "\n",
    "Necesitamos descifrar el mensaje mediante $D_\\alpha(x, y) = y \\cdot x^{-\\alpha}$. Para ello, vamos a calcular $\\alpha$ mediante el logaritmo discreto. \n",
    "\n",
    "Por hipótesis, la clave pública es $3^\\alpha = 109 \\bmod 211$, por lo que \n",
    "\n",
    "$$\n",
    "\\alpha = \\log_3{109} \\bmod 211\n",
    "$$\n",
    "\n",
    "Se tiene que $G = \\mathbb{F}^*_{211}, g = 3, p = 211, h = 109$ y que \n",
    "\n",
    "$$\n",
    "f = \\left \\lceil \\sqrt{p - 1} \\right \\rceil = \\left \\lceil \\sqrt{210} \\right \\rceil = 15\n",
    "$$"
   ]
  },
  {
   "cell_type": "code",
   "execution_count": 8,
   "id": "f6f4ba98",
   "metadata": {},
   "outputs": [
    {
     "data": {
      "text/plain": [
       "15"
      ]
     },
     "execution_count": 8,
     "metadata": {},
     "output_type": "execute_result"
    }
   ],
   "source": [
    "f = ceil(sqrt(p - 1))\n",
    "f"
   ]
  },
  {
   "cell_type": "markdown",
   "id": "b4b0aa76",
   "metadata": {},
   "source": [
    "Preparamos la tabla, donde cada entrada i-ésima es $g^i \\bmod p$:"
   ]
  },
  {
   "cell_type": "code",
   "execution_count": 9,
   "id": "d138a7a3",
   "metadata": {},
   "outputs": [
    {
     "data": {
      "text/plain": [
       "[[0, 1],\n",
       " [1, 3],\n",
       " [2, 9],\n",
       " [3, 27],\n",
       " [4, 81],\n",
       " [5, 32],\n",
       " [6, 96],\n",
       " [7, 77],\n",
       " [8, 20],\n",
       " [9, 60],\n",
       " [10, 180],\n",
       " [11, 118],\n",
       " [12, 143],\n",
       " [13, 7],\n",
       " [14, 21]]"
      ]
     },
     "execution_count": 9,
     "metadata": {},
     "output_type": "execute_result"
    }
   ],
   "source": [
    "tabla = [[i, power_mod(g, i, p)] for i in range(0, f)]\n",
    "tabla"
   ]
  },
  {
   "cell_type": "markdown",
   "id": "f6b07ea0",
   "metadata": {},
   "source": [
    "El algoritmo opera de la siguiente manera:\n",
    "\n",
    "$$\n",
    "g^{-f} = 3^{-15} = 3^{211 - 1 - 15} = 3^{195} = 67 \\bmod 211\n",
    "$$\n",
    "\n",
    "Tenemos que $h_0$ = 109 no está en la tabla:"
   ]
  },
  {
   "cell_type": "code",
   "execution_count": 10,
   "id": "740455f1",
   "metadata": {},
   "outputs": [],
   "source": [
    "def esta_en_tabla(h, tabla):\n",
    "    matches = [x for x in tabla if x[1] == h]\n",
    "    \n",
    "    return len(matches) > 0"
   ]
  },
  {
   "cell_type": "code",
   "execution_count": 11,
   "id": "7d698f60",
   "metadata": {},
   "outputs": [
    {
     "data": {
      "text/plain": [
       "False"
      ]
     },
     "execution_count": 11,
     "metadata": {},
     "output_type": "execute_result"
    }
   ],
   "source": [
    "esta_en_tabla(109, tabla)"
   ]
  },
  {
   "cell_type": "markdown",
   "id": "e85473a3",
   "metadata": {},
   "source": [
    "Así que ahora debemos ir construyendo $h_i = h_{i-1} g^{-f}$:"
   ]
  },
  {
   "cell_type": "code",
   "execution_count": 12,
   "id": "c815e7c6",
   "metadata": {},
   "outputs": [
    {
     "name": "stdout",
     "output_type": "stream",
     "text": [
      "h_0 = 109\n",
      "h_1 = 129\n",
      "h_2 = 203\n",
      "h_3 = 97\n",
      "h_4 = 169\n",
      "h_5 = 140\n",
      "h_6 = 96\n",
      "Sí que está en la tabla\n"
     ]
    }
   ],
   "source": [
    "h = 109\n",
    "g_inv_f = power_mod(g,p-1-f, p)\n",
    "\n",
    "print(\"h_0 = \" + str(h))\n",
    "\n",
    "indice = 0\n",
    "\n",
    "for i in range(1, len(tabla)):\n",
    "    h = (h * g_inv_f).mod(p)\n",
    "\n",
    "    print(\"h_\"+ str(i) + \" = \" + str(h))\n",
    "    \n",
    "    if esta_en_tabla(h, tabla):\n",
    "        print(\"Sí que está en la tabla\")\n",
    "        indice = i\n",
    "        break"
   ]
  },
  {
   "cell_type": "markdown",
   "id": "1e757a04",
   "metadata": {},
   "source": [
    "Por tanto, $\\alpha$ vale "
   ]
  },
  {
   "cell_type": "code",
   "execution_count": 13,
   "id": "53592d30",
   "metadata": {},
   "outputs": [
    {
     "data": {
      "text/plain": [
       "96"
      ]
     },
     "execution_count": 13,
     "metadata": {},
     "output_type": "execute_result"
    }
   ],
   "source": [
    "alpha = indice + indice * f\n",
    "alpha"
   ]
  },
  {
   "cell_type": "markdown",
   "id": "81c1490c",
   "metadata": {},
   "source": [
    "$$\n",
    "\\begin{aligned}\n",
    "\\alpha & = \\log_3{109} = 6 + 6 \\cdot 15 = \\\\ \n",
    "       & = 96\n",
    "\\end{aligned}\n",
    "$$"
   ]
  },
  {
   "cell_type": "markdown",
   "id": "56cd7f99",
   "metadata": {},
   "source": [
    "Así que el mensaje es\n",
    "\n",
    "$$\n",
    "D_{96}(154, dni) = D_{96}(154, 135) = \n",
    "$$"
   ]
  },
  {
   "cell_type": "code",
   "execution_count": 14,
   "id": "8f8e45d4",
   "metadata": {},
   "outputs": [
    {
     "data": {
      "text/plain": [
       "198"
      ]
     },
     "execution_count": 14,
     "metadata": {},
     "output_type": "execute_result"
    }
   ],
   "source": [
    "(dni * power_mod(154, p - 1 - alpha, p)).mod(p)"
   ]
  },
  {
   "cell_type": "markdown",
   "id": "a3a2c7b5",
   "metadata": {},
   "source": [
    "## Algoritmo 2: Silver - Pohlig - Hellman\n",
    "\n",
    "Como con el algoritmo anterior, consideramos $p = 211, h = 109$, y un generador de $\\mathbb{F}^{*}_{211}, g = 3$. \n",
    "\n",
    "Sabemos que $n = \\text{orden}(\\mathbb{F}^{*}_{211}) = p - 1 = 210$"
   ]
  },
  {
   "cell_type": "code",
   "execution_count": 15,
   "id": "3404200d",
   "metadata": {},
   "outputs": [],
   "source": [
    "n = p - 1"
   ]
  },
  {
   "cell_type": "markdown",
   "id": "c9f6f9e6",
   "metadata": {},
   "source": [
    "Los factores de $n$ son"
   ]
  },
  {
   "cell_type": "code",
   "execution_count": 90,
   "id": "6faea0d2",
   "metadata": {},
   "outputs": [
    {
     "data": {
      "text/plain": [
       "2 * 3 * 5 * 7"
      ]
     },
     "execution_count": 90,
     "metadata": {},
     "output_type": "execute_result"
    }
   ],
   "source": [
    "factor(n)"
   ]
  },
  {
   "cell_type": "code",
   "execution_count": 91,
   "id": "f834918d",
   "metadata": {},
   "outputs": [],
   "source": [
    "h = 109"
   ]
  },
  {
   "cell_type": "code",
   "execution_count": 92,
   "id": "c0dcd9fa",
   "metadata": {},
   "outputs": [],
   "source": [
    "def silver_pohlig_hellman(b, h, p):\n",
    "    n = p - 1\n",
    "    factores_n = list(factor(n))\n",
    "    \n",
    "    print(\"Lista de factores de n = \" + str(n) + \": \" + str(factores_n))\n",
    "    \n",
    "    for _factor in factores_n:\n",
    "        p_i = _factor[0]\n",
    "        e_i = _factor[1]\n",
    "        \n",
    "        print(\"Para p_i = \" + str(p_i) + \", obtenemos\")\n",
    "        r = [power_mod(b, (j * n)//p_i, p) for j in range(0, p_i)]\n",
    "        \n",
    "        print(\"  r = \" + str(r))\n",
    "        \n",
    "        # Inicializar correctamente x e y \n",
    "        y = [h]\n",
    "        x = []\n",
    "        \n",
    "        for j in range(len(r)):\n",
    "            if power_mod(y[0], n // p_i, p) == r[j]: \n",
    "                x.append(j)\n",
    "\n",
    "        print(\"  y_0^(n / p_i) = \" + str(y[0]) + \"^\" + str(n) + \"/\" + str(p_i) + \"= \" + str(power_mod(y[0], n // p_i, p)))\n",
    "        print(\"  x = \" + str(x) + \", y = \" + str(y))\n",
    "        \n",
    "        for k in range(0, e_i):\n",
    "            break\n",
    "            # En este caso, todos los índices son 1, así que voy a hacer la \n",
    "            # guarrería de dejar este bucle vacío. \n",
    "            # Si esto fuera un algoritmo hecho y derecho, haría falta completar \n",
    "            # este bucle \n",
    "            \n",
    "        print()"
   ]
  },
  {
   "cell_type": "code",
   "execution_count": 93,
   "id": "1ccdea9d",
   "metadata": {},
   "outputs": [
    {
     "name": "stdout",
     "output_type": "stream",
     "text": [
      "Lista de factores de n = 210: [(2, 1), (3, 1), (5, 1), (7, 1)]\n",
      "Para p_i = 2, obtenemos\n",
      "  r = [1, 210]\n",
      "  y_0^(n / p_i) = 109^210/2= 1\n",
      "  x = [0], y = [109]\n",
      "\n",
      "Para p_i = 3, obtenemos\n",
      "  r = [1, 196, 14]\n",
      "  y_0^(n / p_i) = 109^210/3= 1\n",
      "  x = [0], y = [109]\n",
      "\n",
      "Para p_i = 5, obtenemos\n",
      "  r = [1, 188, 107, 71, 55]\n",
      "  y_0^(n / p_i) = 109^210/5= 188\n",
      "  x = [1], y = [109]\n",
      "\n",
      "Para p_i = 7, obtenemos\n",
      "  r = [1, 171, 123, 144, 148, 199, 58]\n",
      "  y_0^(n / p_i) = 109^210/7= 199\n",
      "  x = [5], y = [109]\n",
      "\n"
     ]
    }
   ],
   "source": [
    "silver_pohlig_hellman(g, h, p)"
   ]
  },
  {
   "cell_type": "code",
   "execution_count": null,
   "id": "916a8e3a",
   "metadata": {},
   "outputs": [],
   "source": []
  }
 ],
 "metadata": {
  "kernelspec": {
   "display_name": "SageMath 9.5",
   "language": "sage",
   "name": "sagemath"
  },
  "language_info": {
   "codemirror_mode": {
    "name": "ipython",
    "version": 3
   },
   "file_extension": ".py",
   "mimetype": "text/x-python",
   "name": "python",
   "nbconvert_exporter": "python",
   "pygments_lexer": "ipython3",
   "version": "3.9.9"
  }
 },
 "nbformat": 4,
 "nbformat_minor": 5
}
