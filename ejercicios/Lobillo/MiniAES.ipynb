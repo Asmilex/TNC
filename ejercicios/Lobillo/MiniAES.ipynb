{
 "cells": [
  {
   "cell_type": "code",
   "execution_count": 2,
   "id": "e64e5c03",
   "metadata": {},
   "outputs": [],
   "source": [
    "from sage.crypto.block_cipher.miniaes import MiniAES\n",
    "\n",
    "# Voy a trabajar con bin(). Por tanto, todas las funciones van a esperar eso\n",
    "\n",
    "K = FiniteField(16, 'xi')\n",
    "MS = MatrixSpace(K, 2, 2)\n",
    "miniaes = MiniAES()\n",
    "bin = BinaryStrings()\n",
    "\n",
    "dni = 77432071"
   ]
  },
  {
   "cell_type": "markdown",
   "id": "3771de51",
   "metadata": {},
   "source": [
    "# Apartado 1"
   ]
  },
  {
   "cell_type": "code",
   "execution_count": 161,
   "id": "964ab1e2",
   "metadata": {},
   "outputs": [],
   "source": [
    "def xor(a, b):\n",
    "    f = miniaes.binary_to_GF(a)[0]\n",
    "    g = miniaes.binary_to_GF(b)[0]\n",
    "    \n",
    "    return miniaes.GF_to_binary(f + g)\n",
    "\n",
    "def gamma(a):\n",
    "    if   a == bin(\"0000\"):\n",
    "        return bin(\"0011\")\n",
    "    elif a == bin(\"0001\"):\n",
    "        return bin(\"1000\")\n",
    "    elif a == bin(\"0010\"):\n",
    "        return bin(\"1111\")\n",
    "    elif a == bin(\"0011\"):\n",
    "        return bin(\"0111\")\n",
    "    \n",
    "    elif a == bin(\"0100\"):\n",
    "        return bin(\"0001\")\n",
    "    elif a == bin(\"0101\"):\n",
    "        return bin(\"0010\")\n",
    "    elif a == bin(\"0110\"):\n",
    "        return bin(\"1011\")\n",
    "    elif a == bin(\"0111\"):\n",
    "        return bin(\"0000\")\n",
    "    \n",
    "    elif a == bin(\"1000\"):\n",
    "        return bin(\"1100\")\n",
    "    elif a == bin(\"1001\"):\n",
    "        return bin(\"1110\")\n",
    "    elif a == bin(\"1010\"):\n",
    "        return bin(\"1010\")\n",
    "    elif a == bin(\"1011\"):\n",
    "        return bin(\"0110\")\n",
    "    \n",
    "    elif a == bin(\"1100\"):\n",
    "        return bin(\"1001\")\n",
    "    elif a == bin(\"1101\"):\n",
    "        return bin(\"1101\")\n",
    "    elif a == bin(\"1110\"):\n",
    "        return bin(\"0101\")\n",
    "    elif a == bin(\"1111\"):\n",
    "        return bin(\"0100\")\n",
    "    \n",
    "def sub_gamma(A):\n",
    "    return matriz(\n",
    "        gamma(A[0][0]), gamma(A[1][0]), gamma(A[0][1]), gamma(A[1][1])\n",
    "    )\n",
    "\n",
    "def shift_row(A):\n",
    "    return matriz(\n",
    "        A[0][0], A[1][1], A[0][1], A[1][0]\n",
    "    )\n",
    "\n",
    "def theta(A_GF):\n",
    "    \"\"\"\n",
    "    Recibe una matriz en GF, y devuelve \n",
    "    la multiplicación correspondiente en GF\n",
    "    \"\"\"\n",
    "    B = matriz_binary_to_GF(\n",
    "        bin(\"0011\"), bin(\"0010\"), bin(\"0010\"), bin(\"0011\")\n",
    "    )\n",
    "    \n",
    "    a0 = B[0][0] * A_GF[0][0] + B[0][1] * A_GF[1][0]\n",
    "    a1 = B[1][0] * A_GF[0][0] + B[1][1] * A_GF[1][0]\n",
    "    a2 = B[0][0] * A_GF[0][1] + B[0][1] * A_GF[1][1]\n",
    "    a3 = B[1][0] * A_GF[0][1] + B[1][1] * A_GF[1][1]\n",
    "    \n",
    "    return matriz(a0, a1, a2, a3)\n",
    "\n",
    "def sigma(A, K):\n",
    "    \"\"\"\n",
    "    A está en binario, K es la clave (array de 4 posiciones)\n",
    "    \"\"\"\n",
    "    a0 = xor(A[0][0], K[0])\n",
    "    a1 = xor(A[1][0], K[1])\n",
    "    a2 = xor(A[0][1], K[2])\n",
    "    a3 = xor(A[1][1], K[3])\n",
    "    \n",
    "    return matriz(\n",
    "        a0, a1, a2, a3\n",
    "    )"
   ]
  },
  {
   "cell_type": "code",
   "execution_count": 182,
   "id": "e85f86fb",
   "metadata": {},
   "outputs": [],
   "source": [
    "def matriz(a0, a1, a2, a3):\n",
    "    return [\n",
    "        [a0, a2],\n",
    "        [a1, a3]\n",
    "    ]\n",
    "\n",
    "def matriz_binary_to_GF(a0, a1, a2, a3):\n",
    "    \"\"\"\n",
    "    Recibe números en binario, y construye una matriz en GF\n",
    "    \"\"\"\n",
    "    return matriz(\n",
    "        miniaes.binary_to_GF(a0)[0], \n",
    "        miniaes.binary_to_GF(a1)[0], \n",
    "        miniaes.binary_to_GF(a2)[0], \n",
    "        miniaes.binary_to_GF(a3)[0]\n",
    "    )\n",
    "\n",
    "def matriz_to_GF(A):\n",
    "    return matriz(\n",
    "        miniaes.binary_to_GF(A[0][0])[0], \n",
    "        miniaes.binary_to_GF(A[1][0])[0], \n",
    "        miniaes.binary_to_GF(A[0][1])[0], \n",
    "        miniaes.binary_to_GF(A[1][1])[0]\n",
    "    )\n",
    "\n",
    "def matriz_GF_to_binary(A):\n",
    "    return matriz(\n",
    "        bin(miniaes.GF_to_binary(A[0][0])), \n",
    "        bin(miniaes.GF_to_binary(A[1][0])), \n",
    "        bin(miniaes.GF_to_binary(A[0][1])), \n",
    "        bin(miniaes.GF_to_binary(A[1][1]))\n",
    "    )"
   ]
  },
  {
   "cell_type": "code",
   "execution_count": 159,
   "id": "79352356",
   "metadata": {},
   "outputs": [],
   "source": [
    "def calcular_claves(clave, modulo = 65536):\n",
    "    clave_en_binario = clave.mod(65536).binary()\n",
    "\n",
    "    w0 = bin(clave_en_binario[0:4])\n",
    "    w1 = bin(clave_en_binario[4:8])\n",
    "    w2 = bin(clave_en_binario[8:12])\n",
    "    w3 = bin(clave_en_binario[12:16])\n",
    "\n",
    "    w4 = xor(xor(w0, gamma(w3)), bin(\"0001\"))\n",
    "    w5 = xor(w1, w4)\n",
    "    w6 = xor(w2, w5)\n",
    "    w7 = xor(w3, w6)\n",
    "\n",
    "    w8  = xor(xor(w4, gamma(w7)), bin(\"0010\"))\n",
    "    w9  = xor(w5, w8)\n",
    "    w10 = xor(w6, w9)\n",
    "    w11 = xor(w7, w10)\n",
    "\n",
    "\n",
    "    K0 = [w0, w1, w2, w3]\n",
    "    K1 = [w4, w5, w6, w7]\n",
    "    K2 = [w8, w9, w10, w11]\n",
    "\n",
    "    return K0, K1, K2"
   ]
  },
  {
   "cell_type": "code",
   "execution_count": 174,
   "id": "397e28ae",
   "metadata": {},
   "outputs": [],
   "source": [
    "def pasada_E_k(A, K0, K1, K2):\n",
    "    q1 = sigma(A, K0)\n",
    "    print(\"sigma_K0()  = \" + str(q1))\n",
    "    \n",
    "    q2 = sub_gamma(q1)\n",
    "    print(\"gamma()     = \" + str(q2))\n",
    "    \n",
    "    q3 = shift_row(q2)\n",
    "    print(\"pi()        = \" + str(q3))\n",
    "    \n",
    "    q4 = matriz_to_GF(q3)\n",
    "    print(\"pi() en GF  = \" + str(q4))\n",
    "    \n",
    "    q5 = theta(q4)\n",
    "    print(\"theta()     = \" + str(q5))\n",
    "    \n",
    "    q6 = matriz_GF_to_binary(q5)\n",
    "    print(\"theta() en binario = \" + str(q6))\n",
    "    \n",
    "    q7 = sigma(q6, K1)\n",
    "    print(\"sigma_K1()  = \" + str(q7))\n",
    "    \n",
    "    q8 = sub_gamma(q7)\n",
    "    print(\"gamma()     = \" + str(q8))\n",
    "    \n",
    "    q9 = shift_row(q8)\n",
    "    print(\"pi()        = \" + str(q9))\n",
    "    \n",
    "    q10 = sigma(q9, K2)\n",
    "    print(\"gamma_K2()  = \" + str(q10))\n",
    "    \n",
    "    return q10"
   ]
  },
  {
   "cell_type": "code",
   "execution_count": 175,
   "id": "eb923b95",
   "metadata": {},
   "outputs": [
    {
     "data": {
      "text/plain": [
       "([1000, 0101, 0000, 0111], [1001, 1100, 1100, 1011], [1101, 0001, 1101, 0110])"
      ]
     },
     "execution_count": 175,
     "metadata": {},
     "output_type": "execute_result"
    }
   ],
   "source": [
    "K0, K1, K2 = calcular_claves(dni)\n",
    "K0, K1, K2"
   ]
  },
  {
   "cell_type": "code",
   "execution_count": 176,
   "id": "85c07881",
   "metadata": {},
   "outputs": [],
   "source": [
    "# m = 0000 0001 0010 0011 0100 0101 0110 0111\n",
    "m = bin(\"00000001001000110100010101100111\")"
   ]
  },
  {
   "cell_type": "code",
   "execution_count": 177,
   "id": "b7caed55",
   "metadata": {},
   "outputs": [
    {
     "name": "stdout",
     "output_type": "stream",
     "text": [
      "sigma_K0()  = [[1000, 0010], [0100, 0101]]\n",
      "gamma()     = [[1100, 1111], [0001, 0010]]\n",
      "pi()        = [[1100, 1111], [0010, 0001]]\n",
      "pi() en GF  = [[x^3 + x^2, x^3 + x^2 + x + 1], [x, 1]]\n",
      "theta()     = [[x + 1, 0], [x^3 + x^2 + 1, x^3 + x^2 + x]]\n",
      "theta() en binario = [[0011, 0000], [1101, 1110]]\n",
      "sigma_K1()  = [[1010, 1100], [0001, 0101]]\n",
      "gamma()     = [[1010, 1001], [1000, 0010]]\n",
      "pi()        = [[1010, 1001], [0010, 1000]]\n",
      "gamma_K2()  = [[0111, 0100], [0011, 1110]]\n"
     ]
    },
    {
     "data": {
      "text/plain": [
       "[[0111, 0100], [0011, 1110]]"
      ]
     },
     "execution_count": 177,
     "metadata": {},
     "output_type": "execute_result"
    }
   ],
   "source": [
    "# p0 = m1 xor c0\n",
    "p0 = matriz(\n",
    "    bin(\"0000\"), bin(\"0001\"), bin(\"0010\"), bin(\"0010\")\n",
    ")\n",
    "\n",
    "pasada_E_k(p0, K0, K1, K2)"
   ]
  },
  {
   "cell_type": "markdown",
   "id": "15e3242e",
   "metadata": {},
   "source": [
    "Segunda ronda"
   ]
  },
  {
   "cell_type": "code",
   "execution_count": 178,
   "id": "ec3d52b6",
   "metadata": {},
   "outputs": [
    {
     "data": {
      "text/plain": [
       "[[0011, 0010], [0110, 1001]]"
      ]
     },
     "execution_count": 178,
     "metadata": {},
     "output_type": "execute_result"
    }
   ],
   "source": [
    "# q0 = m2 xor c1\n",
    "q0 = matriz(\n",
    "    bin(\"0011\"), bin(\"0110\"), bin(\"0010\"), bin(\"1001\") \n",
    ")\n",
    "q0"
   ]
  },
  {
   "cell_type": "code",
   "execution_count": 179,
   "id": "57c3d594",
   "metadata": {},
   "outputs": [
    {
     "name": "stdout",
     "output_type": "stream",
     "text": [
      "sigma_K0()  = [[1011, 0010], [0011, 1110]]\n",
      "gamma()     = [[0110, 1111], [0111, 0101]]\n",
      "pi()        = [[0110, 1111], [0101, 0111]]\n",
      "pi() en GF  = [[x^2 + x, x^3 + x^2 + x + 1], [x^2 + 1, x^2 + x + 1]]\n",
      "theta()     = [[0, x^3 + x^2], [x + 1, x^2]]\n",
      "theta() en binario = [[0000, 1100], [0011, 0100]]\n",
      "sigma_K1()  = [[1001, 0000], [1111, 1111]]\n",
      "gamma()     = [[1110, 0011], [0100, 0100]]\n",
      "pi()        = [[1110, 0011], [0100, 0100]]\n",
      "gamma_K2()  = [[0011, 1110], [0101, 0010]]\n"
     ]
    },
    {
     "data": {
      "text/plain": [
       "[[0011, 1110], [0101, 0010]]"
      ]
     },
     "execution_count": 179,
     "metadata": {},
     "output_type": "execute_result"
    }
   ],
   "source": [
    "pasada_E_k(q0, K0, K1, K2)"
   ]
  },
  {
   "cell_type": "markdown",
   "id": "d5e4249e",
   "metadata": {},
   "source": [
    "# Apartado 2"
   ]
  },
  {
   "cell_type": "code",
   "execution_count": 180,
   "id": "e6fb9ec2",
   "metadata": {},
   "outputs": [],
   "source": [
    "IV = matriz(\n",
    "    bin(\"0000\"), bin(\"0000\"), bin(\"0000\"), bin(\"0001\")\n",
    ")"
   ]
  },
  {
   "cell_type": "code",
   "execution_count": 181,
   "id": "2bd314b5",
   "metadata": {},
   "outputs": [
    {
     "name": "stdout",
     "output_type": "stream",
     "text": [
      "sigma_K0()  = [[1000, 0000], [0101, 0110]]\n",
      "gamma()     = [[1100, 0011], [0010, 1011]]\n",
      "pi()        = [[1100, 0011], [1011, 0010]]\n",
      "pi() en GF  = [[x^3 + x^2, x + 1], [x^3 + x + 1, x]]\n",
      "theta()     = [[x, 1], [x^2 + 1, 0]]\n",
      "theta() en binario = [[0010, 0001], [0101, 0000]]\n",
      "sigma_K1()  = [[1011, 1101], [1001, 1011]]\n",
      "gamma()     = [[0110, 1101], [1110, 0110]]\n",
      "pi()        = [[0110, 1101], [0110, 1110]]\n",
      "gamma_K2()  = [[1011, 0000], [0111, 1000]]\n"
     ]
    },
    {
     "data": {
      "text/plain": [
       "[[1011, 0000], [0111, 1000]]"
      ]
     },
     "execution_count": 181,
     "metadata": {},
     "output_type": "execute_result"
    }
   ],
   "source": [
    "pasada_E_k(IV, K0, K1, K2)"
   ]
  }
 ],
 "metadata": {
  "kernelspec": {
   "display_name": "SageMath 9.5",
   "language": "sage",
   "name": "sagemath"
  },
  "language_info": {
   "codemirror_mode": {
    "name": "ipython",
    "version": 3
   },
   "file_extension": ".py",
   "mimetype": "text/x-python",
   "name": "python",
   "nbconvert_exporter": "python",
   "pygments_lexer": "ipython3",
   "version": "3.9.9"
  }
 },
 "nbformat": 4,
 "nbformat_minor": 5
}
