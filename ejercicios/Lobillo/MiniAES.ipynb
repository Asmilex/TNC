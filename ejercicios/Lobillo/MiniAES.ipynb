{
 "cells": [
  {
   "cell_type": "code",
   "execution_count": 2,
   "id": "e64e5c03",
   "metadata": {},
   "outputs": [],
   "source": [
    "from sage.crypto.block_cipher.miniaes import MiniAES\n",
    "\n",
    "# Voy a trabajar con bin(). Por tanto, todas las funciones van a esperar eso\n",
    "\n",
    "K = FiniteField(16, 'xi')\n",
    "MS = MatrixSpace(K, 2, 2)\n",
    "miniaes = MiniAES()\n",
    "bin = BinaryStrings()\n",
    "\n",
    "dni = 77432071"
   ]
  },
  {
   "cell_type": "markdown",
   "id": "ba7172a4",
   "metadata": {},
   "source": [
    "# Apartado 1"
   ]
  },
  {
   "cell_type": "code",
   "execution_count": 79,
   "id": "964ab1e2",
   "metadata": {},
   "outputs": [],
   "source": [
    "def xor(a, b):\n",
    "    f = miniaes.binary_to_GF(a)[0]\n",
    "    g = miniaes.binary_to_GF(b)[0]\n",
    "    \n",
    "    return miniaes.GF_to_binary(f + g)\n",
    "\n",
    "def gamma(a):\n",
    "    if   a == bin(\"0000\"):\n",
    "        return bin(\"0011\")\n",
    "    elif a == bin(\"0001\"):\n",
    "        return bin(\"1000\")\n",
    "    elif a == bin(\"0010\"):\n",
    "        return bin(\"1111\")\n",
    "    elif a == bin(\"0011\"):\n",
    "        return bin(\"0111\")\n",
    "    \n",
    "    elif a == bin(\"0100\"):\n",
    "        return bin(\"0001\")\n",
    "    elif a == bin(\"0101\"):\n",
    "        return bin(\"0010\")\n",
    "    elif a == bin(\"0110\"):\n",
    "        return bin(\"1011\")\n",
    "    elif a == bin(\"0111\"):\n",
    "        return bin(\"0000\")\n",
    "    \n",
    "    elif a == bin(\"1000\"):\n",
    "        return bin(\"1100\")\n",
    "    elif a == bin(\"1001\"):\n",
    "        return bin(\"1110\")\n",
    "    elif a == bin(\"1010\"):\n",
    "        return bin(\"1010\")\n",
    "    elif a == bin(\"1011\"):\n",
    "        return bin(\"0110\")\n",
    "    \n",
    "    elif a == bin(\"1100\"):\n",
    "        return bin(\"1001\")\n",
    "    elif a == bin(\"1101\"):\n",
    "        return bin(\"1101\")\n",
    "    elif a == bin(\"1110\"):\n",
    "        return bin(\"0101\")\n",
    "    elif a == bin(\"1111\"):\n",
    "        return bin(\"0100\")\n",
    "    \n",
    "def sub_gamma(A):\n",
    "    return matriz(\n",
    "        gamma(A[0][0]), gamma(A[1][0]), gamma(A[0][1]), gamma(A[1][1])\n",
    "    )\n",
    "\n",
    "def shift_row(A):\n",
    "    return matriz(\n",
    "        A[0][0], A[1][1], A[0][1], A[1][0]\n",
    "    )\n",
    "\n",
    "def theta(A_GF):\n",
    "    \"\"\"\n",
    "    Recibe una matriz en GF, y devuelve la multiplicación correspondiente en GF\n",
    "    \"\"\"\n",
    "    B = matriz_binary_to_GF(\n",
    "        bin(\"0011\"), bin(\"0010\"), bin(\"0010\"), bin(\"0011\")\n",
    "    )\n",
    "    \n",
    "    a0 = B[0][0] * A_GF[0][0] + B[0][1] * A_GF[1][0]\n",
    "    a1 = B[1][0] * A_GF[0][0] + B[1][1] * A_GF[1][0]\n",
    "    a2 = B[0][0] * A_GF[0][1] + B[0][1] * A_GF[1][1]\n",
    "    a3 = B[1][0] * A_GF[0][1] + B[1][1] * A_GF[1][1]\n",
    "    \n",
    "    return matriz(a0, a1, a2, a3)\n",
    "\n",
    "def sigma(A, K):\n",
    "    \"\"\"\n",
    "    A está en binario, K es la clave (array de 4 posiciones)\n",
    "    \"\"\"\n",
    "    a0 = xor(A[0][0], K[0])\n",
    "    a1 = xor(A[1][0], K[1])\n",
    "    a2 = xor(A[0][1], K[2])\n",
    "    a3 = xor(A[1][1], K[3])\n",
    "    \n",
    "    return matriz(\n",
    "        a0, a1, a2, a3\n",
    "    )"
   ]
  },
  {
   "cell_type": "code",
   "execution_count": 63,
   "id": "705aac9f",
   "metadata": {},
   "outputs": [],
   "source": [
    "def matriz(a0, a1, a2, a3):\n",
    "    return [\n",
    "        [a0, a2],\n",
    "        [a1, a3]\n",
    "    ]\n",
    "\n",
    "def matriz_binary_to_GF(a0, a1, a2, a3):\n",
    "    \"\"\"\n",
    "    Recibe números en binario, y construye una matriz en GF\n",
    "    \"\"\"\n",
    "    return matriz(\n",
    "        miniaes.binary_to_GF(a0)[0], \n",
    "        miniaes.binary_to_GF(a1)[0], \n",
    "        miniaes.binary_to_GF(a2)[0], \n",
    "        miniaes.binary_to_GF(a3)[0]\n",
    "    )\n",
    "\n",
    "def matriz_to_GF(A):\n",
    "    return matriz(\n",
    "        miniaes.binary_to_GF(A[0][0])[0], \n",
    "        miniaes.binary_to_GF(A[1][0])[0], \n",
    "        miniaes.binary_to_GF(A[0][1])[0], \n",
    "        miniaes.binary_to_GF(A[1][1])[0]\n",
    "    )\n",
    "\n",
    "def matriz_GF_to_binary(A):\n",
    "    return matriz(\n",
    "        bin(miniaes.GF_to_binary(A[0][0])), \n",
    "        bin(miniaes.GF_to_binary(A[1][0])), \n",
    "        bin(miniaes.GF_to_binary(A[0][1])), \n",
    "        bin(miniaes.GF_to_binary(A[1][1]))\n",
    "    )"
   ]
  },
  {
   "cell_type": "code",
   "execution_count": 58,
   "id": "79352356",
   "metadata": {},
   "outputs": [
    {
     "data": {
      "text/plain": [
       "([1000, 0101, 0000, 0111], [1001, 1100, 1100, 1011], [1101, 0001, 1101, 0110])"
      ]
     },
     "execution_count": 58,
     "metadata": {},
     "output_type": "execute_result"
    }
   ],
   "source": [
    "dni_en_binario = dni.mod(65536).binary()\n",
    "\n",
    "w0 = bin(dni_en_binario[0:4])\n",
    "w1 = bin(dni_en_binario[4:8])\n",
    "w2 = bin(dni_en_binario[8:12])\n",
    "w3 = bin(dni_en_binario[12:16])\n",
    "\n",
    "w4 = xor(xor(w0, gamma(w3)), bin(\"0001\"))\n",
    "w5 = xor(w1, w4)\n",
    "w6 = xor(w2, w5)\n",
    "w7 = xor(w3, w6)\n",
    "\n",
    "w8  = xor(xor(w4, gamma(w7)), bin(\"0010\"))\n",
    "w9  = xor(w5, w8)\n",
    "w10 = xor(w6, w9)\n",
    "w11 = xor(w7, w10)\n",
    "\n",
    "\n",
    "K0 = [w0, w1, w2, w3]\n",
    "K1 = [w4, w5, w6, w7]\n",
    "K2 = [w8, w9, w10, w11]\n",
    "\n",
    "K0, K1, K2"
   ]
  },
  {
   "cell_type": "code",
   "execution_count": 5,
   "id": "9a2e0d79",
   "metadata": {},
   "outputs": [
    {
     "data": {
      "text/plain": [
       "[[1100, 0011], [0010, 0000]]"
      ]
     },
     "execution_count": 5,
     "metadata": {},
     "output_type": "execute_result"
    }
   ],
   "source": [
    "#matriz(w0, w1, w2, w3)[0][1]\n",
    "sub_gamma(matriz(w0, w1, w2, w3))"
   ]
  },
  {
   "cell_type": "code",
   "execution_count": 8,
   "id": "85c07881",
   "metadata": {},
   "outputs": [],
   "source": [
    "# 0000 0001 0010 0011 0100 0101 0110 0111"
   ]
  },
  {
   "cell_type": "code",
   "execution_count": 19,
   "id": "ba14e1d9",
   "metadata": {},
   "outputs": [
    {
     "data": {
      "text/plain": [
       "[[1100, 1111], [0001, 0010]]"
      ]
     },
     "execution_count": 19,
     "metadata": {},
     "output_type": "execute_result"
    }
   ],
   "source": [
    "p1 = sub_gamma(matriz(\n",
    "    bin(\"1000\"), bin(\"0100\"), bin(\"0010\"), bin(\"0101\")\n",
    "))\n",
    "p1"
   ]
  },
  {
   "cell_type": "code",
   "execution_count": 18,
   "id": "d2924ec0",
   "metadata": {},
   "outputs": [
    {
     "data": {
      "text/plain": [
       "[[1100, 1111], [0010, 0001]]"
      ]
     },
     "execution_count": 18,
     "metadata": {},
     "output_type": "execute_result"
    }
   ],
   "source": [
    "p2 = shift_row(p1)\n",
    "p2"
   ]
  },
  {
   "cell_type": "code",
   "execution_count": 60,
   "id": "d064a99a",
   "metadata": {},
   "outputs": [
    {
     "data": {
      "text/plain": [
       "[[x^3 + x^2, x^3 + x^2 + x + 1], [x, 1]]"
      ]
     },
     "execution_count": 60,
     "metadata": {},
     "output_type": "execute_result"
    }
   ],
   "source": [
    "p3 = matriz_to_GF(p2)\n",
    "p3"
   ]
  },
  {
   "cell_type": "code",
   "execution_count": 76,
   "id": "a7513cd3",
   "metadata": {},
   "outputs": [
    {
     "data": {
      "text/plain": [
       "[[x + 1, 0], [x^3 + x^2 + 1, x^3 + x^2 + x]]"
      ]
     },
     "execution_count": 76,
     "metadata": {},
     "output_type": "execute_result"
    }
   ],
   "source": [
    "p4 = theta(p3)\n",
    "p4"
   ]
  },
  {
   "cell_type": "code",
   "execution_count": 78,
   "id": "01556308",
   "metadata": {},
   "outputs": [
    {
     "data": {
      "text/plain": [
       "[[0011, 0000], [1101, 1110]]"
      ]
     },
     "execution_count": 78,
     "metadata": {},
     "output_type": "execute_result"
    }
   ],
   "source": [
    "p5 = matriz_GF_to_binary(p4)\n",
    "p5"
   ]
  },
  {
   "cell_type": "code",
   "execution_count": 80,
   "id": "f6cdba2d",
   "metadata": {},
   "outputs": [
    {
     "data": {
      "text/plain": [
       "[[1010, 1100], [0001, 0101]]"
      ]
     },
     "execution_count": 80,
     "metadata": {},
     "output_type": "execute_result"
    }
   ],
   "source": [
    "p6 = sigma(p5, K1)\n",
    "p6"
   ]
  },
  {
   "cell_type": "code",
   "execution_count": 83,
   "id": "7f2844b4",
   "metadata": {},
   "outputs": [
    {
     "data": {
      "text/plain": [
       "[[1010, 1001], [1000, 0010]]"
      ]
     },
     "execution_count": 83,
     "metadata": {},
     "output_type": "execute_result"
    }
   ],
   "source": [
    "p7 = sub_gamma(p6)\n",
    "p7"
   ]
  },
  {
   "cell_type": "code",
   "execution_count": 85,
   "id": "1c87102a",
   "metadata": {},
   "outputs": [
    {
     "data": {
      "text/plain": [
       "[[1010, 1001], [0010, 1000]]"
      ]
     },
     "execution_count": 85,
     "metadata": {},
     "output_type": "execute_result"
    }
   ],
   "source": [
    "p8 = shift_row(p7)\n",
    "p8"
   ]
  },
  {
   "cell_type": "code",
   "execution_count": 88,
   "id": "ddf41c1e",
   "metadata": {},
   "outputs": [
    {
     "data": {
      "text/plain": [
       "[[0111, 0100], [0011, 1110]]"
      ]
     },
     "execution_count": 88,
     "metadata": {},
     "output_type": "execute_result"
    }
   ],
   "source": [
    "p9 = sigma(p8, K2)\n",
    "p9"
   ]
  },
  {
   "cell_type": "markdown",
   "id": "d642ecc1",
   "metadata": {},
   "source": [
    "Segunda ronda"
   ]
  },
  {
   "cell_type": "code",
   "execution_count": 115,
   "id": "bd0eb6bb",
   "metadata": {},
   "outputs": [
    {
     "data": {
      "text/plain": [
       "[[0011, 0010], [0110, 1001]]"
      ]
     },
     "execution_count": 115,
     "metadata": {},
     "output_type": "execute_result"
    }
   ],
   "source": [
    "q0 = matriz(\n",
    "    bin(\"0011\"), bin(\"0110\"), bin(\"0010\"), bin(\"1001\") \n",
    ")\n",
    "q0"
   ]
  },
  {
   "cell_type": "code",
   "execution_count": 117,
   "id": "05003271",
   "metadata": {},
   "outputs": [
    {
     "data": {
      "text/plain": [
       "[[1011, 0010], [0011, 1110]]"
      ]
     },
     "execution_count": 117,
     "metadata": {},
     "output_type": "execute_result"
    }
   ],
   "source": [
    "q1 = sigma(q0, K0)\n",
    "q1"
   ]
  },
  {
   "cell_type": "code",
   "execution_count": 118,
   "id": "bff2510c",
   "metadata": {},
   "outputs": [
    {
     "data": {
      "text/plain": [
       "[[0110, 1111], [0111, 0101]]"
      ]
     },
     "execution_count": 118,
     "metadata": {},
     "output_type": "execute_result"
    }
   ],
   "source": [
    "q2 = sub_gamma(q1)\n",
    "q2"
   ]
  },
  {
   "cell_type": "code",
   "execution_count": 119,
   "id": "4c845947",
   "metadata": {},
   "outputs": [
    {
     "data": {
      "text/plain": [
       "[[0110, 1111], [0101, 0111]]"
      ]
     },
     "execution_count": 119,
     "metadata": {},
     "output_type": "execute_result"
    }
   ],
   "source": [
    "q3 = shift_row(q2)\n",
    "q3"
   ]
  },
  {
   "cell_type": "code",
   "execution_count": 122,
   "id": "9266cbf8",
   "metadata": {},
   "outputs": [
    {
     "data": {
      "text/plain": [
       "[[x^2 + x, x^3 + x^2 + x + 1], [x^2 + 1, x^2 + x + 1]]"
      ]
     },
     "execution_count": 122,
     "metadata": {},
     "output_type": "execute_result"
    }
   ],
   "source": [
    "q4 = matriz_to_GF(q3)\n",
    "q4\n"
   ]
  },
  {
   "cell_type": "code",
   "execution_count": 123,
   "id": "ac56f9ab",
   "metadata": {},
   "outputs": [
    {
     "data": {
      "text/plain": [
       "[[0, x^3 + x^2], [x + 1, x^2]]"
      ]
     },
     "execution_count": 123,
     "metadata": {},
     "output_type": "execute_result"
    }
   ],
   "source": [
    "q5 = theta(q4)\n",
    "q5"
   ]
  },
  {
   "cell_type": "code",
   "execution_count": 124,
   "id": "bd0f92bf",
   "metadata": {},
   "outputs": [
    {
     "data": {
      "text/plain": [
       "[[0000, 1100], [0011, 0100]]"
      ]
     },
     "execution_count": 124,
     "metadata": {},
     "output_type": "execute_result"
    }
   ],
   "source": [
    "q6 = matriz_GF_to_binary(q5)\n",
    "q6"
   ]
  },
  {
   "cell_type": "code",
   "execution_count": 126,
   "id": "0eb617e9",
   "metadata": {},
   "outputs": [
    {
     "data": {
      "text/plain": [
       "[[1001, 0000], [1111, 1111]]"
      ]
     },
     "execution_count": 126,
     "metadata": {},
     "output_type": "execute_result"
    }
   ],
   "source": [
    "q7 = sigma(q6, K1)\n",
    "q7"
   ]
  },
  {
   "cell_type": "code",
   "execution_count": 127,
   "id": "9790b0a3",
   "metadata": {},
   "outputs": [
    {
     "data": {
      "text/plain": [
       "[[1110, 0011], [0100, 0100]]"
      ]
     },
     "execution_count": 127,
     "metadata": {},
     "output_type": "execute_result"
    }
   ],
   "source": [
    "q8 = sub_gamma(q7)\n",
    "q8"
   ]
  },
  {
   "cell_type": "code",
   "execution_count": 128,
   "id": "aaf3a0c4",
   "metadata": {},
   "outputs": [
    {
     "data": {
      "text/plain": [
       "[[1110, 0011], [0100, 0100]]"
      ]
     },
     "execution_count": 128,
     "metadata": {},
     "output_type": "execute_result"
    }
   ],
   "source": [
    "q9 = shift_row(q8)\n",
    "q9"
   ]
  },
  {
   "cell_type": "code",
   "execution_count": 129,
   "id": "9cdc6630",
   "metadata": {},
   "outputs": [
    {
     "data": {
      "text/plain": [
       "[[0011, 1110], [0101, 0010]]"
      ]
     },
     "execution_count": 129,
     "metadata": {},
     "output_type": "execute_result"
    }
   ],
   "source": [
    "q10 = sigma(q9, K2)\n",
    "q10"
   ]
  },
  {
   "cell_type": "markdown",
   "id": "81eca48b",
   "metadata": {},
   "source": [
    "# Apartado 2"
   ]
  },
  {
   "cell_type": "code",
   "execution_count": 140,
   "id": "62a96c00",
   "metadata": {},
   "outputs": [],
   "source": [
    "def pasada_E_k(A, K0, K1, K2):\n",
    "    q1 = sigma(A, K0)\n",
    "    print(\"sigma_K0() = \" + str(q1))\n",
    "    \n",
    "    q2 = sub_gamma(q1)\n",
    "    print(\"gamma() = \" + str(q2))\n",
    "    \n",
    "    q3 = shift_row(q2)\n",
    "    print(\"pi() = \" + str(q3))\n",
    "    \n",
    "    q4 = matriz_to_GF(q3)\n",
    "    print(\"pi() en GF = \" + str(q4))\n",
    "    \n",
    "    q5 = theta(q4)\n",
    "    print(\"theta() = \" + str(q5))\n",
    "    \n",
    "    q6 = matriz_GF_to_binary(q5)\n",
    "    print(\"theta() en binario = \" + str(q6))\n",
    "    \n",
    "    q7 = sigma(q6, K1)\n",
    "    print(\"sigma_K1() = \" + str(q7))\n",
    "    \n",
    "    q8 = sub_gamma(q7)\n",
    "    print(\"gamma() = \" + str(q8))\n",
    "    \n",
    "    q9 = shift_row(q8)\n",
    "    print(\"pi() = \" + str(q9))\n",
    "    \n",
    "    q10 = sigma(q9, K2)\n",
    "    print(\"gamma_K2() = \" + str(q10))\n",
    "    \n",
    "    return q10"
   ]
  },
  {
   "cell_type": "code",
   "execution_count": 141,
   "id": "1cfa7076",
   "metadata": {},
   "outputs": [],
   "source": [
    "IV = matriz(\n",
    "    bin(\"0000\"), bin(\"0000\"), bin(\"0000\"), bin(\"0001\")\n",
    ")"
   ]
  },
  {
   "cell_type": "code",
   "execution_count": 142,
   "id": "a1582c1c",
   "metadata": {},
   "outputs": [
    {
     "name": "stdout",
     "output_type": "stream",
     "text": [
      "sigma_K0() = [[1000, 0000], [0101, 0110]]\n",
      "gamma() = [[1100, 0011], [0010, 1011]]\n",
      "pi() = [[1100, 0011], [1011, 0010]]\n",
      "pi() en GF = [[x^3 + x^2, x + 1], [x^3 + x + 1, x]]\n",
      "theta() = [[x, 1], [x^2 + 1, 0]]\n",
      "theta() en binario = [[0010, 0001], [0101, 0000]]\n",
      "sigma_K1() = [[1011, 1101], [1001, 1011]]\n",
      "gamma() = [[0110, 1101], [1110, 0110]]\n",
      "pi() = [[0110, 1101], [0110, 1110]]\n",
      "gamma_K2() = [[1011, 0000], [0111, 1000]]\n"
     ]
    },
    {
     "data": {
      "text/plain": [
       "[[1011, 0000], [0111, 1000]]"
      ]
     },
     "execution_count": 142,
     "metadata": {},
     "output_type": "execute_result"
    }
   ],
   "source": [
    "pasada_E_k(IV, K0, K1, K2)"
   ]
  },
  {
   "cell_type": "markdown",
   "id": "fb712521",
   "metadata": {},
   "source": [
    "# Nosequién"
   ]
  },
  {
   "cell_type": "code",
   "execution_count": 71,
   "id": "10811239",
   "metadata": {},
   "outputs": [
    {
     "data": {
      "text/plain": [
       "[[x^3 + 1, x^3 + x^2 + x], [x^2 + 1, x^3 + x^2]]"
      ]
     },
     "execution_count": 71,
     "metadata": {},
     "output_type": "execute_result"
    }
   ],
   "source": [
    "A = matriz(\n",
    "    bin(\"1001\"), bin(\"0101\"), bin(\"1110\"), bin(\"1100\")\n",
    ")\n",
    "\n",
    "A_GF = matriz_to_GF(A)\n",
    "A_GF"
   ]
  },
  {
   "cell_type": "code",
   "execution_count": 72,
   "id": "04da6e40",
   "metadata": {},
   "outputs": [
    {
     "data": {
      "text/plain": [
       "[[x, x^3 + x], [x^3 + x^2 + x, x^3]]"
      ]
     },
     "execution_count": 72,
     "metadata": {},
     "output_type": "execute_result"
    }
   ],
   "source": [
    "theta(A_GF)"
   ]
  },
  {
   "cell_type": "code",
   "execution_count": 73,
   "id": "b7c67d20",
   "metadata": {},
   "outputs": [
    {
     "data": {
      "text/plain": [
       "[[0010, 1010], [1110, 1000]]"
      ]
     },
     "execution_count": 73,
     "metadata": {},
     "output_type": "execute_result"
    }
   ],
   "source": [
    "matriz_GF_to_binary(theta(A_GF))"
   ]
  },
  {
   "cell_type": "code",
   "execution_count": null,
   "id": "d3f0d030",
   "metadata": {},
   "outputs": [],
   "source": []
  }
 ],
 "metadata": {
  "kernelspec": {
   "display_name": "SageMath 9.5",
   "language": "sage",
   "name": "sagemath"
  },
  "language_info": {
   "codemirror_mode": {
    "name": "ipython",
    "version": 3
   },
   "file_extension": ".py",
   "mimetype": "text/x-python",
   "name": "python",
   "nbconvert_exporter": "python",
   "pygments_lexer": "ipython3",
   "version": "3.9.9"
  }
 },
 "nbformat": 4,
 "nbformat_minor": 5
}
