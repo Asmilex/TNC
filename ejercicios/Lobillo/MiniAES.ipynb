{
 "cells": [
  {
   "cell_type": "code",
   "execution_count": 78,
   "id": "e64e5c03",
   "metadata": {},
   "outputs": [],
   "source": [
    "from sage.crypto.block_cipher.miniaes import MiniAES\n",
    "\n",
    "# Voy a trabajar con bin(). Por tanto, todas las funciones van a esperar eso\n",
    "\n",
    "K = FiniteField(16, 'xi')\n",
    "MS = MatrixSpace(K, 2, 2)\n",
    "miniaes = MiniAES()\n",
    "bin = BinaryStrings()\n",
    "\n",
    "dni = 77432071"
   ]
  },
  {
   "cell_type": "code",
   "execution_count": 129,
   "id": "964ab1e2",
   "metadata": {},
   "outputs": [],
   "source": [
    "def xor(a, b):\n",
    "    f = miniaes.binary_to_GF(a)[0]\n",
    "    g = miniaes.binary_to_GF(b)[0]\n",
    "    \n",
    "    return miniaes.GF_to_binary(f + g)\n",
    "\n",
    "def gamma(a):\n",
    "    if   a == bin(\"0000\"):\n",
    "        return bin(\"0011\")\n",
    "    elif a == bin(\"0001\"):\n",
    "        return bin(\"1000\")\n",
    "    elif a == bin(\"0010\"):\n",
    "        return bin(\"1111\")\n",
    "    elif a == bin(\"0011\"):\n",
    "        return bin(\"0111\")\n",
    "    \n",
    "    elif a == bin(\"0100\"):\n",
    "        return bin(\"0001\")\n",
    "    elif a == bin(\"0101\"):\n",
    "        return bin(\"0010\")\n",
    "    elif a == bin(\"0110\"):\n",
    "        return bin(\"1011\")\n",
    "    elif a == bin(\"0111\"):\n",
    "        return bin(\"0000\")\n",
    "    \n",
    "    elif a == bin(\"1000\"):\n",
    "        return bin(\"1100\")\n",
    "    elif a == bin(\"1001\"):\n",
    "        return bin(\"1110\")\n",
    "    elif a == bin(\"1010\"):\n",
    "        return bin(\"1010\")\n",
    "    elif a == bin(\"1011\"):\n",
    "        return bin(\"0110\")\n",
    "    \n",
    "    elif a == bin(\"1100\"):\n",
    "        return bin(\"1001\")\n",
    "    elif a == bin(\"1101\"):\n",
    "        return bin(\"1101\")\n",
    "    elif a == bin(\"1110\"):\n",
    "        return bin(\"0101\")\n",
    "    elif a == bin(\"1111\"):\n",
    "        return bin(\"0100\")\n",
    "    \n",
    "\n",
    "def matriz(a0, a1, a2, a3):\n",
    "    return [\n",
    "        [a0, a2],\n",
    "        [a1, a3]\n",
    "    ]\n",
    "\n",
    "def mult(a, b):\n",
    "    return miniaes.GF_to_binary(\n",
    "        miniaes.binary_to_GF(a)[0] * miniaes.binary_to_GF(b)[0]\n",
    "    )\n",
    "\n",
    "def sub_gamma(A):\n",
    "    return matriz(\n",
    "        gamma(A[0][0]), gamma(A[1][0]), gamma(A[0][1]), gamma(A[1][1])\n",
    "    )\n",
    "\n",
    "def shift_row(A):\n",
    "    return matriz(\n",
    "        A[0][0], A[1][1], A[0][1], A[1][0]\n",
    "    )"
   ]
  },
  {
   "cell_type": "code",
   "execution_count": 124,
   "id": "79352356",
   "metadata": {},
   "outputs": [
    {
     "data": {
      "text/plain": [
       "([1000, 0101, 0000, 0111], [0111, 1111, 1010, 1010], [1010, 1101, 0010, 1000])"
      ]
     },
     "execution_count": 124,
     "metadata": {},
     "output_type": "execute_result"
    }
   ],
   "source": [
    "dni_en_binario = dni.mod(65536).binary()\n",
    "\n",
    "w3 = bin(dni_en_binario[0:4])\n",
    "w2 = bin(dni_en_binario[4:8])\n",
    "w1 = bin(dni_en_binario[8:12])\n",
    "w0 = bin(dni_en_binario[12:16])\n",
    "\n",
    "w4 = xor(xor(w0, gamma(w3)), bin(\"0001\"))\n",
    "w5 = xor(w1, w4)\n",
    "w6 = xor(w2, w5)\n",
    "w7 = xor(w3, w6)\n",
    "\n",
    "w8  = xor(xor(w4, gamma(w7)), bin(\"0010\"))\n",
    "w9  = xor(w5, w8)\n",
    "w10 = xor(w6, w9)\n",
    "w11 = xor(w7, w10)\n",
    "\n",
    "\n",
    "K0 = [w3, w2, w1, w0]\n",
    "K1 = [w7, w6, w5, w4]\n",
    "K2 = [w11, w10, w9, w8]\n",
    "\n",
    "K0, K1, K2"
   ]
  },
  {
   "cell_type": "code",
   "execution_count": 125,
   "id": "9a2e0d79",
   "metadata": {},
   "outputs": [
    {
     "data": {
      "text/plain": [
       "[[0000, 0010], [0011, 1100]]"
      ]
     },
     "execution_count": 125,
     "metadata": {},
     "output_type": "execute_result"
    }
   ],
   "source": [
    "#matriz(w0, w1, w2, w3)[0][1]\n",
    "sub_gamma(matriz(w0, w1, w2, w3))"
   ]
  },
  {
   "cell_type": "code",
   "execution_count": 130,
   "id": "202f6e2f",
   "metadata": {},
   "outputs": [
    {
     "data": {
      "text/plain": [
       "0111"
      ]
     },
     "execution_count": 130,
     "metadata": {},
     "output_type": "execute_result"
    }
   ],
   "source": [
    "mult(bin(\"0101\"), bin(\"0100\"))"
   ]
  },
  {
   "cell_type": "code",
   "execution_count": 135,
   "id": "85c07881",
   "metadata": {},
   "outputs": [
    {
     "name": "stdout",
     "output_type": "stream",
     "text": [
      "<class 'sage.monoids.string_monoid_element.StringMonoidElement'>\n",
      "<class 'sage.monoids.string_monoid_element.StringMonoidElement'>\n",
      "<class 'sage.monoids.string_monoid_element.StringMonoidElement'>\n",
      "<class 'sage.monoids.string_monoid_element.StringMonoidElement'>\n"
     ]
    }
   ],
   "source": []
  }
 ],
 "metadata": {
  "kernelspec": {
   "display_name": "SageMath 9.5",
   "language": "sage",
   "name": "sagemath"
  },
  "language_info": {
   "codemirror_mode": {
    "name": "ipython",
    "version": 3
   },
   "file_extension": ".py",
   "mimetype": "text/x-python",
   "name": "python",
   "nbconvert_exporter": "python",
   "pygments_lexer": "ipython3",
   "version": "3.9.9"
  }
 },
 "nbformat": 4,
 "nbformat_minor": 5
}
