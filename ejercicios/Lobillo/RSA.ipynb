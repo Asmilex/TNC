{
 "cells": [
  {
   "cell_type": "code",
   "execution_count": 61,
   "id": "e06e1cd3",
   "metadata": {},
   "outputs": [
    {
     "data": {
      "text/plain": [
       "(7753, 2081)"
      ]
     },
     "execution_count": 61,
     "metadata": {},
     "output_type": "execute_result"
    }
   ],
   "source": [
    "dni = 77432071\n",
    "p = next_prime(7743)\n",
    "q = next_prime(2071)\n",
    "\n",
    "p, q"
   ]
  },
  {
   "cell_type": "code",
   "execution_count": 62,
   "id": "99077d88",
   "metadata": {},
   "outputs": [],
   "source": [
    "n = p*q"
   ]
  },
  {
   "cell_type": "code",
   "execution_count": 63,
   "id": "3a26fe4e",
   "metadata": {},
   "outputs": [
    {
     "data": {
      "text/plain": [
       "11"
      ]
     },
     "execution_count": 63,
     "metadata": {},
     "output_type": "execute_result"
    }
   ],
   "source": [
    "e = 11\n",
    "p = 11\n",
    "primes = Primes()\n",
    "\n",
    "while p.gcd(euler_phi(n)) != 1:\n",
    "    p = primes.next(p)\n",
    "\n",
    "e = p\n",
    "e"
   ]
  },
  {
   "cell_type": "code",
   "execution_count": 64,
   "id": "21cffc7d",
   "metadata": {},
   "outputs": [
    {
     "data": {
      "text/plain": [
       "5863331"
      ]
     },
     "execution_count": 64,
     "metadata": {},
     "output_type": "execute_result"
    }
   ],
   "source": [
    "d = inverse_mod(e, euler_phi(n))\n",
    "d"
   ]
  },
  {
   "cell_type": "markdown",
   "id": "17293551",
   "metadata": {},
   "source": [
    "¿Lo hemos calculado bien?"
   ]
  },
  {
   "cell_type": "code",
   "execution_count": 65,
   "id": "8a37ac4c",
   "metadata": {},
   "outputs": [
    {
     "data": {
      "text/plain": [
       "1"
      ]
     },
     "execution_count": 65,
     "metadata": {},
     "output_type": "execute_result"
    }
   ],
   "source": [
    "(e * d) % euler_phi(n)"
   ]
  },
  {
   "cell_type": "markdown",
   "id": "70e3253f",
   "metadata": {},
   "source": [
    "## Apartado 1"
   ]
  },
  {
   "cell_type": "code",
   "execution_count": 66,
   "id": "7316bac2",
   "metadata": {},
   "outputs": [],
   "source": [
    "m = 0xCAFE"
   ]
  },
  {
   "cell_type": "code",
   "execution_count": 67,
   "id": "b56d7320",
   "metadata": {},
   "outputs": [],
   "source": [
    "def cifrar(m, e, n):\n",
    "    return power_mod(m, e, n)"
   ]
  },
  {
   "cell_type": "code",
   "execution_count": 68,
   "id": "8479b900",
   "metadata": {},
   "outputs": [
    {
     "data": {
      "text/plain": [
       "10576233"
      ]
     },
     "execution_count": 68,
     "metadata": {},
     "output_type": "execute_result"
    }
   ],
   "source": [
    "c = cifrar(m, e, n)\n",
    "c"
   ]
  },
  {
   "cell_type": "markdown",
   "id": "4bb91948",
   "metadata": {},
   "source": [
    "En hexa:"
   ]
  },
  {
   "cell_type": "code",
   "execution_count": 69,
   "id": "66dc50d1",
   "metadata": {},
   "outputs": [
    {
     "data": {
      "text/plain": [
       "'0xa16169'"
      ]
     },
     "execution_count": 69,
     "metadata": {},
     "output_type": "execute_result"
    }
   ],
   "source": [
    "'0x' + c.hex()"
   ]
  },
  {
   "cell_type": "markdown",
   "id": "b37a3f4f",
   "metadata": {},
   "source": [
    "## Apartado 2"
   ]
  },
  {
   "cell_type": "code",
   "execution_count": 70,
   "id": "36ec3433",
   "metadata": {},
   "outputs": [],
   "source": [
    "def descifrar(c, e, n):\n",
    "    d = inverse_mod(e, euler_phi(n))\n",
    "    return power_mod(c, d, n)"
   ]
  },
  {
   "cell_type": "code",
   "execution_count": 71,
   "id": "2115954b",
   "metadata": {},
   "outputs": [
    {
     "data": {
      "text/plain": [
       "'0xcafe'"
      ]
     },
     "execution_count": 71,
     "metadata": {},
     "output_type": "execute_result"
    }
   ],
   "source": [
    "m = descifrar(c, e, n)\n",
    "'0x' + m.hex()"
   ]
  },
  {
   "cell_type": "markdown",
   "id": "e328fdc4",
   "metadata": {},
   "source": [
    "## Apartado 3"
   ]
  },
  {
   "cell_type": "code",
   "execution_count": 72,
   "id": "61aee155",
   "metadata": {},
   "outputs": [
    {
     "data": {
      "text/plain": [
       "[2, 3, 4, 5, 6, 7, 8]"
      ]
     },
     "execution_count": 72,
     "metadata": {},
     "output_type": "execute_result"
    }
   ],
   "source": [
    "b_valores = list(range(2, 9))\n",
    "b_valores"
   ]
  },
  {
   "cell_type": "markdown",
   "id": "33e0b1e1",
   "metadata": {},
   "source": [
    "## Apartado 4 "
   ]
  },
  {
   "cell_type": "markdown",
   "id": "7ea3420d",
   "metadata": {},
   "source": [
    "Tomamos el polinomio $(x - p)(x - q) = x^2 - (p + q)x + n$. Puesto que $\\varphi(n) = n + 1 - (p + q)$, se tiene que \n",
    "\n",
    "$$\n",
    "(x - p)(x - q) = x^2 - (n + 1 - \\varphi(n))x - n\n",
    "$$\n",
    "\n",
    "Claramente, las raíces del polinomio son $p$ y $q$, por lo que podemos hallar sus valores resolviendo la ecuación \n",
    "\n",
    "$$\n",
    "\\begin{cases}\n",
    "p, q = b \\pm \\sqrt{b^2 - n} \\\\\n",
    "p + q = 2b \\\\\n",
    "p + q = n - \\varphi(n) + 1 \n",
    "\\end{cases}\n",
    "$$\n",
    "\n",
    "Así que \n",
    "\n",
    "$$\n",
    "b = \\frac{n - \\varphi(n) + 1 }{2}\n",
    "$$"
   ]
  },
  {
   "cell_type": "code",
   "execution_count": 73,
   "id": "94292544",
   "metadata": {},
   "outputs": [
    {
     "data": {
      "text/plain": [
       "4917"
      ]
     },
     "execution_count": 73,
     "metadata": {},
     "output_type": "execute_result"
    }
   ],
   "source": [
    "b = (n - euler_phi(n) + 1)/2\n",
    "b"
   ]
  },
  {
   "cell_type": "code",
   "execution_count": 74,
   "id": "1d9245fc",
   "metadata": {},
   "outputs": [
    {
     "data": {
      "text/plain": [
       "(7753, 2081)"
      ]
     },
     "execution_count": 74,
     "metadata": {},
     "output_type": "execute_result"
    }
   ],
   "source": [
    "p = b + sqrt(b^2 - n)\n",
    "q = b - sqrt(b^2 - n)\n",
    "p, q"
   ]
  },
  {
   "cell_type": "markdown",
   "id": "b3f14a42",
   "metadata": {},
   "source": [
    "## Apartado 5"
   ]
  },
  {
   "cell_type": "markdown",
   "id": "daa65596",
   "metadata": {},
   "source": [
    "Queremos factorizar $n$ a partir de $e$ y $d$ esta vez."
   ]
  },
  {
   "cell_type": "code",
   "execution_count": 75,
   "id": "c4e28578",
   "metadata": {},
   "outputs": [
    {
     "data": {
      "text/plain": [
       "64496640"
      ]
     },
     "execution_count": 75,
     "metadata": {},
     "output_type": "execute_result"
    }
   ],
   "source": [
    "k = e*d - 1\n",
    "k"
   ]
  },
  {
   "cell_type": "markdown",
   "id": "d2472639",
   "metadata": {},
   "source": [
    "Consideramos los primeros primos hasta 19"
   ]
  },
  {
   "cell_type": "code",
   "execution_count": 78,
   "id": "2a684f86",
   "metadata": {},
   "outputs": [
    {
     "name": "stdout",
     "output_type": "stream",
     "text": [
      "1\n",
      "1\n",
      "1\n",
      "1\n",
      "1\n",
      "1\n",
      "1\n",
      "1\n"
     ]
    }
   ],
   "source": [
    "for a in [2, 3, 5, 7, 11, 13, 17, 19]:\n",
    "    print(power_mod(a, k, n))"
   ]
  },
  {
   "cell_type": "code",
   "execution_count": 100,
   "id": "0b99b8d6",
   "metadata": {},
   "outputs": [],
   "source": [
    "def factorizar_n(e, d, n):\n",
    "    k = e*d - 1\n",
    "    \n",
    "    debemos_parar = False\n",
    "    \n",
    "    while not debemos_parar:\n",
    "        for a in [2, 3, 5, 7, 11, 13, 17, 19]:\n",
    "            actual = power_mod(a, k, n)\n",
    "            print(str(a) + \"^\" + str(k) + \" mod n = \" + str(actual))\n",
    "            if actual != 1:\n",
    "                debemos_parar = True\n",
    "                solucion = actual\n",
    "        \n",
    "        k = k // 2\n",
    "        print(\"\\n\")\n",
    "    \n",
    "    return [n.gcd(solucion - 1), n.gcd(solucion + 1)]"
   ]
  },
  {
   "cell_type": "code",
   "execution_count": 101,
   "id": "d7ccc369",
   "metadata": {},
   "outputs": [
    {
     "name": "stdout",
     "output_type": "stream",
     "text": [
      "2^64496640 mod n = 1\n",
      "3^64496640 mod n = 1\n",
      "5^64496640 mod n = 1\n",
      "7^64496640 mod n = 1\n",
      "11^64496640 mod n = 1\n",
      "13^64496640 mod n = 1\n",
      "17^64496640 mod n = 1\n",
      "19^64496640 mod n = 1\n",
      "\n",
      "\n",
      "2^32248320 mod n = 1\n",
      "3^32248320 mod n = 1\n",
      "5^32248320 mod n = 1\n",
      "7^32248320 mod n = 1\n",
      "11^32248320 mod n = 1\n",
      "13^32248320 mod n = 1\n",
      "17^32248320 mod n = 1\n",
      "19^32248320 mod n = 1\n",
      "\n",
      "\n",
      "2^16124160 mod n = 1\n",
      "3^16124160 mod n = 1\n",
      "5^16124160 mod n = 1\n",
      "7^16124160 mod n = 1\n",
      "11^16124160 mod n = 1\n",
      "13^16124160 mod n = 1\n",
      "17^16124160 mod n = 1\n",
      "19^16124160 mod n = 1\n",
      "\n",
      "\n",
      "2^8062080 mod n = 1\n",
      "3^8062080 mod n = 1\n",
      "5^8062080 mod n = 1\n",
      "7^8062080 mod n = 1\n",
      "11^8062080 mod n = 1\n",
      "13^8062080 mod n = 1\n",
      "17^8062080 mod n = 1\n",
      "19^8062080 mod n = 1\n",
      "\n",
      "\n",
      "2^4031040 mod n = 1\n",
      "3^4031040 mod n = 1\n",
      "5^4031040 mod n = 1\n",
      "7^4031040 mod n = 1\n",
      "11^4031040 mod n = 1\n",
      "13^4031040 mod n = 1\n",
      "17^4031040 mod n = 1\n",
      "19^4031040 mod n = 1\n",
      "\n",
      "\n",
      "2^2015520 mod n = 1\n",
      "3^2015520 mod n = 1\n",
      "5^2015520 mod n = 1\n",
      "7^2015520 mod n = 1\n",
      "11^2015520 mod n = 1\n",
      "13^2015520 mod n = 1\n",
      "17^2015520 mod n = 1\n",
      "19^2015520 mod n = 1\n",
      "\n",
      "\n",
      "2^1007760 mod n = 1\n",
      "3^1007760 mod n = 13591010\n",
      "5^1007760 mod n = 1\n",
      "7^1007760 mod n = 1\n",
      "11^1007760 mod n = 13591010\n",
      "13^1007760 mod n = 1\n",
      "17^1007760 mod n = 13591010\n",
      "19^1007760 mod n = 13591010\n",
      "\n",
      "\n"
     ]
    },
    {
     "data": {
      "text/plain": [
       "[7753, 2081]"
      ]
     },
     "execution_count": 101,
     "metadata": {},
     "output_type": "execute_result"
    }
   ],
   "source": [
    "factorizar_n(e, d, n)"
   ]
  },
  {
   "cell_type": "markdown",
   "id": "513889cf",
   "metadata": {},
   "source": [
    "Así que hemos conseguido factorizar $n$"
   ]
  }
 ],
 "metadata": {
  "kernelspec": {
   "display_name": "SageMath 9.5",
   "language": "sage",
   "name": "sagemath"
  },
  "language_info": {
   "codemirror_mode": {
    "name": "ipython",
    "version": 3
   },
   "file_extension": ".py",
   "mimetype": "text/x-python",
   "name": "python",
   "nbconvert_exporter": "python",
   "pygments_lexer": "ipython3",
   "version": "3.9.9"
  }
 },
 "nbformat": 4,
 "nbformat_minor": 5
}
