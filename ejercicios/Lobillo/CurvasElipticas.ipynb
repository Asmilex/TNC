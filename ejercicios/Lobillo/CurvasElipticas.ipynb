{
 "cells": [
  {
   "cell_type": "markdown",
   "metadata": {},
   "source": [
    "# Ejercicio de curvas elípticas\n",
    "\n",
    "Sea $\\mathbb{F}_{32} = \\mathbb{F}_2[\\xi]_{\\xi^5 + \\xi^2 + 1}$. Cada uno de vosotros, de acuerdo a su número de DNI, dispone de una curva elíptica sobre $\\mathbb{F}_{32}$ y un punto base dados en el cuadro 6.1.\n",
    "\n",
    "1. Calcula mediante el algoritmo de Shank o el 9, $log_Q{\\mathcal{O}}$.\n",
    "2. Para tu curva y tu punto base, genera un par de claves pública/privada para un protocolo ECDH.\n",
    "3. Cifra el mensaje $(\\xi^3 + \\xi^2 + 1, \\xi^4 + \\xi^2) \\in \\mathbb{F}^2_{32}$ mediante el criptosistema de Menezes-Vanstone.\n",
    "4. Descifra el mensaje anterior."
   ]
  },
  {
   "cell_type": "markdown",
   "metadata": {},
   "source": [
    "Como mi DNI es"
   ]
  },
  {
   "cell_type": "code",
   "execution_count": 56,
   "metadata": {},
   "outputs": [],
   "source": [
    "dni = 77432071"
   ]
  },
  {
   "cell_type": "markdown",
   "metadata": {},
   "source": [
    "Tenemos que $\\text{dni} \\bmod 32$ da "
   ]
  },
  {
   "cell_type": "code",
   "execution_count": 57,
   "metadata": {},
   "outputs": [
    {
     "data": {
      "text/plain": [
       "7"
      ]
     },
     "execution_count": 57,
     "metadata": {},
     "output_type": "execute_result"
    }
   ],
   "source": [
    "dni.mod(32)"
   ]
  },
  {
   "cell_type": "markdown",
   "metadata": {},
   "source": [
    "Por lo que mis curvas son:\n",
    "\n",
    "$$\n",
    "\\begin{aligned}\n",
    "E(A, B) & = E(\\xi + 1, \\xi^4 + \\xi^3 + \\xi + 1) \\\\ \n",
    "Q & = (\\xi^3 + \\xi^2 + \\xi, \\xi^4 + \\xi^3 + \\xi^2 + \\xi + 1)\n",
    "\\end{aligned}\n",
    "$$"
   ]
  },
  {
   "cell_type": "code",
   "execution_count": 58,
   "metadata": {},
   "outputs": [],
   "source": [
    "F.<xi> = GF(2^5, modulus = GF(2)[x](x^5 + x^2 + 1))\n",
    "E = EllipticCurve(F, [1, xi + 1, 0, 0, xi^4 + xi^3 + xi + 1])\n",
    "Q = E.point((xi^3 + xi^2 + xi, xi^4 + xi^3 + xi^2 + xi + 1))"
   ]
  },
  {
   "cell_type": "code",
   "execution_count": 59,
   "metadata": {},
   "outputs": [
    {
     "data": {
      "text/plain": [
       "Elliptic Curve defined by y^2 + x*y = x^3 + (xi+1)*x^2 + (xi^4+xi^3+xi+1) over Finite Field in xi of size 2^5"
      ]
     },
     "execution_count": 59,
     "metadata": {},
     "output_type": "execute_result"
    }
   ],
   "source": [
    "E"
   ]
  },
  {
   "cell_type": "code",
   "execution_count": 60,
   "metadata": {},
   "outputs": [
    {
     "data": {
      "text/plain": [
       "(xi^3 + xi^2 + xi : xi^4 + xi^3 + xi^2 + xi + 1 : 1)"
      ]
     },
     "execution_count": 60,
     "metadata": {},
     "output_type": "execute_result"
    }
   ],
   "source": [
    "Q"
   ]
  },
  {
   "cell_type": "markdown",
   "metadata": {},
   "source": [
    "## Apartado 1"
   ]
  },
  {
   "cell_type": "markdown",
   "metadata": {},
   "source": [
    "Vamos a calcular mediante el algoritmo de Shank $\\log_Q{\\mathcal{O}} = \\log_{(\\xi^3 + \\xi^2 + \\xi, \\xi^4 + \\xi^3 + \\xi^2 + \\xi + 1)}{\\mathcal{O}}$. "
   ]
  },
  {
   "cell_type": "code",
   "execution_count": 127,
   "metadata": {},
   "outputs": [
    {
     "data": {
      "text/plain": [
       "(0 : 1 : 0)"
      ]
     },
     "execution_count": 127,
     "metadata": {},
     "output_type": "execute_result"
    }
   ],
   "source": [
    "O = E.point(0)\n",
    "O"
   ]
  },
  {
   "cell_type": "markdown",
   "metadata": {},
   "source": [
    "Siguiendo la notación de los apuntes, la base es, en este caso, $b = Q$. \n",
    "\n",
    "Para aplicar este algoritmo necesitamos una cota del orden de la curva elíptica. Como nos encontramos en $\\mathbb{F}_{32}$, $q = 32$, y por el teorema de Hasse, \n",
    "\n",
    "$$\n",
    "\\left \\lvert E \\right \\rvert \\le q + 1 + \\left \\lfloor 2 \\sqrt{q} \\right \\rfloor = 32 + 1 + 11 = 44\n",
    "$$"
   ]
  },
  {
   "cell_type": "code",
   "execution_count": 141,
   "metadata": {},
   "outputs": [
    {
     "data": {
      "text/plain": [
       "11"
      ]
     },
     "execution_count": 141,
     "metadata": {},
     "output_type": "execute_result"
    }
   ],
   "source": [
    "q = 32\n",
    "floor(2 * sqrt(q))"
   ]
  },
  {
   "cell_type": "markdown",
   "metadata": {},
   "source": [
    "Tomamos por tanto $f = \\left \\lceil \\sqrt{44} \\right \\rceil$"
   ]
  },
  {
   "cell_type": "code",
   "execution_count": 142,
   "metadata": {},
   "outputs": [
    {
     "data": {
      "text/plain": [
       "7"
      ]
     },
     "execution_count": 142,
     "metadata": {},
     "output_type": "execute_result"
    }
   ],
   "source": [
    "f = ceil(sqrt(\n",
    "    q + 1 + floor(2 * sqrt(q))\n",
    "))\n",
    "f"
   ]
  },
  {
   "cell_type": "markdown",
   "metadata": {},
   "source": [
    "Construimos la tabla. En este caso, cada entrada viene dada por \n",
    "\n",
    "$$\n",
    "[i, iQ], \\quad 0 \\le i \\le f-1\n",
    "$$"
   ]
  },
  {
   "cell_type": "code",
   "execution_count": 143,
   "metadata": {},
   "outputs": [
    {
     "data": {
      "text/plain": [
       "[[0, (0 : 1 : 0)],\n",
       " [1, (xi^3 + xi^2 + xi : xi^4 + xi^3 + xi^2 + xi + 1 : 1)],\n",
       " [2, (xi^4 + 1 : xi^2 + xi : 1)],\n",
       " [3, (1 : xi^4 + xi^3 + xi : 1)],\n",
       " [4, (xi^2 + xi + 1 : xi^4 + xi^3 + xi^2 + xi + 1 : 1)],\n",
       " [5, (xi^3 + xi : xi^4 + xi^2 + 1 : 1)],\n",
       " [6, (xi^4 + xi^3 + xi : xi : 1)]]"
      ]
     },
     "execution_count": 143,
     "metadata": {},
     "output_type": "execute_result"
    }
   ],
   "source": [
    "tabla = [[i, i*Q] for i in range(0, f)]\n",
    "tabla"
   ]
  },
  {
   "cell_type": "markdown",
   "metadata": {},
   "source": [
    "Debemos calcular ahora $Q^{-f} = -f Q = -7Q$"
   ]
  },
  {
   "cell_type": "code",
   "execution_count": 144,
   "metadata": {},
   "outputs": [
    {
     "data": {
      "text/plain": [
       "(xi^4 + xi^3 + xi^2 + xi : xi^4 + xi^3 : 1)"
      ]
     },
     "execution_count": 144,
     "metadata": {},
     "output_type": "execute_result"
    }
   ],
   "source": [
    "b_elev_menos_f = -f*Q\n",
    "b_elev_menos_f"
   ]
  },
  {
   "cell_type": "markdown",
   "metadata": {},
   "source": [
    "Vamos a necesitar una función para comprobar si un elemento está en la tabla. Podemos reaprovechar la de los ejercicios anteriores:"
   ]
  },
  {
   "cell_type": "code",
   "execution_count": 145,
   "metadata": {},
   "outputs": [],
   "source": [
    "def esta_en_tabla(h, tabla):\n",
    "    matches = [x for x in tabla if x[1] == h]\n",
    "    return len(matches) > 0"
   ]
  },
  {
   "cell_type": "code",
   "execution_count": 146,
   "metadata": {},
   "outputs": [
    {
     "data": {
      "text/plain": [
       "False"
      ]
     },
     "execution_count": 146,
     "metadata": {},
     "output_type": "execute_result"
    }
   ],
   "source": [
    "esta_en_tabla(-6 * Q, tabla)"
   ]
  },
  {
   "cell_type": "markdown",
   "metadata": {},
   "source": [
    "Dado que no lo está, debemos ir construyendo $h_i = h_{i - 1} g^{-f}$. Implementemos una función sencilla que nos diga el índice $j$ de la tabla:"
   ]
  },
  {
   "cell_type": "code",
   "execution_count": 147,
   "metadata": {},
   "outputs": [],
   "source": [
    "def dime_indice_j(h, tabla):\n",
    "    matches = [x for x in tabla if x[1] == h]\n",
    "    \n",
    "    if len(matches) > 0:\n",
    "        return(matches[0][0])"
   ]
  },
  {
   "cell_type": "markdown",
   "metadata": {},
   "source": [
    "Finalmente, calculemos el logaritmo:"
   ]
  },
  {
   "cell_type": "code",
   "execution_count": 148,
   "metadata": {},
   "outputs": [],
   "source": [
    "h = O"
   ]
  },
  {
   "cell_type": "code",
   "execution_count": 149,
   "metadata": {},
   "outputs": [
    {
     "name": "stdout",
     "output_type": "stream",
     "text": [
      "h_1 = (xi^4 + xi^3 + xi^2 + xi : xi^4 + xi^3 : 1)\n",
      "h_2 = (1 : xi^4 + xi^3 + xi : 1)\n",
      "Sí que está en la tabla (i = 2, j = 3)\n"
     ]
    }
   ],
   "source": [
    "indice_i = 0\n",
    "indice_j = 0\n",
    "\n",
    "for i in range(1, len(tabla)):\n",
    "    h = h + (b_elev_menos_f)\n",
    "    \n",
    "    print(\"h_\"+ str(i) + \" = \" + str(h))\n",
    "    \n",
    "    if esta_en_tabla(h, tabla):\n",
    "        indice_i = i\n",
    "        indice_j = dime_indice_j(h, tabla)\n",
    "        print(\"Sí que está en la tabla (i = \" + str(indice_i) + \", j = \" + str(indice_j) + \")\")\n",
    "        break"
   ]
  },
  {
   "cell_type": "markdown",
   "metadata": {},
   "source": [
    "Por tanto, el valor final es "
   ]
  },
  {
   "cell_type": "code",
   "execution_count": 151,
   "metadata": {},
   "outputs": [
    {
     "data": {
      "text/plain": [
       "17"
      ]
     },
     "execution_count": 151,
     "metadata": {},
     "output_type": "execute_result"
    }
   ],
   "source": [
    "logaritmo = indice_j + indice_i * f\n",
    "logaritmo"
   ]
  },
  {
   "cell_type": "markdown",
   "metadata": {},
   "source": [
    "Podemos comprobar que es correcto:"
   ]
  },
  {
   "cell_type": "code",
   "execution_count": 152,
   "metadata": {},
   "outputs": [
    {
     "data": {
      "text/plain": [
       "(0 : 1 : 0)"
      ]
     },
     "execution_count": 152,
     "metadata": {},
     "output_type": "execute_result"
    }
   ],
   "source": [
    "logaritmo*Q"
   ]
  },
  {
   "cell_type": "markdown",
   "metadata": {},
   "source": [
    "## Apartado 2"
   ]
  },
  {
   "cell_type": "markdown",
   "metadata": {},
   "source": [
    "Para el algoritmo ECDH, fijamos $E = E(a, b)$ de forma que $\\|E\\| = hn$, con $n$ primo, $h$ pequeño y $\\|Q\\| = n$."
   ]
  },
  {
   "cell_type": "code",
   "execution_count": 6,
   "metadata": {
    "scrolled": true
   },
   "outputs": [
    {
     "data": {
      "text/plain": [
       "34"
      ]
     },
     "execution_count": 6,
     "metadata": {},
     "output_type": "execute_result"
    }
   ],
   "source": [
    "E.order()"
   ]
  },
  {
   "cell_type": "code",
   "execution_count": 7,
   "metadata": {},
   "outputs": [
    {
     "data": {
      "text/plain": [
       "17"
      ]
     },
     "execution_count": 7,
     "metadata": {},
     "output_type": "execute_result"
    }
   ],
   "source": [
    "Q.order()"
   ]
  },
  {
   "cell_type": "markdown",
   "metadata": {},
   "source": [
    "Podemos tomar "
   ]
  },
  {
   "cell_type": "code",
   "execution_count": 8,
   "metadata": {},
   "outputs": [],
   "source": [
    "n = 17\n",
    "h = 2"
   ]
  },
  {
   "cell_type": "code",
   "execution_count": 9,
   "metadata": {
    "scrolled": true
   },
   "outputs": [
    {
     "data": {
      "text/plain": [
       "True"
      ]
     },
     "execution_count": 9,
     "metadata": {},
     "output_type": "execute_result"
    }
   ],
   "source": [
    "n * h == E.order() and n == Q.order()"
   ]
  },
  {
   "cell_type": "markdown",
   "metadata": {},
   "source": [
    "Ahora Alice debe escoger un número aleatorio $a$ que se encuentre entre $2 \\le a \\le n-1$, y hacer público $(E, Q, aQ)$"
   ]
  },
  {
   "cell_type": "code",
   "execution_count": 11,
   "metadata": {},
   "outputs": [
    {
     "data": {
      "text/plain": [
       "8"
      ]
     },
     "execution_count": 11,
     "metadata": {},
     "output_type": "execute_result"
    }
   ],
   "source": [
    "a = ZZ.random_element(2, n)\n",
    "a"
   ]
  },
  {
   "cell_type": "markdown",
   "metadata": {},
   "source": [
    "Alice va a enviar a Bob $P_A = aQ$"
   ]
  },
  {
   "cell_type": "code",
   "execution_count": 18,
   "metadata": {},
   "outputs": [
    {
     "data": {
      "text/plain": [
       "(xi^3 + xi^2 : xi^2 + xi : 1)"
      ]
     },
     "execution_count": 18,
     "metadata": {},
     "output_type": "execute_result"
    }
   ],
   "source": [
    "P_A = a*Q\n",
    "P_A"
   ]
  },
  {
   "cell_type": "markdown",
   "metadata": {},
   "source": [
    "Vamos ahora a generar la clave privada. Para ello, Bob escoge $b$ tal que $2 \\le b \\le n-1$"
   ]
  },
  {
   "cell_type": "code",
   "execution_count": 24,
   "metadata": {},
   "outputs": [],
   "source": [
    "b = ZZ.random_element(2, n)\n",
    "b"
   ]
  },
  {
   "cell_type": "markdown",
   "metadata": {},
   "source": [
    "Bob calcula $P_B = bQ$ y se lo envía a Alice"
   ]
  },
  {
   "cell_type": "code",
   "execution_count": 29,
   "metadata": {},
   "outputs": [
    {
     "data": {
      "text/plain": [
       "(xi^3 + xi^2 : xi^2 + xi : 1)"
      ]
     },
     "execution_count": 29,
     "metadata": {},
     "output_type": "execute_result"
    }
   ],
   "source": [
    "P_B = b * Q\n",
    "P_B"
   ]
  },
  {
   "cell_type": "markdown",
   "metadata": {},
   "source": [
    "Bob finalmente calcula $b(P_A)$"
   ]
  },
  {
   "cell_type": "code",
   "execution_count": 33,
   "metadata": {},
   "outputs": [
    {
     "data": {
      "text/plain": [
       "(xi^2 + xi + 1 : xi^4 + xi^3 : 1)"
      ]
     },
     "execution_count": 33,
     "metadata": {},
     "output_type": "execute_result"
    }
   ],
   "source": [
    "b * P_A"
   ]
  },
  {
   "cell_type": "markdown",
   "metadata": {},
   "source": [
    "Y por su parte, Alice calcula $a(P_B)$"
   ]
  },
  {
   "cell_type": "code",
   "execution_count": 34,
   "metadata": {},
   "outputs": [
    {
     "data": {
      "text/plain": [
       "(xi^2 + xi + 1 : xi^4 + xi^3 : 1)"
      ]
     },
     "execution_count": 34,
     "metadata": {},
     "output_type": "execute_result"
    }
   ],
   "source": [
    "a * P_B"
   ]
  },
  {
   "cell_type": "markdown",
   "metadata": {},
   "source": [
    "La clave compartida por lo tanto es $(ab)Q = a(P_B) = b(P_A)$"
   ]
  },
  {
   "cell_type": "code",
   "execution_count": 35,
   "metadata": {},
   "outputs": [
    {
     "data": {
      "text/plain": [
       "True"
      ]
     },
     "execution_count": 35,
     "metadata": {},
     "output_type": "execute_result"
    }
   ],
   "source": [
    "(a * b) * Q == a * (P_B) == b * (P_A)"
   ]
  },
  {
   "cell_type": "markdown",
   "metadata": {},
   "source": [
    "## Apartado 3"
   ]
  },
  {
   "cell_type": "markdown",
   "metadata": {},
   "source": [
    "La generación de claves en el criptosistema de Menezes-Vanstone sigue los mismos pasos que en el de ECDH, por lo que mantendremos las anteriores. Sin embargo, para preservar la notación de los apuntes de teoría, haremos"
   ]
  },
  {
   "cell_type": "code",
   "execution_count": 36,
   "metadata": {},
   "outputs": [],
   "source": [
    "k = b"
   ]
  },
  {
   "cell_type": "markdown",
   "metadata": {},
   "source": [
    "El mensaje $M = (m_1, m_2)$ es"
   ]
  },
  {
   "cell_type": "code",
   "execution_count": 37,
   "metadata": {},
   "outputs": [
    {
     "data": {
      "text/plain": [
       "[xi^3 + xi^2 + 1, xi^4 + xi^2]"
      ]
     },
     "execution_count": 37,
     "metadata": {},
     "output_type": "execute_result"
    }
   ],
   "source": [
    "mensaje = [xi^3 + xi^2 + 1, xi^4 + xi^2]\n",
    "mensaje"
   ]
  },
  {
   "cell_type": "markdown",
   "metadata": {},
   "source": [
    "Podemos partir la clave en dos de la forma $(x_0, y_0) = k(aQ)$:"
   ]
  },
  {
   "cell_type": "code",
   "execution_count": 44,
   "metadata": {},
   "outputs": [
    {
     "data": {
      "text/plain": [
       "(xi^2 + xi + 1, xi^4 + xi^3)"
      ]
     },
     "execution_count": 44,
     "metadata": {},
     "output_type": "execute_result"
    }
   ],
   "source": [
    "x_0 = (k*(a*Q))[0]\n",
    "y_0 = (k*(a*Q))[1]\n",
    "\n",
    "x_0, y_0"
   ]
  },
  {
   "cell_type": "markdown",
   "metadata": {},
   "source": [
    "El mensaje que se va a transmitir es \n",
    "\n",
    "$$\n",
    "\\begin{aligned}\n",
    "E(M) & = E(m_1, m_2) = (kQ, M + k(aQ)) = \\\\ & = (kQ, x_0m_1, y_0m_2)\n",
    "\\end{aligned}\n",
    "$$"
   ]
  },
  {
   "cell_type": "code",
   "execution_count": 46,
   "metadata": {},
   "outputs": [
    {
     "name": "stdout",
     "output_type": "stream",
     "text": [
      "x_0 m_1 = xi^3 + xi\n",
      "y_0 m_2 = xi^3 + xi^2\n"
     ]
    }
   ],
   "source": [
    "x_0m_1 = mensaje[0] + (k*(a*Q))[0]\n",
    "y_0m_2 = mensaje[1] + (k*(a*Q))[1]\n",
    "\n",
    "print(\n",
    "      \"x_0 m_1 = \" + str(x_0m_1) \n",
    "    + \"\\ny_0 m_2 = \" + str(y_0m_2)\n",
    ")"
   ]
  },
  {
   "cell_type": "markdown",
   "metadata": {},
   "source": [
    "## Apartado 4"
   ]
  },
  {
   "cell_type": "markdown",
   "metadata": {},
   "source": [
    "Para descifrar el mensaje, Alice debe hacer\n",
    "\n",
    "$$\n",
    "\\begin{aligned}\n",
    "D(kQ, M + k(aQ)) & = M + k(aQ) - a(kQ) = \\\\ \n",
    "                 & = M\n",
    "\\end{aligned}\n",
    "$$"
   ]
  },
  {
   "cell_type": "code",
   "execution_count": 47,
   "metadata": {},
   "outputs": [
    {
     "data": {
      "text/plain": [
       "[xi^3 + xi^2 + 1, xi^4 + xi^2]"
      ]
     },
     "execution_count": 47,
     "metadata": {},
     "output_type": "execute_result"
    }
   ],
   "source": [
    "descifrado = [\n",
    "    x_0m_1 - (a*(k*Q))[0], \n",
    "    y_0m_2 - (a*(k*Q))[1]\n",
    "]\n",
    "descifrado"
   ]
  },
  {
   "cell_type": "code",
   "execution_count": 48,
   "metadata": {},
   "outputs": [
    {
     "data": {
      "text/plain": [
       "True"
      ]
     },
     "execution_count": 48,
     "metadata": {},
     "output_type": "execute_result"
    }
   ],
   "source": [
    "descifrado == mensaje"
   ]
  }
 ],
 "metadata": {
  "kernelspec": {
   "display_name": "SageMath 8.2",
   "language": "",
   "name": "sagemath"
  },
  "language_info": {
   "codemirror_mode": {
    "name": "ipython",
    "version": 2
   },
   "file_extension": ".py",
   "mimetype": "text/x-python",
   "name": "python",
   "nbconvert_exporter": "python",
   "pygments_lexer": "ipython2",
   "version": "2.7.14"
  }
 },
 "nbformat": 4,
 "nbformat_minor": 2
}
