{
 "cells": [
  {
   "cell_type": "markdown",
   "metadata": {},
   "source": [
    "# Ejercicio de curvas elípticas\n",
    "\n",
    "Sea $\\mathbb{F}_32 = \\mathbb{F}_2[\\xi]_{\\xi^5 + \\xi^2 + 1}$. Cada uno de vosotros, de acuerdo a su número de DNI, dispone de una curva elíptica sobre $\\mathbb{F}_{32}$ y un punto base dados en el cuadro 6.1.\n",
    "\n",
    "1. Calcula mediante el algoritmo de Shank o el 9, $log_Q{\\mathcal{O}}$.\n",
    "2. Para tu curva y tu punto base, genera un par de claves pública/privada para un protocolo ECDH.\n",
    "3. Cifra el mensaje $(\\xi^3 + \\xi^2 + 1, \\xi^4 + \\xi^2) \\in \\mathbb{F}^2_{32}$.\n",
    "4. Descifra el mensaje anterior."
   ]
  },
  {
   "cell_type": "markdown",
   "metadata": {},
   "source": [
    "Como mi DNI es"
   ]
  },
  {
   "cell_type": "code",
   "execution_count": 1,
   "metadata": {},
   "outputs": [],
   "source": [
    "dni = 77432071"
   ]
  },
  {
   "cell_type": "markdown",
   "metadata": {},
   "source": [
    "Tenemos que $\\text{dni} \\bmod 32$ da "
   ]
  },
  {
   "cell_type": "code",
   "execution_count": 2,
   "metadata": {},
   "outputs": [
    {
     "data": {
      "text/plain": [
       "7"
      ]
     },
     "execution_count": 2,
     "metadata": {},
     "output_type": "execute_result"
    }
   ],
   "source": [
    "dni.mod(32)"
   ]
  },
  {
   "cell_type": "markdown",
   "metadata": {},
   "source": [
    "Por lo que mis curvas son:\n",
    "\n",
    "$$\n",
    "\\begin{aligned}\n",
    "E(A, B) & = E(\\xi + 1, \\xi^4 + \\xi^3 + \\xi + 1) \\\\ \n",
    "Q & = (\\xi^3 + \\xi^2 + \\xi, \\xi^4 + \\xi^3 + \\xi^2 + \\xi + 1)\n",
    "\\end{aligned}\n",
    "$$"
   ]
  },
  {
   "cell_type": "code",
   "execution_count": 15,
   "metadata": {},
   "outputs": [],
   "source": [
    "F.<xi> = GF(2^5, modulus = GF(2)[x](x^5 + x^2 + 1))\n",
    "E = EllipticCurve(F, [1, xi + 1, 0, 0, xi^4 + xi^3 + xi + 1])\n",
    "Q = E.point((xi^3 + xi^2 + xi, xi^4 + xi^3 + xi^2 + xi + 1))"
   ]
  },
  {
   "cell_type": "code",
   "execution_count": 16,
   "metadata": {},
   "outputs": [
    {
     "data": {
      "text/plain": [
       "Elliptic Curve defined by y^2 + x*y = x^3 + (xi+1)*x^2 + (xi^4+xi^3+xi+1) over Finite Field in xi of size 2^5"
      ]
     },
     "execution_count": 16,
     "metadata": {},
     "output_type": "execute_result"
    }
   ],
   "source": [
    "E"
   ]
  },
  {
   "cell_type": "code",
   "execution_count": 17,
   "metadata": {},
   "outputs": [
    {
     "data": {
      "text/plain": [
       "(xi^3 + xi^2 + xi : xi^4 + xi^3 + xi^2 + xi + 1 : 1)"
      ]
     },
     "execution_count": 17,
     "metadata": {},
     "output_type": "execute_result"
    }
   ],
   "source": [
    "Q"
   ]
  },
  {
   "cell_type": "markdown",
   "metadata": {},
   "source": [
    "## Apartado 1"
   ]
  },
  {
   "cell_type": "markdown",
   "metadata": {},
   "source": [
    "## Apartado 2"
   ]
  },
  {
   "cell_type": "markdown",
   "metadata": {},
   "source": [
    "Para el algoritmo ECDH, fijamos $E = E(a, b)$ de forma que $\\|E\\| = hn$, con $n$ primo, $h$ pequeño y $\\|Q\\| = n$."
   ]
  },
  {
   "cell_type": "code",
   "execution_count": 19,
   "metadata": {
    "scrolled": true
   },
   "outputs": [
    {
     "data": {
      "text/plain": [
       "34"
      ]
     },
     "execution_count": 19,
     "metadata": {},
     "output_type": "execute_result"
    }
   ],
   "source": [
    "E.order()"
   ]
  },
  {
   "cell_type": "code",
   "execution_count": 20,
   "metadata": {},
   "outputs": [
    {
     "data": {
      "text/plain": [
       "17"
      ]
     },
     "execution_count": 20,
     "metadata": {},
     "output_type": "execute_result"
    }
   ],
   "source": [
    "Q.order()"
   ]
  },
  {
   "cell_type": "markdown",
   "metadata": {},
   "source": [
    "Podemos tomar "
   ]
  },
  {
   "cell_type": "code",
   "execution_count": 41,
   "metadata": {},
   "outputs": [],
   "source": [
    "n = 17\n",
    "h = 2"
   ]
  },
  {
   "cell_type": "code",
   "execution_count": 42,
   "metadata": {
    "scrolled": true
   },
   "outputs": [
    {
     "data": {
      "text/plain": [
       "True"
      ]
     },
     "execution_count": 42,
     "metadata": {},
     "output_type": "execute_result"
    }
   ],
   "source": [
    "n * h == E.order() and n == Q.order()"
   ]
  },
  {
   "cell_type": "markdown",
   "metadata": {},
   "source": [
    "Ahora Alice debe escoger un número aleatorio $a$ que se encuentre entre $2 \\le a \\le n-1$, y hacer público $(E, Q, aQ)$"
   ]
  },
  {
   "cell_type": "code",
   "execution_count": 43,
   "metadata": {},
   "outputs": [],
   "source": [
    "a = ZZ.random_element(2, n)"
   ]
  },
  {
   "cell_type": "code",
   "execution_count": 44,
   "metadata": {},
   "outputs": [
    {
     "data": {
      "text/plain": [
       "(xi^3 + xi : xi^4 + xi^3 + xi^2 + xi + 1 : 1)"
      ]
     },
     "execution_count": 44,
     "metadata": {},
     "output_type": "execute_result"
    }
   ],
   "source": [
    "clave_alice = a*Q\n",
    "clave_alice"
   ]
  },
  {
   "cell_type": "markdown",
   "metadata": {},
   "source": [
    "Vamos ahora a generar la clave privada. Para ello, Bob escoge $k$ tal que $2 \\le k \\le n-1$"
   ]
  },
  {
   "cell_type": "code",
   "execution_count": 45,
   "metadata": {},
   "outputs": [],
   "source": [
    "k = ZZ.random_element(2, n)"
   ]
  },
  {
   "cell_type": "markdown",
   "metadata": {},
   "source": [
    "Por lo que "
   ]
  },
  {
   "cell_type": "code",
   "execution_count": 50,
   "metadata": {},
   "outputs": [
    {
     "data": {
      "text/plain": [
       "(xi^4 + xi^3 + xi^2 + xi : xi^2 + xi : 1)"
      ]
     },
     "execution_count": 50,
     "metadata": {},
     "output_type": "execute_result"
    }
   ],
   "source": [
    "clave_bob = k * Q\n",
    "clave_bob"
   ]
  },
  {
   "cell_type": "markdown",
   "metadata": {},
   "source": [
    "Bob transmitirá la siguiente clave:"
   ]
  },
  {
   "cell_type": "code",
   "execution_count": 54,
   "metadata": {},
   "outputs": [
    {
     "data": {
      "text/plain": [
       "(xi^3 + xi^2 + xi : xi^4 + 1 : 1)"
      ]
     },
     "execution_count": 54,
     "metadata": {},
     "output_type": "execute_result"
    }
   ],
   "source": [
    "clave_bob_compartida = a * clave_bob\n",
    "clave_bob_compartida"
   ]
  },
  {
   "cell_type": "markdown",
   "metadata": {},
   "source": [
    "Así que, en conjunto, las claves son"
   ]
  },
  {
   "cell_type": "code",
   "execution_count": 56,
   "metadata": {},
   "outputs": [
    {
     "data": {
      "text/plain": [
       "((xi^3 + xi : xi^4 + xi^3 + xi^2 + xi + 1 : 1),\n",
       " (xi^4 + xi^3 + xi^2 + xi : xi^2 + xi : 1),\n",
       " (xi^3 + xi^2 + xi : xi^4 + 1 : 1))"
      ]
     },
     "execution_count": 56,
     "metadata": {},
     "output_type": "execute_result"
    }
   ],
   "source": [
    "clave_alice, clave_bob, clave_bob_compartida"
   ]
  },
  {
   "cell_type": "markdown",
   "metadata": {},
   "source": [
    "Podemos verificar que se han escogido correctamente: "
   ]
  },
  {
   "cell_type": "code",
   "execution_count": 48,
   "metadata": {},
   "outputs": [
    {
     "data": {
      "text/plain": [
       "True"
      ]
     },
     "execution_count": 48,
     "metadata": {},
     "output_type": "execute_result"
    }
   ],
   "source": [
    "a * clave_bob == k * clave_alice"
   ]
  },
  {
   "cell_type": "markdown",
   "metadata": {},
   "source": [
    "## Apartado 3"
   ]
  },
  {
   "cell_type": "markdown",
   "metadata": {},
   "source": [
    "El mensaje $M = (m_1, m_2)$ es"
   ]
  },
  {
   "cell_type": "code",
   "execution_count": 59,
   "metadata": {},
   "outputs": [
    {
     "data": {
      "text/plain": [
       "[xi^3 + xi^2 + 1, xi^4 + xi^2]"
      ]
     },
     "execution_count": 59,
     "metadata": {},
     "output_type": "execute_result"
    }
   ],
   "source": [
    "mensaje = [xi^3 + xi^2 + 1, xi^4 + xi^2]\n",
    "mensaje"
   ]
  },
  {
   "cell_type": "markdown",
   "metadata": {},
   "source": [
    "Podemos partir la clave en dos de la forma $(x_0, y_0) = k(aQ)$:"
   ]
  },
  {
   "cell_type": "code",
   "execution_count": 112,
   "metadata": {},
   "outputs": [
    {
     "data": {
      "text/plain": [
       "(xi^3 + xi^2 + xi, xi^4 + 1)"
      ]
     },
     "execution_count": 112,
     "metadata": {},
     "output_type": "execute_result"
    }
   ],
   "source": [
    "(k*(a*Q))[0], (k*(a*Q))[1]"
   ]
  },
  {
   "cell_type": "markdown",
   "metadata": {},
   "source": [
    "El mensaje que se va a transmitir es \n",
    "\n",
    "$$\n",
    "\\begin{aligned}\n",
    "E(M) & = E(m_1, m_2) = (kQ, M + k(aQ)) = \\\\ & = (kQ, x_0m_1, y_0m_2)\n",
    "\\end{aligned}\n",
    "$$"
   ]
  },
  {
   "cell_type": "code",
   "execution_count": 113,
   "metadata": {},
   "outputs": [
    {
     "name": "stdout",
     "output_type": "stream",
     "text": [
      "kQ      = (xi^4 + xi^3 + xi^2 + xi : xi^2 + xi : 1)\n",
      "x_0 m_1 = xi + 1\n",
      "y_0 m_2 = xi^2 + 1\n"
     ]
    }
   ],
   "source": [
    "x0m1 = mensaje[0] + (k*(a*Q))[0]\n",
    "y0m2 = mensaje[1] + (k*(a*Q))[1]\n",
    "\n",
    "print(\n",
    "        \"kQ      = \" + str(k*Q) \n",
    "    + \"\\nx_0 m_1 = \" + str(x0m1) \n",
    "    + \"\\ny_0 m_2 = \" + str(y0m2)\n",
    ")"
   ]
  },
  {
   "cell_type": "markdown",
   "metadata": {},
   "source": [
    "## Apartado 4"
   ]
  },
  {
   "cell_type": "markdown",
   "metadata": {},
   "source": [
    "Para descifrar el mensaje, Alice debe hacer\n",
    "\n",
    "$$\n",
    "\\begin{aligned}\n",
    "D(kQ, M + k(aQ)) & = M + k(aQ) - a(kQ) = \\\\ \n",
    "                 & = M\n",
    "\\end{aligned}\n",
    "$$"
   ]
  },
  {
   "cell_type": "code",
   "execution_count": 121,
   "metadata": {},
   "outputs": [
    {
     "data": {
      "text/plain": [
       "[xi^3 + xi^2 + 1, xi^4 + xi^2]"
      ]
     },
     "execution_count": 121,
     "metadata": {},
     "output_type": "execute_result"
    }
   ],
   "source": [
    "descifrado = [\n",
    "    x0m1 - (a*(k*Q))[0], \n",
    "    y0m2 - (a*(k*Q))[1]\n",
    "]\n",
    "descifrado"
   ]
  },
  {
   "cell_type": "code",
   "execution_count": 122,
   "metadata": {},
   "outputs": [
    {
     "data": {
      "text/plain": [
       "True"
      ]
     },
     "execution_count": 122,
     "metadata": {},
     "output_type": "execute_result"
    }
   ],
   "source": [
    "descifrado == mensaje"
   ]
  }
 ],
 "metadata": {
  "kernelspec": {
   "display_name": "SageMath 8.2",
   "language": "",
   "name": "sagemath"
  },
  "language_info": {
   "codemirror_mode": {
    "name": "ipython",
    "version": 2
   },
   "file_extension": ".py",
   "mimetype": "text/x-python",
   "name": "python",
   "nbconvert_exporter": "python",
   "pygments_lexer": "ipython2",
   "version": "2.7.14"
  }
 },
 "nbformat": 4,
 "nbformat_minor": 2
}
